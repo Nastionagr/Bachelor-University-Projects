{
 "cells": [
  {
   "cell_type": "markdown",
   "id": "5ade6611",
   "metadata": {},
   "source": [
    "# IAU Project - Phase 3 (Machine Learning)\n",
    "\n",
    "Dataset: 049\n",
    "\n",
    "Authors: **Lubomir Dlhy** (50%) & **Anastasiia Hrytsyna** (50%)\n",
    "\n",
    "## ! The notebook has to run in a 'trusted' mode in order to view all of the output markdowns !"
   ]
  },
  {
   "cell_type": "code",
   "execution_count": 33,
   "id": "6631d4ae",
   "metadata": {},
   "outputs": [],
   "source": [
    "# Imports & Initialization\n",
    "import matplotlib.pyplot as plt\n",
    "import seaborn as sns\n",
    "import pandas as pd\n",
    "import numpy as np\n",
    "from datetime import date\n",
    "import category_encoders as ce\n",
    "import warnings\n",
    "from sklearn.impute import SimpleImputer\n",
    "from sklearn.preprocessing import Normalizer, PowerTransformer, StandardScaler, FunctionTransformer\n",
    "from sklearn.compose import ColumnTransformer, make_column_selector as selector\n",
    "from sklearn.pipeline import Pipeline, make_pipeline\n",
    "from sklearn.metrics import classification_report\n",
    "from sklearn.feature_selection import SelectKBest\n",
    "from sklearn.model_selection import train_test_split, GridSearchCV, validation_curve, cross_val_score\n",
    "from sklearn.ensemble import RandomForestClassifier\n",
    "from sklearn.tree import DecisionTreeClassifier\n",
    "from sklearn import tree\n",
    "from sklearn.base import BaseEstimator, ClassifierMixin\n",
    "from IPython.display import Markdown, display\n",
    "from sklearn import set_config\n",
    "import itertools\n",
    "set_config(display='diagram')\n",
    "warnings.simplefilter(action='ignore', category=FutureWarning)\n",
    "pd.set_option('mode.chained_assignment', None)\n",
    "np.seterr(divide='ignore', invalid='ignore')\n",
    "RAND_STATE = 22\n",
    "def printmd(string):\n",
    "    display(Markdown(string))"
   ]
  },
  {
   "cell_type": "markdown",
   "id": "e0b99f53",
   "metadata": {},
   "source": [
    "### Loading and merging the dataset"
   ]
  },
  {
   "cell_type": "code",
   "execution_count": 34,
   "id": "452b675b",
   "metadata": {
    "scrolled": false
   },
   "outputs": [],
   "source": [
    "# Initialization of the data\n",
    "labor_filename = \"data/labor.csv\"\n",
    "profile_filename = \"data/profiles.csv\"\n",
    "\n",
    "df_labor = pd.read_csv(labor_filename, sep='\\t', index_col=0)\n",
    "df_profile = pd.read_csv(profile_filename, sep='\\t', index_col=0)\n",
    "\n",
    "df_merged = pd.merge(df_labor.drop(columns=['name']), df_profile, how=\"inner\", on='ssn')"
   ]
  },
  {
   "cell_type": "markdown",
   "id": "a6c690be",
   "metadata": {},
   "source": [
    "### Data cleaning"
   ]
  },
  {
   "cell_type": "code",
   "execution_count": 35,
   "id": "45533ee6",
   "metadata": {},
   "outputs": [],
   "source": [
    "# Implement the function for age calculation\n",
    "def calculate_age(born):\n",
    "    today = date.today()\n",
    "    return today.year - born.year - ((today.month, today.day) < (born.month, born.day))\n",
    "\n",
    "# We deleted all duplicates from the dataset as they are not relevant for the future discovery\n",
    "df_merged = df_merged.drop_duplicates()\n",
    "\n",
    "# Correct weight attribute to the positive value and round it\n",
    "df_merged['weight'] = df_merged['weight'].apply(lambda x: x*(-1) if x < 0 else x)\n",
    "df_merged['weight'] = df_merged['weight'].round(2)\n",
    "\n",
    "# Correct some small grammar mistakes\n",
    "df_merged['relationship'] = df_merged['relationship'].replace({'divoced':'divorced'})\n",
    "df_merged['relationship'] = df_merged['relationship'].replace({'nop':'single'})\n",
    "df_merged['race'] = df_merged['race'].replace({\"black\":\"Black\", 'white':\"White\", \"blsck\":\"Black\"})\n",
    "\n",
    "# Fitting the info about smoking habits \n",
    "df_merged['smoker'] = df_merged['smoker'].replace({\"yes\":1, 'Y':1, \"no\":0, 'N':0})\n",
    "\n",
    "# Modify the data types\n",
    "df_merged = df_merged.astype({'indicator':'int','relationship':'category', 'blood_group': 'category','sex': 'category', 'race': 'category'})\n",
    "df_merged['birthdate'] = pd.to_datetime(df_merged.birthdate)\n",
    "df_merged['age'] = df_merged['birthdate'].apply(calculate_age)\n",
    "\n",
    "# We also decided to erase all worthless for machine learning string columns\n",
    "cols_string = df_merged.select_dtypes(include=['object','datetime']).columns\n",
    "df_merged = df_merged.drop(columns=cols_string)"
   ]
  },
  {
   "cell_type": "markdown",
   "id": "3206cad3",
   "metadata": {},
   "source": [
    "### Preprocessing"
   ]
  },
  {
   "cell_type": "markdown",
   "id": "78aa06a1",
   "metadata": {},
   "source": [
    "- All of the functions below are created for outliers management."
   ]
  },
  {
   "cell_type": "code",
   "execution_count": 36,
   "id": "89fb163f",
   "metadata": {},
   "outputs": [],
   "source": [
    "def fix_outliers_mean(x):\n",
    "    upper_quartile, lower_quartile = np.percentile(x, 75), np.percentile(x, 25)\n",
    "    IQR = upper_quartile - lower_quartile\n",
    "    upper_whisker, lower_whisker = upper_quartile + 1.5 * IQR, lower_quartile - 1.5 * IQR\n",
    "    return np.where((x < lower_whisker) | (x > upper_whisker), np.percentile(x, 50), x)  \n",
    "\n",
    "def fix_outliers_10_90(x):\n",
    "    upper_quartile, lower_quartile = np.percentile(x, 75), np.percentile(x, 25)\n",
    "    IQR = upper_quartile - lower_quartile\n",
    "    upper_whisker, lower_whisker = upper_quartile + 1.5 * IQR, lower_quartile - 1.5 * IQR\n",
    "    x[x < lower_whisker] = np.percentile(x, 10)\n",
    "    x[x > upper_whisker] = np.percentile(x, 90)  \n",
    "    return x             \n",
    "\n",
    "def fix_outliers(x, y, impute_outliers=None):\n",
    "    if y is not None:\n",
    "        res_y = y.copy().reset_index(drop=True) if isinstance(y, pd.Series) else y.copy()\n",
    "    res = x.copy().reset_index(drop=True) if isinstance(x, pd.DataFrame) else x.copy()\n",
    "    idxs = set()\n",
    "    for colidx, col in enumerate(res.select_dtypes(include='number') if isinstance(res, pd.DataFrame) else res.T):\n",
    "        if isinstance(res, pd.DataFrame):\n",
    "            col = np.asarray(res[col])\n",
    "        upper_quartile, lower_quartile = np.percentile(col, 75), np.percentile(col, 25)\n",
    "        IQR = upper_quartile - lower_quartile\n",
    "        upper_whisker, lower_whisker = upper_quartile + 1.5 * IQR, lower_quartile - 1.5 * IQR \n",
    "        if np.count_nonzero((col < lower_whisker) | (col > upper_whisker)) < 100:\n",
    "            idxs.update(np.where((col < lower_whisker) | (col > upper_whisker))[0])\n",
    "        elif impute_outliers == 'mean':\n",
    "            if isinstance(res, pd.DataFrame):\n",
    "                res.iloc[:, colidx] = fix_outliers_mean(col)\n",
    "            else:\n",
    "                res[:, colidx] = fix_outliers_mean(col)\n",
    "        elif impute_outliers == '10_90':\n",
    "            if isinstance(res, pd.DataFrame):\n",
    "                res.iloc[:, colidx] = fix_outliers_10_90(col)\n",
    "            else:\n",
    "                res[:, colidx] = fix_outliers_10_90(col)\n",
    "    if y is not None:\n",
    "        return res.drop(list(idxs), axis=0), res_y.drop(list(idxs), axis=0) \n",
    "    else:\n",
    "        return res.drop(list(idxs), axis=0), y "
   ]
  },
  {
   "cell_type": "markdown",
   "id": "70a77e54",
   "metadata": {},
   "source": [
    "- We've also defined our own class CustomPipe that creates the Pipeline with all custom transformations and classifier from the parameters that the user inputs. This class is used to analyze different parameters and settings such as scaler, normalizer, outlier removal, N/A management etc."
   ]
  },
  {
   "cell_type": "code",
   "execution_count": 37,
   "id": "0f4fba74",
   "metadata": {
    "scrolled": false
   },
   "outputs": [],
   "source": [
    "class CustomPipe():\n",
    "    def __init__(self, na='mean', remove_outliers=True, impute_outliers = 'mean', scale=False, normalize=False, features=False, classifier=DecisionTreeClassifier, classifierArgs={}):\n",
    "        self.na = na\n",
    "        self.remove_outliers = remove_outliers\n",
    "        self.impute_outliers = impute_outliers\n",
    "        self.scale = scale\n",
    "        self.normalize = normalize\n",
    "        self.features = features\n",
    "        self.classifier = classifier\n",
    "        self.classifierArgs = classifierArgs\n",
    "        self.fitted = False\n",
    "        \n",
    "        numeric_transformer = make_pipeline(SimpleImputer(strategy=na) if na != 'drop' else 'passthrough')\n",
    "        categorical_transformer = make_pipeline(ce.OrdinalEncoder())\n",
    "        preprocessor = ColumnTransformer(\n",
    "            transformers=[\n",
    "                (\"numeric\", numeric_transformer, selector(dtype_exclude=\"category\")),\n",
    "                (\"categoric\", categorical_transformer, selector(dtype_include=\"category\")),\n",
    "            ]\n",
    "        )\n",
    "        transformers = [('preprocessor', preprocessor)]\n",
    "        if scale:\n",
    "            transformers.append(('scale', StandardScaler()))\n",
    "        if normalize:\n",
    "            transformers.append(('normalize', Normalizer()))\n",
    "        if type(features) == int:\n",
    "            transformers.append(('selection', SelectKBest(k=features)))\n",
    "        transformers.append(('classifier', classifier(random_state=RAND_STATE, **classifierArgs)))\n",
    "        self.pipe = Pipeline(transformers)\n",
    "        \n",
    "    def fit(self, x, y):\n",
    "        if self.fitted:\n",
    "            raise Exception('Pipe already fitted!') \n",
    "        else:\n",
    "            self.fitted = True\n",
    "            x, y = self.transform(x, y)\n",
    "            return self.pipe.fit(x, y)\n",
    "        \n",
    "    def transform(self, x, y = None):\n",
    "        if self.na == 'drop':\n",
    "            x = x.dropna()\n",
    "            if y is not None:\n",
    "                y = y[y.index.isin(x.index)]\n",
    "\n",
    "        if self.remove_outliers:\n",
    "            x, y = fix_outliers(x, y, self.impute_outliers)\n",
    "            \n",
    "        if self.features is not None and isinstance(x, list):\n",
    "            x = x[features]\n",
    "        return x, y if y is not None else x\n",
    "    \n",
    "    def predict(self, x):\n",
    "        return self.pipe.predict(x)\n",
    "    \n",
    "    def score(self, x, y):\n",
    "        return self.pipe.score(x, y)"
   ]
  },
  {
   "cell_type": "markdown",
   "id": "c09461e9",
   "metadata": {},
   "source": [
    "- In the following section we've defined a few functions to evaluate and demonstrate the model's performance."
   ]
  },
  {
   "cell_type": "code",
   "execution_count": 38,
   "id": "12305fce",
   "metadata": {},
   "outputs": [],
   "source": [
    "def eval_model(model, x, y):\n",
    "    y_pred = model.predict(x)\n",
    "    report = classification_report(y, y_pred, output_dict=True)\n",
    "    return pd.DataFrame(report).transpose()\n",
    "\n",
    "def eval_model_tests(model, X, x, Y, y):\n",
    "    if (isinstance(model, CustomPipe)):\n",
    "        X, Y = model.transform(X, Y)\n",
    "        x, y = model.transform(x, y)\n",
    "    printmd(f\"**Train data:**\")\n",
    "    print(eval_model(model, X, Y))\n",
    "    printmd(f\"**Test data:**\")\n",
    "    print(eval_model(model, x, y))\n",
    "    \n",
    "def eval_model_accuracy(model, X, x, Y, y, dt = True):\n",
    "    if (isinstance(model, CustomPipe)):\n",
    "        X, Y = model.transform(X, Y)\n",
    "        x, y = model.transform(x, y)\n",
    "        model = model.pipe\n",
    "    res = model.score(x, y)\n",
    "    res_cv = cross_val_score(model, X, Y, cv=3).mean()\n",
    "    printmd(f\"_Train data accuracy:_ **{model.score(X, Y):.3f}**\")\n",
    "    printmd(f\"_Train data cross-val(k=3) accuracy:_ **{res_cv:.3f}**\")\n",
    "    printmd(f\"_Test data accuracy:_ **{res:.3f}**\")\n",
    "    \n",
    "    if 'default_score_dt' in globals():\n",
    "        change_dt = (res - default_score_dt) / default_score_dt * 100\n",
    "        printmd(f\"<span style='color:{'green' if change_dt >= 0 else 'red'}'>**{change_dt:.2f}%** compared to default DecisionTree ({default_score_dt:.3f})</span>\")\n",
    "    \n",
    "    if 'default_score_rf' in globals():\n",
    "        change_rf = (res - default_score_rf) / default_score_rf * 100\n",
    "        printmd(f\"<span style='color:{'green' if change_rf >= 0 else 'red'}'>**{change_rf:.2f}%** compared to default RandomForest ({default_score_rf:.3f})</span>\")\n",
    "    \n",
    "    if 'best_model_score' in globals():\n",
    "        change_bm = (res_cv - best_model_score) / best_model_score * 100\n",
    "        printmd(f\"<span style='color:{'green' if change_bm >= 0 else 'red'}'>**{change_bm:.2f}%** compared to Best Model Score ({best_model_score:.3f})</span>\")"
   ]
  },
  {
   "cell_type": "markdown",
   "id": "99483934",
   "metadata": {},
   "source": [
    "### Machine Learning"
   ]
  },
  {
   "cell_type": "markdown",
   "id": "1db25a33",
   "metadata": {},
   "source": [
    "- We divided our dataset into train and test sets with ratio 80% - 20% without N/A values as classifiers do not accept them."
   ]
  },
  {
   "cell_type": "code",
   "execution_count": 39,
   "id": "425d64c5",
   "metadata": {},
   "outputs": [],
   "source": [
    "dropped_na = df_merged.dropna()\n",
    "df_x, df_y = dropped_na.drop(columns=['indicator']),dropped_na['indicator']\n",
    "df_x_train, df_x_test, df_y_train, df_y_test = train_test_split(df_x, df_y, test_size = 0.2, random_state=RAND_STATE)"
   ]
  },
  {
   "cell_type": "markdown",
   "id": "0aa15088",
   "metadata": {},
   "source": [
    "#### Down below is our own implemented One Rule Classifier.\n",
    "\n",
    "It executes in the following manner:\n",
    "\n",
    "1. Firstly, the train data is passed to the **fit** function, from which the model learns a single rule.\n",
    "    - this set of data we split into categorical and numerical groups\n",
    "    - numerical data was transformed into 10 quantiles, so that we discretized the continuous values; all boundaries are stored as pandas Intervals in the dictionary keys\n",
    "    - afterwards, we generated frequency tables for each unique value of the column and our target (indicator); each value in the table demonstrates how many times the indicator is 0 or 1.\n",
    "    - we chose the dominant frequency for each row and calculated the accuracy of that feature\n",
    "    - finally, we compared all of the feature's accuracies and picked the best rule (etytr)\n",
    "\n",
    "\n",
    "2. Secondly, we checked our model with the train & test data using the **predict** function.\n",
    "    - using the learnt rule, the model picks one feature and predicts the output value \n",
    "\n",
    "\n",
    "#### To sum up, we found out that the accuracy of model on the train data is 67.18% and on the test data 66.91%\n",
    "\n",
    "The low rate of both outputs can be explained in the next way:\n",
    "- the decision is simple and relies on only one attribute\n",
    "- there is weak correlation between all of the attributes and target (indicator)"
   ]
  },
  {
   "cell_type": "code",
   "execution_count": 40,
   "id": "d143cdc3",
   "metadata": {},
   "outputs": [
    {
     "data": {
      "text/markdown": [
       "**One Rule Classifier**"
      ],
      "text/plain": [
       "<IPython.core.display.Markdown object>"
      ]
     },
     "metadata": {},
     "output_type": "display_data"
    },
    {
     "data": {
      "text/markdown": [
       "**er-cv** = 0.640"
      ],
      "text/plain": [
       "<IPython.core.display.Markdown object>"
      ]
     },
     "metadata": {},
     "output_type": "display_data"
    },
    {
     "data": {
      "text/markdown": [
       "**weight** = 0.640"
      ],
      "text/plain": [
       "<IPython.core.display.Markdown object>"
      ]
     },
     "metadata": {},
     "output_type": "display_data"
    },
    {
     "data": {
      "text/markdown": [
       "**relationship** = 0.640"
      ],
      "text/plain": [
       "<IPython.core.display.Markdown object>"
      ]
     },
     "metadata": {},
     "output_type": "display_data"
    },
    {
     "data": {
      "text/markdown": [
       "**alt** = 0.645"
      ],
      "text/plain": [
       "<IPython.core.display.Markdown object>"
      ]
     },
     "metadata": {},
     "output_type": "display_data"
    },
    {
     "data": {
      "text/markdown": [
       "**trombocyty** = 0.640"
      ],
      "text/plain": [
       "<IPython.core.display.Markdown object>"
      ]
     },
     "metadata": {},
     "output_type": "display_data"
    },
    {
     "data": {
      "text/markdown": [
       "**hematokrit** = 0.640"
      ],
      "text/plain": [
       "<IPython.core.display.Markdown object>"
      ]
     },
     "metadata": {},
     "output_type": "display_data"
    },
    {
     "data": {
      "text/markdown": [
       "**ast** = 0.640"
      ],
      "text/plain": [
       "<IPython.core.display.Markdown object>"
      ]
     },
     "metadata": {},
     "output_type": "display_data"
    },
    {
     "data": {
      "text/markdown": [
       "**alp** = 0.640"
      ],
      "text/plain": [
       "<IPython.core.display.Markdown object>"
      ]
     },
     "metadata": {},
     "output_type": "display_data"
    },
    {
     "data": {
      "text/markdown": [
       "**leukocyty** = 0.648"
      ],
      "text/plain": [
       "<IPython.core.display.Markdown object>"
      ]
     },
     "metadata": {},
     "output_type": "display_data"
    },
    {
     "data": {
      "text/markdown": [
       "**erytrocyty** = 0.660"
      ],
      "text/plain": [
       "<IPython.core.display.Markdown object>"
      ]
     },
     "metadata": {},
     "output_type": "display_data"
    },
    {
     "data": {
      "text/markdown": [
       "**etytr** = 0.672"
      ],
      "text/plain": [
       "<IPython.core.display.Markdown object>"
      ]
     },
     "metadata": {},
     "output_type": "display_data"
    },
    {
     "data": {
      "text/markdown": [
       "**hemoglobin** = 0.640"
      ],
      "text/plain": [
       "<IPython.core.display.Markdown object>"
      ]
     },
     "metadata": {},
     "output_type": "display_data"
    },
    {
     "data": {
      "text/markdown": [
       "**hbver** = 0.640"
      ],
      "text/plain": [
       "<IPython.core.display.Markdown object>"
      ]
     },
     "metadata": {},
     "output_type": "display_data"
    },
    {
     "data": {
      "text/markdown": [
       "**smoker** = 0.640"
      ],
      "text/plain": [
       "<IPython.core.display.Markdown object>"
      ]
     },
     "metadata": {},
     "output_type": "display_data"
    },
    {
     "data": {
      "text/markdown": [
       "**blood_group** = 0.640"
      ],
      "text/plain": [
       "<IPython.core.display.Markdown object>"
      ]
     },
     "metadata": {},
     "output_type": "display_data"
    },
    {
     "data": {
      "text/markdown": [
       "**sex** = 0.640"
      ],
      "text/plain": [
       "<IPython.core.display.Markdown object>"
      ]
     },
     "metadata": {},
     "output_type": "display_data"
    },
    {
     "data": {
      "text/markdown": [
       "**race** = 0.640"
      ],
      "text/plain": [
       "<IPython.core.display.Markdown object>"
      ]
     },
     "metadata": {},
     "output_type": "display_data"
    },
    {
     "data": {
      "text/markdown": [
       "**age** = 0.640"
      ],
      "text/plain": [
       "<IPython.core.display.Markdown object>"
      ]
     },
     "metadata": {},
     "output_type": "display_data"
    },
    {
     "data": {
      "text/markdown": [
       "#### Final rule: etytr, Accuracy: 0.672"
      ],
      "text/plain": [
       "<IPython.core.display.Markdown object>"
      ]
     },
     "metadata": {},
     "output_type": "display_data"
    },
    {
     "data": {
      "text/markdown": [
       "**Train data:**"
      ],
      "text/plain": [
       "<IPython.core.display.Markdown object>"
      ]
     },
     "metadata": {},
     "output_type": "display_data"
    },
    {
     "name": "stdout",
     "output_type": "stream",
     "text": [
      "              precision    recall  f1-score      support\n",
      "0              0.578187  0.321990  0.413631  2733.000000\n",
      "1              0.695230  0.868145  0.772125  4869.000000\n",
      "accuracy       0.671797  0.671797  0.671797     0.671797\n",
      "macro avg      0.636708  0.595068  0.592878  7602.000000\n",
      "weighted avg   0.653152  0.671797  0.643243  7602.000000\n"
     ]
    },
    {
     "data": {
      "text/markdown": [
       "**Test data:**"
      ],
      "text/plain": [
       "<IPython.core.display.Markdown object>"
      ]
     },
     "metadata": {},
     "output_type": "display_data"
    },
    {
     "name": "stdout",
     "output_type": "stream",
     "text": [
      "              precision    recall  f1-score      support\n",
      "0              0.538071  0.321700  0.402659   659.000000\n",
      "1              0.703384  0.853462  0.771190  1242.000000\n",
      "accuracy       0.669122  0.669122  0.669122     0.669122\n",
      "macro avg      0.620728  0.587581  0.586924  1901.000000\n",
      "weighted avg   0.646077  0.669122  0.643435  1901.000000\n"
     ]
    }
   ],
   "source": [
    "class OneRuleClassifier(BaseEstimator, ClassifierMixin):\n",
    "    def __init__(self):\n",
    "        self.rules = ()\n",
    "    \n",
    "    def make_rule(self, freq):\n",
    "        res = {}\n",
    "        sum_true = 0\n",
    "        for index, value in freq.idxmax(axis=1).items():\n",
    "            res[index] = value\n",
    "            sum_true += freq.loc[index, value]\n",
    "        return res, sum_true\n",
    "    \n",
    "    def fit(self, X, y):\n",
    "        num_rows = len(X.index)\n",
    "        max_rule = None\n",
    "        max_rule_acc = None\n",
    "        for col in X:\n",
    "            if(X[col].dtypes.name == 'category'):\n",
    "                rule, sum_true = self.make_rule(pd.crosstab(X[col], y))\n",
    "                accuracy = sum_true / num_rows\n",
    "                printmd(f\"**{col}** = {accuracy:.3f}\")\n",
    "                if max_rule_acc is None or max_rule_acc < accuracy:\n",
    "                    max_rule_acc = accuracy\n",
    "                    max_rule = (col, rule)\n",
    "            else:\n",
    "                rule, sum_true = self.make_rule(pd.crosstab(pd.qcut(X[col], q=10, duplicates='drop'), y))\n",
    "                accuracy = sum_true / num_rows\n",
    "                printmd(f\"**{col}** = {accuracy:.3f}\")\n",
    "                if max_rule_acc is None or max_rule_acc < accuracy:\n",
    "                    max_rule_acc = accuracy\n",
    "                    max_rule = (col, rule)\n",
    "        self.rules = max_rule\n",
    "        \n",
    "        startInterval = list(max_rule[1].keys())[0]\n",
    "        endInterval = list(max_rule[1].keys())[-1]\n",
    "        \n",
    "        max_rule[1][pd.Interval(-np.inf, startInterval.right, closed='right')] = max_rule[1][startInterval]\n",
    "        del max_rule[1][startInterval]\n",
    "        \n",
    "        max_rule[1][pd.Interval(endInterval.left, np.inf, closed='neither')] = max_rule[1][endInterval]\n",
    "        del max_rule[1][endInterval]\n",
    "        \n",
    "        printmd(f\"#### Final rule: {max_rule[0]}, Accuracy: {max_rule_acc:.3f}\")\n",
    "        return self\n",
    "    \n",
    "    def predict(self, X):\n",
    "        data = []\n",
    "        col = self.rules[0]\n",
    "        for index, value in X[col].items():\n",
    "            for interval, indicator in self.rules[1].items():\n",
    "                if value in interval:\n",
    "                    data.append(indicator)\n",
    "        return pd.Series(data)\n",
    "\n",
    "printmd(\"**One Rule Classifier**\")\n",
    "oner = OneRuleClassifier()\n",
    "oner = oner.fit(df_x_train, df_y_train)\n",
    "eval_model_tests(oner, df_x_train, df_x_test, df_y_train, df_y_test)"
   ]
  },
  {
   "cell_type": "code",
   "execution_count": 41,
   "id": "ee1217e8",
   "metadata": {},
   "outputs": [],
   "source": [
    "df_x, df_y = df_merged.drop(columns=['indicator']),df_merged['indicator']\n",
    "df_x_train, df_x_test, df_y_train, df_y_test = train_test_split(df_x, df_y, test_size = 0.2, random_state=RAND_STATE)"
   ]
  },
  {
   "cell_type": "markdown",
   "id": "6556ad76",
   "metadata": {},
   "source": [
    "#### In the next step, we performed Decision Tree classification by using our custom Pipeline\n",
    "\n",
    "Due to the default settings we got the total model accuracy on **test data 87.19%**, while the accuracy on **train data** was **100%**. These results demonstrate us a slightly overfit, so we have decided to improve the precision value on the test data."
   ]
  },
  {
   "cell_type": "code",
   "execution_count": 42,
   "id": "09dc54ee",
   "metadata": {
    "scrolled": false
   },
   "outputs": [
    {
     "data": {
      "text/markdown": [
       "#### Decision Tree with default settings"
      ],
      "text/plain": [
       "<IPython.core.display.Markdown object>"
      ]
     },
     "metadata": {},
     "output_type": "display_data"
    },
    {
     "data": {
      "text/markdown": [
       "**Train data:**"
      ],
      "text/plain": [
       "<IPython.core.display.Markdown object>"
      ]
     },
     "metadata": {},
     "output_type": "display_data"
    },
    {
     "name": "stdout",
     "output_type": "stream",
     "text": [
      "              precision  recall  f1-score  support\n",
      "0                   1.0     1.0       1.0   2796.0\n",
      "1                   1.0     1.0       1.0   5017.0\n",
      "accuracy            1.0     1.0       1.0      1.0\n",
      "macro avg           1.0     1.0       1.0   7813.0\n",
      "weighted avg        1.0     1.0       1.0   7813.0\n"
     ]
    },
    {
     "data": {
      "text/markdown": [
       "**Test data:**"
      ],
      "text/plain": [
       "<IPython.core.display.Markdown object>"
      ]
     },
     "metadata": {},
     "output_type": "display_data"
    },
    {
     "name": "stdout",
     "output_type": "stream",
     "text": [
      "              precision    recall  f1-score      support\n",
      "0              0.810056  0.834532  0.822112   695.000000\n",
      "1              0.907556  0.892490  0.899960  1265.000000\n",
      "accuracy       0.871939  0.871939  0.871939     0.871939\n",
      "macro avg      0.858806  0.863511  0.861036  1960.000000\n",
      "weighted avg   0.872983  0.871939  0.872356  1960.000000\n"
     ]
    },
    {
     "data": {
      "text/html": [
       "<style>#sk-030ce756-415a-48a8-9c9c-86e2ef7bf5d9 {color: black;background-color: white;}#sk-030ce756-415a-48a8-9c9c-86e2ef7bf5d9 pre{padding: 0;}#sk-030ce756-415a-48a8-9c9c-86e2ef7bf5d9 div.sk-toggleable {background-color: white;}#sk-030ce756-415a-48a8-9c9c-86e2ef7bf5d9 label.sk-toggleable__label {cursor: pointer;display: block;width: 100%;margin-bottom: 0;padding: 0.2em 0.3em;box-sizing: border-box;text-align: center;}#sk-030ce756-415a-48a8-9c9c-86e2ef7bf5d9 div.sk-toggleable__content {max-height: 0;max-width: 0;overflow: hidden;text-align: left;background-color: #f0f8ff;}#sk-030ce756-415a-48a8-9c9c-86e2ef7bf5d9 div.sk-toggleable__content pre {margin: 0.2em;color: black;border-radius: 0.25em;background-color: #f0f8ff;}#sk-030ce756-415a-48a8-9c9c-86e2ef7bf5d9 input.sk-toggleable__control:checked~div.sk-toggleable__content {max-height: 200px;max-width: 100%;overflow: auto;}#sk-030ce756-415a-48a8-9c9c-86e2ef7bf5d9 div.sk-estimator input.sk-toggleable__control:checked~label.sk-toggleable__label {background-color: #d4ebff;}#sk-030ce756-415a-48a8-9c9c-86e2ef7bf5d9 div.sk-label input.sk-toggleable__control:checked~label.sk-toggleable__label {background-color: #d4ebff;}#sk-030ce756-415a-48a8-9c9c-86e2ef7bf5d9 input.sk-hidden--visually {border: 0;clip: rect(1px 1px 1px 1px);clip: rect(1px, 1px, 1px, 1px);height: 1px;margin: -1px;overflow: hidden;padding: 0;position: absolute;width: 1px;}#sk-030ce756-415a-48a8-9c9c-86e2ef7bf5d9 div.sk-estimator {font-family: monospace;background-color: #f0f8ff;margin: 0.25em 0.25em;border: 1px dotted black;border-radius: 0.25em;box-sizing: border-box;}#sk-030ce756-415a-48a8-9c9c-86e2ef7bf5d9 div.sk-estimator:hover {background-color: #d4ebff;}#sk-030ce756-415a-48a8-9c9c-86e2ef7bf5d9 div.sk-parallel-item::after {content: \"\";width: 100%;border-bottom: 1px solid gray;flex-grow: 1;}#sk-030ce756-415a-48a8-9c9c-86e2ef7bf5d9 div.sk-label:hover label.sk-toggleable__label {background-color: #d4ebff;}#sk-030ce756-415a-48a8-9c9c-86e2ef7bf5d9 div.sk-serial::before {content: \"\";position: absolute;border-left: 1px solid gray;box-sizing: border-box;top: 2em;bottom: 0;left: 50%;}#sk-030ce756-415a-48a8-9c9c-86e2ef7bf5d9 div.sk-serial {display: flex;flex-direction: column;align-items: center;background-color: white;}#sk-030ce756-415a-48a8-9c9c-86e2ef7bf5d9 div.sk-item {z-index: 1;}#sk-030ce756-415a-48a8-9c9c-86e2ef7bf5d9 div.sk-parallel {display: flex;align-items: stretch;justify-content: center;background-color: white;}#sk-030ce756-415a-48a8-9c9c-86e2ef7bf5d9 div.sk-parallel-item {display: flex;flex-direction: column;position: relative;background-color: white;}#sk-030ce756-415a-48a8-9c9c-86e2ef7bf5d9 div.sk-parallel-item:first-child::after {align-self: flex-end;width: 50%;}#sk-030ce756-415a-48a8-9c9c-86e2ef7bf5d9 div.sk-parallel-item:last-child::after {align-self: flex-start;width: 50%;}#sk-030ce756-415a-48a8-9c9c-86e2ef7bf5d9 div.sk-parallel-item:only-child::after {width: 0;}#sk-030ce756-415a-48a8-9c9c-86e2ef7bf5d9 div.sk-dashed-wrapped {border: 1px dashed gray;margin: 0.2em;box-sizing: border-box;padding-bottom: 0.1em;background-color: white;position: relative;}#sk-030ce756-415a-48a8-9c9c-86e2ef7bf5d9 div.sk-label label {font-family: monospace;font-weight: bold;background-color: white;display: inline-block;line-height: 1.2em;}#sk-030ce756-415a-48a8-9c9c-86e2ef7bf5d9 div.sk-label-container {position: relative;z-index: 2;text-align: center;}#sk-030ce756-415a-48a8-9c9c-86e2ef7bf5d9 div.sk-container {display: inline-block;position: relative;}</style><div id=\"sk-030ce756-415a-48a8-9c9c-86e2ef7bf5d9\" class\"sk-top-container\"><div class=\"sk-container\"><div class=\"sk-item sk-dashed-wrapped\"><div class=\"sk-label-container\"><div class=\"sk-label sk-toggleable\"><input class=\"sk-toggleable__control sk-hidden--visually\" id=\"b67a4de2-3f0a-4676-973d-7f873eaeb2f6\" type=\"checkbox\" ><label class=\"sk-toggleable__label\" for=\"b67a4de2-3f0a-4676-973d-7f873eaeb2f6\">Pipeline</label><div class=\"sk-toggleable__content\"><pre>Pipeline(steps=[('preprocessor',\n",
       "                 ColumnTransformer(transformers=[('numeric',\n",
       "                                                  Pipeline(steps=[('simpleimputer',\n",
       "                                                                   SimpleImputer())]),\n",
       "                                                  <sklearn.compose._column_transformer.make_column_selector object at 0x000001B02FE24A90>),\n",
       "                                                 ('categoric',\n",
       "                                                  Pipeline(steps=[('ordinalencoder',\n",
       "                                                                   OrdinalEncoder())]),\n",
       "                                                  <sklearn.compose._column_transformer.make_column_selector object at 0x000001B02FE249D0>)])),\n",
       "                ('classifier', DecisionTreeClassifier(random_state=22))])</pre></div></div></div><div class=\"sk-serial\"><div class=\"sk-item sk-dashed-wrapped\"><div class=\"sk-label-container\"><div class=\"sk-label sk-toggleable\"><input class=\"sk-toggleable__control sk-hidden--visually\" id=\"53c85dd6-aad8-4fca-bf9e-07e3b7455752\" type=\"checkbox\" ><label class=\"sk-toggleable__label\" for=\"53c85dd6-aad8-4fca-bf9e-07e3b7455752\">preprocessor: ColumnTransformer</label><div class=\"sk-toggleable__content\"><pre>ColumnTransformer(transformers=[('numeric',\n",
       "                                 Pipeline(steps=[('simpleimputer',\n",
       "                                                  SimpleImputer())]),\n",
       "                                 <sklearn.compose._column_transformer.make_column_selector object at 0x000001B02FE24A90>),\n",
       "                                ('categoric',\n",
       "                                 Pipeline(steps=[('ordinalencoder',\n",
       "                                                  OrdinalEncoder())]),\n",
       "                                 <sklearn.compose._column_transformer.make_column_selector object at 0x000001B02FE249D0>)])</pre></div></div></div><div class=\"sk-parallel\"><div class=\"sk-parallel-item\"><div class=\"sk-item\"><div class=\"sk-label-container\"><div class=\"sk-label sk-toggleable\"><input class=\"sk-toggleable__control sk-hidden--visually\" id=\"1fd4fda0-338f-436a-ac12-02e06fb8e408\" type=\"checkbox\" ><label class=\"sk-toggleable__label\" for=\"1fd4fda0-338f-436a-ac12-02e06fb8e408\">numeric</label><div class=\"sk-toggleable__content\"><pre><sklearn.compose._column_transformer.make_column_selector object at 0x000001B02FE24A90></pre></div></div></div><div class=\"sk-serial\"><div class=\"sk-item\"><div class=\"sk-serial\"><div class=\"sk-item\"><div class=\"sk-estimator sk-toggleable\"><input class=\"sk-toggleable__control sk-hidden--visually\" id=\"2f671aba-2eb6-41af-8dac-323c0d8524e7\" type=\"checkbox\" ><label class=\"sk-toggleable__label\" for=\"2f671aba-2eb6-41af-8dac-323c0d8524e7\">SimpleImputer</label><div class=\"sk-toggleable__content\"><pre>SimpleImputer()</pre></div></div></div></div></div></div></div></div><div class=\"sk-parallel-item\"><div class=\"sk-item\"><div class=\"sk-label-container\"><div class=\"sk-label sk-toggleable\"><input class=\"sk-toggleable__control sk-hidden--visually\" id=\"70116067-ff9e-4633-8aee-5f8c125c90e1\" type=\"checkbox\" ><label class=\"sk-toggleable__label\" for=\"70116067-ff9e-4633-8aee-5f8c125c90e1\">categoric</label><div class=\"sk-toggleable__content\"><pre><sklearn.compose._column_transformer.make_column_selector object at 0x000001B02FE249D0></pre></div></div></div><div class=\"sk-serial\"><div class=\"sk-item\"><div class=\"sk-serial\"><div class=\"sk-item\"><div class=\"sk-estimator sk-toggleable\"><input class=\"sk-toggleable__control sk-hidden--visually\" id=\"dc4021a3-53bd-4534-bca6-2741820f909e\" type=\"checkbox\" ><label class=\"sk-toggleable__label\" for=\"dc4021a3-53bd-4534-bca6-2741820f909e\">OrdinalEncoder</label><div class=\"sk-toggleable__content\"><pre>OrdinalEncoder()</pre></div></div></div></div></div></div></div></div></div></div><div class=\"sk-item\"><div class=\"sk-estimator sk-toggleable\"><input class=\"sk-toggleable__control sk-hidden--visually\" id=\"9b40b897-7b56-4987-a623-b9a559c5f428\" type=\"checkbox\" ><label class=\"sk-toggleable__label\" for=\"9b40b897-7b56-4987-a623-b9a559c5f428\">DecisionTreeClassifier</label><div class=\"sk-toggleable__content\"><pre>DecisionTreeClassifier(random_state=22)</pre></div></div></div></div></div></div></div>"
      ],
      "text/plain": [
       "Pipeline(steps=[('preprocessor',\n",
       "                 ColumnTransformer(transformers=[('numeric',\n",
       "                                                  Pipeline(steps=[('simpleimputer',\n",
       "                                                                   SimpleImputer())]),\n",
       "                                                  <sklearn.compose._column_transformer.make_column_selector object at 0x000001B02FE24A90>),\n",
       "                                                 ('categoric',\n",
       "                                                  Pipeline(steps=[('ordinalencoder',\n",
       "                                                                   OrdinalEncoder())]),\n",
       "                                                  <sklearn.compose._column_transformer.make_column_selector object at 0x000001B02FE249D0>)])),\n",
       "                ('classifier', DecisionTreeClassifier(random_state=22))])"
      ]
     },
     "execution_count": 42,
     "metadata": {},
     "output_type": "execute_result"
    }
   ],
   "source": [
    "printmd(\"#### Decision Tree with default settings\")\n",
    "pipe_dt = CustomPipe()\n",
    "pipe_dt.fit(df_x_train, df_y_train)\n",
    "eval_model_tests(pipe_dt, df_x_train, df_x_test, df_y_train, df_y_test)\n",
    "pipe_dt.pipe"
   ]
  },
  {
   "cell_type": "markdown",
   "id": "be513603",
   "metadata": {},
   "source": [
    "- The graph below demonstrates our decision tree. The huge width and depth of it is caused by a huge variety of features in the classification."
   ]
  },
  {
   "cell_type": "code",
   "execution_count": 43,
   "id": "020d0c61",
   "metadata": {},
   "outputs": [
    {
     "data": {
      "image/png": "[encoded data removed]",
      "text/plain": [
       "<Figure size 1152x720 with 1 Axes>"
      ]
     },
     "metadata": {
      "needs_background": "light"
     },
     "output_type": "display_data"
    }
   ],
   "source": [
    "fig, ax = plt.subplots(figsize=(16, 10))\n",
    "tree.plot_tree(pipe_dt.pipe.get_params()['classifier'], \n",
    "           feature_names = df_x_train.columns.tolist(), \n",
    "           class_names=['no_progress', 'progress'],\n",
    "           filled = True, ax=ax)\n",
    "plt.show()"
   ]
  },
  {
   "cell_type": "markdown",
   "id": "f5b042d6",
   "metadata": {},
   "source": [
    "#### Another way to produce a better accuracy is to use ensemble learning\n",
    "\n",
    "- We decided to perform the classification using Random Forest, which actually executes 100 different decision trees and selects the one with the best results. The outcomes were better as we expected (**Train = 99.99%, Test = 92.76%**). Thus, in the next sections we continued to use the Random Forest Classifier"
   ]
  },
  {
   "cell_type": "code",
   "execution_count": 44,
   "id": "71ef99c1",
   "metadata": {},
   "outputs": [
    {
     "data": {
      "text/markdown": [
       "#### Random Forest with default settings"
      ],
      "text/plain": [
       "<IPython.core.display.Markdown object>"
      ]
     },
     "metadata": {},
     "output_type": "display_data"
    },
    {
     "data": {
      "text/markdown": [
       "**Train data:**"
      ],
      "text/plain": [
       "<IPython.core.display.Markdown object>"
      ]
     },
     "metadata": {},
     "output_type": "display_data"
    },
    {
     "name": "stdout",
     "output_type": "stream",
     "text": [
      "              precision    recall  f1-score      support\n",
      "0              1.000000  0.999642  0.999821  2796.000000\n",
      "1              0.999801  1.000000  0.999900  5017.000000\n",
      "accuracy       0.999872  0.999872  0.999872     0.999872\n",
      "macro avg      0.999900  0.999821  0.999861  7813.000000\n",
      "weighted avg   0.999872  0.999872  0.999872  7813.000000\n"
     ]
    },
    {
     "data": {
      "text/markdown": [
       "**Test data:**"
      ],
      "text/plain": [
       "<IPython.core.display.Markdown object>"
      ]
     },
     "metadata": {},
     "output_type": "display_data"
    },
    {
     "name": "stdout",
     "output_type": "stream",
     "text": [
      "              precision    recall  f1-score      support\n",
      "0              0.902475  0.892086  0.897250   695.000000\n",
      "1              0.941084  0.947036  0.944050  1265.000000\n",
      "accuracy       0.927551  0.927551  0.927551     0.927551\n",
      "macro avg      0.921779  0.919561  0.920650  1960.000000\n",
      "weighted avg   0.927393  0.927551  0.927456  1960.000000\n"
     ]
    },
    {
     "data": {
      "text/html": [
       "<style>#sk-1b1888bf-be54-4237-803f-8b49cebb6bf6 {color: black;background-color: white;}#sk-1b1888bf-be54-4237-803f-8b49cebb6bf6 pre{padding: 0;}#sk-1b1888bf-be54-4237-803f-8b49cebb6bf6 div.sk-toggleable {background-color: white;}#sk-1b1888bf-be54-4237-803f-8b49cebb6bf6 label.sk-toggleable__label {cursor: pointer;display: block;width: 100%;margin-bottom: 0;padding: 0.2em 0.3em;box-sizing: border-box;text-align: center;}#sk-1b1888bf-be54-4237-803f-8b49cebb6bf6 div.sk-toggleable__content {max-height: 0;max-width: 0;overflow: hidden;text-align: left;background-color: #f0f8ff;}#sk-1b1888bf-be54-4237-803f-8b49cebb6bf6 div.sk-toggleable__content pre {margin: 0.2em;color: black;border-radius: 0.25em;background-color: #f0f8ff;}#sk-1b1888bf-be54-4237-803f-8b49cebb6bf6 input.sk-toggleable__control:checked~div.sk-toggleable__content {max-height: 200px;max-width: 100%;overflow: auto;}#sk-1b1888bf-be54-4237-803f-8b49cebb6bf6 div.sk-estimator input.sk-toggleable__control:checked~label.sk-toggleable__label {background-color: #d4ebff;}#sk-1b1888bf-be54-4237-803f-8b49cebb6bf6 div.sk-label input.sk-toggleable__control:checked~label.sk-toggleable__label {background-color: #d4ebff;}#sk-1b1888bf-be54-4237-803f-8b49cebb6bf6 input.sk-hidden--visually {border: 0;clip: rect(1px 1px 1px 1px);clip: rect(1px, 1px, 1px, 1px);height: 1px;margin: -1px;overflow: hidden;padding: 0;position: absolute;width: 1px;}#sk-1b1888bf-be54-4237-803f-8b49cebb6bf6 div.sk-estimator {font-family: monospace;background-color: #f0f8ff;margin: 0.25em 0.25em;border: 1px dotted black;border-radius: 0.25em;box-sizing: border-box;}#sk-1b1888bf-be54-4237-803f-8b49cebb6bf6 div.sk-estimator:hover {background-color: #d4ebff;}#sk-1b1888bf-be54-4237-803f-8b49cebb6bf6 div.sk-parallel-item::after {content: \"\";width: 100%;border-bottom: 1px solid gray;flex-grow: 1;}#sk-1b1888bf-be54-4237-803f-8b49cebb6bf6 div.sk-label:hover label.sk-toggleable__label {background-color: #d4ebff;}#sk-1b1888bf-be54-4237-803f-8b49cebb6bf6 div.sk-serial::before {content: \"\";position: absolute;border-left: 1px solid gray;box-sizing: border-box;top: 2em;bottom: 0;left: 50%;}#sk-1b1888bf-be54-4237-803f-8b49cebb6bf6 div.sk-serial {display: flex;flex-direction: column;align-items: center;background-color: white;}#sk-1b1888bf-be54-4237-803f-8b49cebb6bf6 div.sk-item {z-index: 1;}#sk-1b1888bf-be54-4237-803f-8b49cebb6bf6 div.sk-parallel {display: flex;align-items: stretch;justify-content: center;background-color: white;}#sk-1b1888bf-be54-4237-803f-8b49cebb6bf6 div.sk-parallel-item {display: flex;flex-direction: column;position: relative;background-color: white;}#sk-1b1888bf-be54-4237-803f-8b49cebb6bf6 div.sk-parallel-item:first-child::after {align-self: flex-end;width: 50%;}#sk-1b1888bf-be54-4237-803f-8b49cebb6bf6 div.sk-parallel-item:last-child::after {align-self: flex-start;width: 50%;}#sk-1b1888bf-be54-4237-803f-8b49cebb6bf6 div.sk-parallel-item:only-child::after {width: 0;}#sk-1b1888bf-be54-4237-803f-8b49cebb6bf6 div.sk-dashed-wrapped {border: 1px dashed gray;margin: 0.2em;box-sizing: border-box;padding-bottom: 0.1em;background-color: white;position: relative;}#sk-1b1888bf-be54-4237-803f-8b49cebb6bf6 div.sk-label label {font-family: monospace;font-weight: bold;background-color: white;display: inline-block;line-height: 1.2em;}#sk-1b1888bf-be54-4237-803f-8b49cebb6bf6 div.sk-label-container {position: relative;z-index: 2;text-align: center;}#sk-1b1888bf-be54-4237-803f-8b49cebb6bf6 div.sk-container {display: inline-block;position: relative;}</style><div id=\"sk-1b1888bf-be54-4237-803f-8b49cebb6bf6\" class\"sk-top-container\"><div class=\"sk-container\"><div class=\"sk-item sk-dashed-wrapped\"><div class=\"sk-label-container\"><div class=\"sk-label sk-toggleable\"><input class=\"sk-toggleable__control sk-hidden--visually\" id=\"fa68b266-1d13-498a-997d-661ea4fc75a6\" type=\"checkbox\" ><label class=\"sk-toggleable__label\" for=\"fa68b266-1d13-498a-997d-661ea4fc75a6\">Pipeline</label><div class=\"sk-toggleable__content\"><pre>Pipeline(steps=[('preprocessor',\n",
       "                 ColumnTransformer(transformers=[('numeric',\n",
       "                                                  Pipeline(steps=[('simpleimputer',\n",
       "                                                                   SimpleImputer())]),\n",
       "                                                  <sklearn.compose._column_transformer.make_column_selector object at 0x000001B02FD0E070>),\n",
       "                                                 ('categoric',\n",
       "                                                  Pipeline(steps=[('ordinalencoder',\n",
       "                                                                   OrdinalEncoder())]),\n",
       "                                                  <sklearn.compose._column_transformer.make_column_selector object at 0x000001B02FD0EDC0>)])),\n",
       "                ('classifier', RandomForestClassifier(random_state=22))])</pre></div></div></div><div class=\"sk-serial\"><div class=\"sk-item sk-dashed-wrapped\"><div class=\"sk-label-container\"><div class=\"sk-label sk-toggleable\"><input class=\"sk-toggleable__control sk-hidden--visually\" id=\"6ebf5eb0-0d74-4bab-85d8-49d843bbefed\" type=\"checkbox\" ><label class=\"sk-toggleable__label\" for=\"6ebf5eb0-0d74-4bab-85d8-49d843bbefed\">preprocessor: ColumnTransformer</label><div class=\"sk-toggleable__content\"><pre>ColumnTransformer(transformers=[('numeric',\n",
       "                                 Pipeline(steps=[('simpleimputer',\n",
       "                                                  SimpleImputer())]),\n",
       "                                 <sklearn.compose._column_transformer.make_column_selector object at 0x000001B02FD0E070>),\n",
       "                                ('categoric',\n",
       "                                 Pipeline(steps=[('ordinalencoder',\n",
       "                                                  OrdinalEncoder())]),\n",
       "                                 <sklearn.compose._column_transformer.make_column_selector object at 0x000001B02FD0EDC0>)])</pre></div></div></div><div class=\"sk-parallel\"><div class=\"sk-parallel-item\"><div class=\"sk-item\"><div class=\"sk-label-container\"><div class=\"sk-label sk-toggleable\"><input class=\"sk-toggleable__control sk-hidden--visually\" id=\"5b19e6ee-093f-4944-88e9-d10df75ebc2d\" type=\"checkbox\" ><label class=\"sk-toggleable__label\" for=\"5b19e6ee-093f-4944-88e9-d10df75ebc2d\">numeric</label><div class=\"sk-toggleable__content\"><pre><sklearn.compose._column_transformer.make_column_selector object at 0x000001B02FD0E070></pre></div></div></div><div class=\"sk-serial\"><div class=\"sk-item\"><div class=\"sk-serial\"><div class=\"sk-item\"><div class=\"sk-estimator sk-toggleable\"><input class=\"sk-toggleable__control sk-hidden--visually\" id=\"e79b3a97-eee5-4bdf-b5bb-c58615cebf7b\" type=\"checkbox\" ><label class=\"sk-toggleable__label\" for=\"e79b3a97-eee5-4bdf-b5bb-c58615cebf7b\">SimpleImputer</label><div class=\"sk-toggleable__content\"><pre>SimpleImputer()</pre></div></div></div></div></div></div></div></div><div class=\"sk-parallel-item\"><div class=\"sk-item\"><div class=\"sk-label-container\"><div class=\"sk-label sk-toggleable\"><input class=\"sk-toggleable__control sk-hidden--visually\" id=\"d3cc391a-7549-41f1-a0ea-bfe20192ffce\" type=\"checkbox\" ><label class=\"sk-toggleable__label\" for=\"d3cc391a-7549-41f1-a0ea-bfe20192ffce\">categoric</label><div class=\"sk-toggleable__content\"><pre><sklearn.compose._column_transformer.make_column_selector object at 0x000001B02FD0EDC0></pre></div></div></div><div class=\"sk-serial\"><div class=\"sk-item\"><div class=\"sk-serial\"><div class=\"sk-item\"><div class=\"sk-estimator sk-toggleable\"><input class=\"sk-toggleable__control sk-hidden--visually\" id=\"635e3324-6409-4e5d-99ad-b588833ae102\" type=\"checkbox\" ><label class=\"sk-toggleable__label\" for=\"635e3324-6409-4e5d-99ad-b588833ae102\">OrdinalEncoder</label><div class=\"sk-toggleable__content\"><pre>OrdinalEncoder()</pre></div></div></div></div></div></div></div></div></div></div><div class=\"sk-item\"><div class=\"sk-estimator sk-toggleable\"><input class=\"sk-toggleable__control sk-hidden--visually\" id=\"4646eaa0-d368-4447-ba77-a8411ee8ac91\" type=\"checkbox\" ><label class=\"sk-toggleable__label\" for=\"4646eaa0-d368-4447-ba77-a8411ee8ac91\">RandomForestClassifier</label><div class=\"sk-toggleable__content\"><pre>RandomForestClassifier(random_state=22)</pre></div></div></div></div></div></div></div>"
      ],
      "text/plain": [
       "Pipeline(steps=[('preprocessor',\n",
       "                 ColumnTransformer(transformers=[('numeric',\n",
       "                                                  Pipeline(steps=[('simpleimputer',\n",
       "                                                                   SimpleImputer())]),\n",
       "                                                  <sklearn.compose._column_transformer.make_column_selector object at 0x000001B02FD0E070>),\n",
       "                                                 ('categoric',\n",
       "                                                  Pipeline(steps=[('ordinalencoder',\n",
       "                                                                   OrdinalEncoder())]),\n",
       "                                                  <sklearn.compose._column_transformer.make_column_selector object at 0x000001B02FD0EDC0>)])),\n",
       "                ('classifier', RandomForestClassifier(random_state=22))])"
      ]
     },
     "execution_count": 44,
     "metadata": {},
     "output_type": "execute_result"
    }
   ],
   "source": [
    "printmd(\"#### Random Forest with default settings\")\n",
    "pipe_rf = CustomPipe(classifier=RandomForestClassifier)\n",
    "pipe_rf.fit(df_x_train, df_y_train)\n",
    "eval_model_tests(pipe_rf, df_x_train,df_x_test, df_y_train, df_y_test)\n",
    "pipe_rf.pipe"
   ]
  },
  {
   "cell_type": "markdown",
   "id": "60bddfea",
   "metadata": {},
   "source": [
    "- In addition, we have saved the scores from the default tests for the future comparisons."
   ]
  },
  {
   "cell_type": "code",
   "execution_count": 45,
   "id": "fb2d1351",
   "metadata": {},
   "outputs": [],
   "source": [
    "default_score_dt = pipe_dt.score(*pipe_dt.transform(df_x_test, df_y_test))\n",
    "default_score_rf = pipe_rf.score(*pipe_dt.transform(df_x_test, df_y_test))"
   ]
  },
  {
   "cell_type": "markdown",
   "id": "c0afc393",
   "metadata": {},
   "source": [
    "#### Hyperparameter tuning\n",
    "\n",
    "In the next step we've used *validation_curve* to find out all relationships between hyperparameters and accuracy of the model. Basically, we changed one main attribute while other conditions stay the same. We also plotted our results on the graphs to easily interpret these connection."
   ]
  },
  {
   "cell_type": "code",
   "execution_count": 46,
   "id": "239b55e6",
   "metadata": {
    "scrolled": false
   },
   "outputs": [
    {
     "data": {
      "image/png": "[encoded data removed]",
      "text/plain": [
       "<Figure size 1008x720 with 6 Axes>"
      ]
     },
     "metadata": {
      "needs_background": "light"
     },
     "output_type": "display_data"
    }
   ],
   "source": [
    "def plot_validation_curve(ax, title, param_range, train_scores, test_scores):\n",
    "    train_mean = np.mean(train_scores, axis=1)\n",
    "    train_std = np.std(train_scores, axis=1)\n",
    "    test_mean = np.mean(test_scores, axis=1)\n",
    "    test_std = np.std(test_scores, axis=1)\n",
    "\n",
    "    ax.plot(param_range, train_mean, label=\"Training score\", color=\"darkorange\")\n",
    "    ax.plot(param_range, test_mean, label=\"Cross-validation score\", color=\"dimgrey\")\n",
    "\n",
    "    ax.fill_between(param_range, train_mean - train_std, train_mean + train_std, color=\"orange\", alpha=0.3)\n",
    "    ax.fill_between(param_range, test_mean - test_std, test_mean + test_std, color=\"gainsboro\", alpha=0.3)\n",
    " \n",
    "    ax.set_title(\"Validation Curve - \"+title)\n",
    "    ax.set(xlabel = title, ylabel = \"Accuracy\")\n",
    "    ax.legend(loc=\"best\")\n",
    "\n",
    "def compare_hyperparam(param_dict, x, y):\n",
    "    fig, [[ax1, ax2], [ax3, ax4], [ax5, ax6]] = plt.subplots(3, 2,figsize=(14,10))\n",
    "    axs = [ax1, ax2, ax3, ax4, ax5, ax6]\n",
    "    \n",
    "    for index, param_title in enumerate(param_dict):\n",
    "        _train_scores, _test_scores = validation_curve(\n",
    "            CustomPipe(classifier=RandomForestClassifier).pipe, X = x, y = y, param_name = param_title,\n",
    "            param_range = param_dict[param_title], scoring=\"accuracy\", cv=3, n_jobs=-1)\n",
    "        plot_validation_curve(axs[index], param_title, param_dict[param_title], _train_scores, _test_scores)\n",
    "    fig.tight_layout()\n",
    "    plt.show()\n",
    "\n",
    "params = {'classifier__max_depth': np.around(np.linspace(1, 50, num=6)).astype(int),\n",
    "         'classifier__criterion':['gini','entropy'],\n",
    "         'classifier__min_samples_split':np.around(np.geomspace(2, 50, num=6)).astype(int),\n",
    "         'classifier__min_samples_leaf': np.around(np.geomspace(1, 25, num=6)).astype(int),\n",
    "         'classifier__max_features':  np.around(np.linspace(1, len(df_x_train.columns), num=5)).astype(int),\n",
    "         'classifier__bootstrap': [True, False]}\n",
    "compare_hyperparam(params, df_x_train, df_y_train)"
   ]
  },
  {
   "cell_type": "markdown",
   "id": "d4276cae",
   "metadata": {},
   "source": [
    "- **Max Depth**:\n",
    "The accuracy grows exponentionally almost all initial 10 levels and then continues to rise to the limit of the max depth of the tree (approximately 25). Obviously, after that moment general accuracy stays unchanged.\n",
    "\n",
    "- **Criterion**:\n",
    "Both algorithms (*Gini* for the Gini impurity and *Entropy* for the information gain) have been used to split the tree nodes. We have performed our comparison on the small variety of attributes and that is why we haven't got a significant difference among these measurements.\n",
    "\n",
    "- **Min samples split**:\n",
    "Next graph demonstrates the dependency that more accurate results we can get out of the tree with more leaves with their own rules (accordingly, splits happen more often when the number is small -> more leaves are created -> more rules are created). \n",
    "\n",
    "- **Min samples leaf**:\n",
    "Quite similar to the previous one - the less number of samples have to be gathered at a single leaf node, the better accuracy we will get as there are more rules created.\n",
    "\n",
    "- **Max features**:\n",
    "The more features are used to make rules, the better the accuracy of the model is.\n",
    "\n",
    "- **Bootstrap**:\n",
    "This sample is used (instead of the whole input dataset) to reduce the variance of a decision tree, but it doesn't show a huge impact on our data. The accuracy is slightly lower, when samples are used as there is smaller amount of data passed."
   ]
  },
  {
   "cell_type": "markdown",
   "id": "3d08bb61",
   "metadata": {},
   "source": [
    "#### Later we used GridSearchCV to try all sets of classifier settings and find out which combination will show the best performance in our model."
   ]
  },
  {
   "cell_type": "code",
   "execution_count": 47,
   "id": "10324698",
   "metadata": {
    "scrolled": true
   },
   "outputs": [
    {
     "data": {
      "text/html": [
       "<style>#sk-b5de71a2-096c-4395-8ad7-66653597ca02 {color: black;background-color: white;}#sk-b5de71a2-096c-4395-8ad7-66653597ca02 pre{padding: 0;}#sk-b5de71a2-096c-4395-8ad7-66653597ca02 div.sk-toggleable {background-color: white;}#sk-b5de71a2-096c-4395-8ad7-66653597ca02 label.sk-toggleable__label {cursor: pointer;display: block;width: 100%;margin-bottom: 0;padding: 0.2em 0.3em;box-sizing: border-box;text-align: center;}#sk-b5de71a2-096c-4395-8ad7-66653597ca02 div.sk-toggleable__content {max-height: 0;max-width: 0;overflow: hidden;text-align: left;background-color: #f0f8ff;}#sk-b5de71a2-096c-4395-8ad7-66653597ca02 div.sk-toggleable__content pre {margin: 0.2em;color: black;border-radius: 0.25em;background-color: #f0f8ff;}#sk-b5de71a2-096c-4395-8ad7-66653597ca02 input.sk-toggleable__control:checked~div.sk-toggleable__content {max-height: 200px;max-width: 100%;overflow: auto;}#sk-b5de71a2-096c-4395-8ad7-66653597ca02 div.sk-estimator input.sk-toggleable__control:checked~label.sk-toggleable__label {background-color: #d4ebff;}#sk-b5de71a2-096c-4395-8ad7-66653597ca02 div.sk-label input.sk-toggleable__control:checked~label.sk-toggleable__label {background-color: #d4ebff;}#sk-b5de71a2-096c-4395-8ad7-66653597ca02 input.sk-hidden--visually {border: 0;clip: rect(1px 1px 1px 1px);clip: rect(1px, 1px, 1px, 1px);height: 1px;margin: -1px;overflow: hidden;padding: 0;position: absolute;width: 1px;}#sk-b5de71a2-096c-4395-8ad7-66653597ca02 div.sk-estimator {font-family: monospace;background-color: #f0f8ff;margin: 0.25em 0.25em;border: 1px dotted black;border-radius: 0.25em;box-sizing: border-box;}#sk-b5de71a2-096c-4395-8ad7-66653597ca02 div.sk-estimator:hover {background-color: #d4ebff;}#sk-b5de71a2-096c-4395-8ad7-66653597ca02 div.sk-parallel-item::after {content: \"\";width: 100%;border-bottom: 1px solid gray;flex-grow: 1;}#sk-b5de71a2-096c-4395-8ad7-66653597ca02 div.sk-label:hover label.sk-toggleable__label {background-color: #d4ebff;}#sk-b5de71a2-096c-4395-8ad7-66653597ca02 div.sk-serial::before {content: \"\";position: absolute;border-left: 1px solid gray;box-sizing: border-box;top: 2em;bottom: 0;left: 50%;}#sk-b5de71a2-096c-4395-8ad7-66653597ca02 div.sk-serial {display: flex;flex-direction: column;align-items: center;background-color: white;}#sk-b5de71a2-096c-4395-8ad7-66653597ca02 div.sk-item {z-index: 1;}#sk-b5de71a2-096c-4395-8ad7-66653597ca02 div.sk-parallel {display: flex;align-items: stretch;justify-content: center;background-color: white;}#sk-b5de71a2-096c-4395-8ad7-66653597ca02 div.sk-parallel-item {display: flex;flex-direction: column;position: relative;background-color: white;}#sk-b5de71a2-096c-4395-8ad7-66653597ca02 div.sk-parallel-item:first-child::after {align-self: flex-end;width: 50%;}#sk-b5de71a2-096c-4395-8ad7-66653597ca02 div.sk-parallel-item:last-child::after {align-self: flex-start;width: 50%;}#sk-b5de71a2-096c-4395-8ad7-66653597ca02 div.sk-parallel-item:only-child::after {width: 0;}#sk-b5de71a2-096c-4395-8ad7-66653597ca02 div.sk-dashed-wrapped {border: 1px dashed gray;margin: 0.2em;box-sizing: border-box;padding-bottom: 0.1em;background-color: white;position: relative;}#sk-b5de71a2-096c-4395-8ad7-66653597ca02 div.sk-label label {font-family: monospace;font-weight: bold;background-color: white;display: inline-block;line-height: 1.2em;}#sk-b5de71a2-096c-4395-8ad7-66653597ca02 div.sk-label-container {position: relative;z-index: 2;text-align: center;}#sk-b5de71a2-096c-4395-8ad7-66653597ca02 div.sk-container {display: inline-block;position: relative;}</style><div id=\"sk-b5de71a2-096c-4395-8ad7-66653597ca02\" class\"sk-top-container\"><div class=\"sk-container\"><div class=\"sk-item sk-dashed-wrapped\"><div class=\"sk-label-container\"><div class=\"sk-label sk-toggleable\"><input class=\"sk-toggleable__control sk-hidden--visually\" id=\"d2c62ea4-4af1-4bda-b5f1-f48c76055311\" type=\"checkbox\" ><label class=\"sk-toggleable__label\" for=\"d2c62ea4-4af1-4bda-b5f1-f48c76055311\">GridSearchCV</label><div class=\"sk-toggleable__content\"><pre>GridSearchCV(cv=3,\n",
       "             estimator=Pipeline(steps=[('preprocessor',\n",
       "                                        ColumnTransformer(transformers=[('numeric',\n",
       "                                                                         Pipeline(steps=[('simpleimputer',\n",
       "                                                                                          SimpleImputer())]),\n",
       "                                                                         <sklearn.compose._column_transformer.make_column_selector object at 0x000001B0316F6040>),\n",
       "                                                                        ('categoric',\n",
       "                                                                         Pipeline(steps=[('ordinalencoder',\n",
       "                                                                                          OrdinalEncoder())]),\n",
       "                                                                         <sklearn.compose._column_transformer.make_...B02F6FC490>)])),\n",
       "                                       ('classifier',\n",
       "                                        RandomForestClassifier(random_state=22))]),\n",
       "             n_jobs=-1,\n",
       "             param_grid={'classifier__bootstrap': [True, False],\n",
       "                         'classifier__criterion': ['gini', 'entropy'],\n",
       "                         'classifier__max_depth': array([10, 17, 23, 30]),\n",
       "                         'classifier__min_samples_leaf': [1, 2, 5],\n",
       "                         'classifier__min_samples_split': [2, 4, 6],\n",
       "                         'classifier__n_estimators': [50, 100, 200]},\n",
       "             verbose=3)</pre></div></div></div><div class=\"sk-parallel\"><div class=\"sk-parallel-item\"><div class=\"sk-item\"><div class=\"sk-serial\"><div class=\"sk-item\"><div class=\"sk-serial\"><div class=\"sk-item sk-dashed-wrapped\"><div class=\"sk-label-container\"><div class=\"sk-label sk-toggleable\"><input class=\"sk-toggleable__control sk-hidden--visually\" id=\"da12fae1-a740-4708-9c30-39f87b4d47fb\" type=\"checkbox\" ><label class=\"sk-toggleable__label\" for=\"da12fae1-a740-4708-9c30-39f87b4d47fb\">preprocessor: ColumnTransformer</label><div class=\"sk-toggleable__content\"><pre>ColumnTransformer(transformers=[('numeric',\n",
       "                                 Pipeline(steps=[('simpleimputer',\n",
       "                                                  SimpleImputer())]),\n",
       "                                 <sklearn.compose._column_transformer.make_column_selector object at 0x000001B0316F6040>),\n",
       "                                ('categoric',\n",
       "                                 Pipeline(steps=[('ordinalencoder',\n",
       "                                                  OrdinalEncoder())]),\n",
       "                                 <sklearn.compose._column_transformer.make_column_selector object at 0x000001B02F6FC490>)])</pre></div></div></div><div class=\"sk-parallel\"><div class=\"sk-parallel-item\"><div class=\"sk-item\"><div class=\"sk-label-container\"><div class=\"sk-label sk-toggleable\"><input class=\"sk-toggleable__control sk-hidden--visually\" id=\"4ab66f89-5cce-42ca-9ff2-920c86b216bf\" type=\"checkbox\" ><label class=\"sk-toggleable__label\" for=\"4ab66f89-5cce-42ca-9ff2-920c86b216bf\">numeric</label><div class=\"sk-toggleable__content\"><pre><sklearn.compose._column_transformer.make_column_selector object at 0x000001B0316F6040></pre></div></div></div><div class=\"sk-serial\"><div class=\"sk-item\"><div class=\"sk-serial\"><div class=\"sk-item\"><div class=\"sk-estimator sk-toggleable\"><input class=\"sk-toggleable__control sk-hidden--visually\" id=\"072adbbf-f28d-4167-a570-112ac41932a3\" type=\"checkbox\" ><label class=\"sk-toggleable__label\" for=\"072adbbf-f28d-4167-a570-112ac41932a3\">SimpleImputer</label><div class=\"sk-toggleable__content\"><pre>SimpleImputer()</pre></div></div></div></div></div></div></div></div><div class=\"sk-parallel-item\"><div class=\"sk-item\"><div class=\"sk-label-container\"><div class=\"sk-label sk-toggleable\"><input class=\"sk-toggleable__control sk-hidden--visually\" id=\"0e6293f4-c09a-432c-bea7-7cd660cbcb5e\" type=\"checkbox\" ><label class=\"sk-toggleable__label\" for=\"0e6293f4-c09a-432c-bea7-7cd660cbcb5e\">categoric</label><div class=\"sk-toggleable__content\"><pre><sklearn.compose._column_transformer.make_column_selector object at 0x000001B02F6FC490></pre></div></div></div><div class=\"sk-serial\"><div class=\"sk-item\"><div class=\"sk-serial\"><div class=\"sk-item\"><div class=\"sk-estimator sk-toggleable\"><input class=\"sk-toggleable__control sk-hidden--visually\" id=\"d107a70f-689c-4193-80f4-a1d8ed9f6753\" type=\"checkbox\" ><label class=\"sk-toggleable__label\" for=\"d107a70f-689c-4193-80f4-a1d8ed9f6753\">OrdinalEncoder</label><div class=\"sk-toggleable__content\"><pre>OrdinalEncoder()</pre></div></div></div></div></div></div></div></div></div></div><div class=\"sk-item\"><div class=\"sk-estimator sk-toggleable\"><input class=\"sk-toggleable__control sk-hidden--visually\" id=\"dda2d8de-128a-4885-a57f-f0c3acd0f786\" type=\"checkbox\" ><label class=\"sk-toggleable__label\" for=\"dda2d8de-128a-4885-a57f-f0c3acd0f786\">RandomForestClassifier</label><div class=\"sk-toggleable__content\"><pre>RandomForestClassifier(random_state=22)</pre></div></div></div></div></div></div></div></div></div></div></div></div>"
      ],
      "text/plain": [
       "GridSearchCV(cv=3,\n",
       "             estimator=Pipeline(steps=[('preprocessor',\n",
       "                                        ColumnTransformer(transformers=[('numeric',\n",
       "                                                                         Pipeline(steps=[('simpleimputer',\n",
       "                                                                                          SimpleImputer())]),\n",
       "                                                                         <sklearn.compose._column_transformer.make_column_selector object at 0x000001B0316F6040>),\n",
       "                                                                        ('categoric',\n",
       "                                                                         Pipeline(steps=[('ordinalencoder',\n",
       "                                                                                          OrdinalEncoder())]),\n",
       "                                                                         <sklearn.compose._column_transformer.make_...B02F6FC490>)])),\n",
       "                                       ('classifier',\n",
       "                                        RandomForestClassifier(random_state=22))]),\n",
       "             n_jobs=-1,\n",
       "             param_grid={'classifier__bootstrap': [True, False],\n",
       "                         'classifier__criterion': ['gini', 'entropy'],\n",
       "                         'classifier__max_depth': array([10, 17, 23, 30]),\n",
       "                         'classifier__min_samples_leaf': [1, 2, 5],\n",
       "                         'classifier__min_samples_split': [2, 4, 6],\n",
       "                         'classifier__n_estimators': [50, 100, 200]},\n",
       "             verbose=3)"
      ]
     },
     "execution_count": 47,
     "metadata": {},
     "output_type": "execute_result"
    }
   ],
   "source": [
    "# The variety of different settings\n",
    "n_estimators = [50, 100, 200]\n",
    "max_depth = np.around(np.linspace(10, 30, num=4)).astype(int)\n",
    "min_samples_split = [2, 4, 6]\n",
    "min_samples_leaf = [1, 2, 5] \n",
    "bootstrap = [True, False] \n",
    "criterion = ['gini','entropy']\n",
    "\n",
    "forest = RandomForestClassifier(random_state=RAND_STATE)\n",
    "hyper = dict(classifier__n_estimators = n_estimators, \n",
    "             classifier__max_depth = max_depth,  \n",
    "             classifier__min_samples_split = min_samples_split, \n",
    "             classifier__min_samples_leaf = min_samples_leaf,\n",
    "             classifier__bootstrap = bootstrap,\n",
    "             classifier__criterion = criterion)\n",
    "cp = CustomPipe(classifier=RandomForestClassifier)\n",
    "gs = GridSearchCV(cp.pipe, hyper, cv=3, n_jobs=-1, verbose=3)\n",
    "gs"
   ]
  },
  {
   "cell_type": "markdown",
   "id": "aebf726b",
   "metadata": {},
   "source": [
    "- Below is displayed the function performance and the best chosen metrics combination"
   ]
  },
  {
   "cell_type": "code",
   "execution_count": 48,
   "id": "1ba57c43",
   "metadata": {
    "scrolled": false
   },
   "outputs": [
    {
     "name": "stdout",
     "output_type": "stream",
     "text": [
      "Fitting 3 folds for each of 432 candidates, totalling 1296 fits\n",
      "Best score:  0.9196212726520447\n",
      "Best parameters:  {'classifier__bootstrap': False, 'classifier__criterion': 'entropy', 'classifier__max_depth': 30, 'classifier__min_samples_leaf': 1, 'classifier__min_samples_split': 2, 'classifier__n_estimators': 100}\n"
     ]
    }
   ],
   "source": [
    "best = gs.fit(*cp.transform(df_x_train, df_y_train))\n",
    "best_model_score = best.best_score_\n",
    "print(\"Best score: \",best.best_score_)\n",
    "print(\"Best parameters: \",best.best_params_)"
   ]
  },
  {
   "cell_type": "code",
   "execution_count": 49,
   "id": "58072b13",
   "metadata": {},
   "outputs": [
    {
     "data": {
      "text/html": [
       "<style>#sk-ad9bd889-22b3-44b0-affa-ffe95ad8a9f6 {color: black;background-color: white;}#sk-ad9bd889-22b3-44b0-affa-ffe95ad8a9f6 pre{padding: 0;}#sk-ad9bd889-22b3-44b0-affa-ffe95ad8a9f6 div.sk-toggleable {background-color: white;}#sk-ad9bd889-22b3-44b0-affa-ffe95ad8a9f6 label.sk-toggleable__label {cursor: pointer;display: block;width: 100%;margin-bottom: 0;padding: 0.2em 0.3em;box-sizing: border-box;text-align: center;}#sk-ad9bd889-22b3-44b0-affa-ffe95ad8a9f6 div.sk-toggleable__content {max-height: 0;max-width: 0;overflow: hidden;text-align: left;background-color: #f0f8ff;}#sk-ad9bd889-22b3-44b0-affa-ffe95ad8a9f6 div.sk-toggleable__content pre {margin: 0.2em;color: black;border-radius: 0.25em;background-color: #f0f8ff;}#sk-ad9bd889-22b3-44b0-affa-ffe95ad8a9f6 input.sk-toggleable__control:checked~div.sk-toggleable__content {max-height: 200px;max-width: 100%;overflow: auto;}#sk-ad9bd889-22b3-44b0-affa-ffe95ad8a9f6 div.sk-estimator input.sk-toggleable__control:checked~label.sk-toggleable__label {background-color: #d4ebff;}#sk-ad9bd889-22b3-44b0-affa-ffe95ad8a9f6 div.sk-label input.sk-toggleable__control:checked~label.sk-toggleable__label {background-color: #d4ebff;}#sk-ad9bd889-22b3-44b0-affa-ffe95ad8a9f6 input.sk-hidden--visually {border: 0;clip: rect(1px 1px 1px 1px);clip: rect(1px, 1px, 1px, 1px);height: 1px;margin: -1px;overflow: hidden;padding: 0;position: absolute;width: 1px;}#sk-ad9bd889-22b3-44b0-affa-ffe95ad8a9f6 div.sk-estimator {font-family: monospace;background-color: #f0f8ff;margin: 0.25em 0.25em;border: 1px dotted black;border-radius: 0.25em;box-sizing: border-box;}#sk-ad9bd889-22b3-44b0-affa-ffe95ad8a9f6 div.sk-estimator:hover {background-color: #d4ebff;}#sk-ad9bd889-22b3-44b0-affa-ffe95ad8a9f6 div.sk-parallel-item::after {content: \"\";width: 100%;border-bottom: 1px solid gray;flex-grow: 1;}#sk-ad9bd889-22b3-44b0-affa-ffe95ad8a9f6 div.sk-label:hover label.sk-toggleable__label {background-color: #d4ebff;}#sk-ad9bd889-22b3-44b0-affa-ffe95ad8a9f6 div.sk-serial::before {content: \"\";position: absolute;border-left: 1px solid gray;box-sizing: border-box;top: 2em;bottom: 0;left: 50%;}#sk-ad9bd889-22b3-44b0-affa-ffe95ad8a9f6 div.sk-serial {display: flex;flex-direction: column;align-items: center;background-color: white;}#sk-ad9bd889-22b3-44b0-affa-ffe95ad8a9f6 div.sk-item {z-index: 1;}#sk-ad9bd889-22b3-44b0-affa-ffe95ad8a9f6 div.sk-parallel {display: flex;align-items: stretch;justify-content: center;background-color: white;}#sk-ad9bd889-22b3-44b0-affa-ffe95ad8a9f6 div.sk-parallel-item {display: flex;flex-direction: column;position: relative;background-color: white;}#sk-ad9bd889-22b3-44b0-affa-ffe95ad8a9f6 div.sk-parallel-item:first-child::after {align-self: flex-end;width: 50%;}#sk-ad9bd889-22b3-44b0-affa-ffe95ad8a9f6 div.sk-parallel-item:last-child::after {align-self: flex-start;width: 50%;}#sk-ad9bd889-22b3-44b0-affa-ffe95ad8a9f6 div.sk-parallel-item:only-child::after {width: 0;}#sk-ad9bd889-22b3-44b0-affa-ffe95ad8a9f6 div.sk-dashed-wrapped {border: 1px dashed gray;margin: 0.2em;box-sizing: border-box;padding-bottom: 0.1em;background-color: white;position: relative;}#sk-ad9bd889-22b3-44b0-affa-ffe95ad8a9f6 div.sk-label label {font-family: monospace;font-weight: bold;background-color: white;display: inline-block;line-height: 1.2em;}#sk-ad9bd889-22b3-44b0-affa-ffe95ad8a9f6 div.sk-label-container {position: relative;z-index: 2;text-align: center;}#sk-ad9bd889-22b3-44b0-affa-ffe95ad8a9f6 div.sk-container {display: inline-block;position: relative;}</style><div id=\"sk-ad9bd889-22b3-44b0-affa-ffe95ad8a9f6\" class\"sk-top-container\"><div class=\"sk-container\"><div class=\"sk-item sk-dashed-wrapped\"><div class=\"sk-label-container\"><div class=\"sk-label sk-toggleable\"><input class=\"sk-toggleable__control sk-hidden--visually\" id=\"eef92d04-564a-49a2-924d-92c2e7b5f2c8\" type=\"checkbox\" ><label class=\"sk-toggleable__label\" for=\"eef92d04-564a-49a2-924d-92c2e7b5f2c8\">Pipeline</label><div class=\"sk-toggleable__content\"><pre>Pipeline(steps=[('preprocessor',\n",
       "                 ColumnTransformer(transformers=[('numeric',\n",
       "                                                  Pipeline(steps=[('simpleimputer',\n",
       "                                                                   SimpleImputer())]),\n",
       "                                                  <sklearn.compose._column_transformer.make_column_selector object at 0x000001B02FB32850>),\n",
       "                                                 ('categoric',\n",
       "                                                  Pipeline(steps=[('ordinalencoder',\n",
       "                                                                   OrdinalEncoder())]),\n",
       "                                                  <sklearn.compose._column_transformer.make_column_selector object at 0x000001B02FB32580>)])),\n",
       "                ('classifier',\n",
       "                 RandomForestClassifier(bootstrap=False, criterion='entropy',\n",
       "                                        max_depth=30, random_state=22))])</pre></div></div></div><div class=\"sk-serial\"><div class=\"sk-item sk-dashed-wrapped\"><div class=\"sk-label-container\"><div class=\"sk-label sk-toggleable\"><input class=\"sk-toggleable__control sk-hidden--visually\" id=\"b860eb21-1abf-4a10-a20c-e03a28e4f8fa\" type=\"checkbox\" ><label class=\"sk-toggleable__label\" for=\"b860eb21-1abf-4a10-a20c-e03a28e4f8fa\">preprocessor: ColumnTransformer</label><div class=\"sk-toggleable__content\"><pre>ColumnTransformer(transformers=[('numeric',\n",
       "                                 Pipeline(steps=[('simpleimputer',\n",
       "                                                  SimpleImputer())]),\n",
       "                                 <sklearn.compose._column_transformer.make_column_selector object at 0x000001B02FB32850>),\n",
       "                                ('categoric',\n",
       "                                 Pipeline(steps=[('ordinalencoder',\n",
       "                                                  OrdinalEncoder())]),\n",
       "                                 <sklearn.compose._column_transformer.make_column_selector object at 0x000001B02FB32580>)])</pre></div></div></div><div class=\"sk-parallel\"><div class=\"sk-parallel-item\"><div class=\"sk-item\"><div class=\"sk-label-container\"><div class=\"sk-label sk-toggleable\"><input class=\"sk-toggleable__control sk-hidden--visually\" id=\"0f750786-8485-4da7-9b9e-fa1ccf4bb2d6\" type=\"checkbox\" ><label class=\"sk-toggleable__label\" for=\"0f750786-8485-4da7-9b9e-fa1ccf4bb2d6\">numeric</label><div class=\"sk-toggleable__content\"><pre><sklearn.compose._column_transformer.make_column_selector object at 0x000001B02FB32850></pre></div></div></div><div class=\"sk-serial\"><div class=\"sk-item\"><div class=\"sk-serial\"><div class=\"sk-item\"><div class=\"sk-estimator sk-toggleable\"><input class=\"sk-toggleable__control sk-hidden--visually\" id=\"534568f7-1995-4f5f-89d9-a613da4f799a\" type=\"checkbox\" ><label class=\"sk-toggleable__label\" for=\"534568f7-1995-4f5f-89d9-a613da4f799a\">SimpleImputer</label><div class=\"sk-toggleable__content\"><pre>SimpleImputer()</pre></div></div></div></div></div></div></div></div><div class=\"sk-parallel-item\"><div class=\"sk-item\"><div class=\"sk-label-container\"><div class=\"sk-label sk-toggleable\"><input class=\"sk-toggleable__control sk-hidden--visually\" id=\"ed906c65-3fcc-4ec9-8513-b96842de60bb\" type=\"checkbox\" ><label class=\"sk-toggleable__label\" for=\"ed906c65-3fcc-4ec9-8513-b96842de60bb\">categoric</label><div class=\"sk-toggleable__content\"><pre><sklearn.compose._column_transformer.make_column_selector object at 0x000001B02FB32580></pre></div></div></div><div class=\"sk-serial\"><div class=\"sk-item\"><div class=\"sk-serial\"><div class=\"sk-item\"><div class=\"sk-estimator sk-toggleable\"><input class=\"sk-toggleable__control sk-hidden--visually\" id=\"0497c9e9-9b40-4c46-8b86-95a0804a9c6d\" type=\"checkbox\" ><label class=\"sk-toggleable__label\" for=\"0497c9e9-9b40-4c46-8b86-95a0804a9c6d\">OrdinalEncoder</label><div class=\"sk-toggleable__content\"><pre>OrdinalEncoder()</pre></div></div></div></div></div></div></div></div></div></div><div class=\"sk-item\"><div class=\"sk-estimator sk-toggleable\"><input class=\"sk-toggleable__control sk-hidden--visually\" id=\"c365da09-abfd-4a52-ae13-78b490b39230\" type=\"checkbox\" ><label class=\"sk-toggleable__label\" for=\"c365da09-abfd-4a52-ae13-78b490b39230\">RandomForestClassifier</label><div class=\"sk-toggleable__content\"><pre>RandomForestClassifier(bootstrap=False, criterion='entropy', max_depth=30,\n",
       "                       random_state=22)</pre></div></div></div></div></div></div></div>"
      ],
      "text/plain": [
       "Pipeline(steps=[('preprocessor',\n",
       "                 ColumnTransformer(transformers=[('numeric',\n",
       "                                                  Pipeline(steps=[('simpleimputer',\n",
       "                                                                   SimpleImputer())]),\n",
       "                                                  <sklearn.compose._column_transformer.make_column_selector object at 0x000001B02FB32850>),\n",
       "                                                 ('categoric',\n",
       "                                                  Pipeline(steps=[('ordinalencoder',\n",
       "                                                                   OrdinalEncoder())]),\n",
       "                                                  <sklearn.compose._column_transformer.make_column_selector object at 0x000001B02FB32580>)])),\n",
       "                ('classifier',\n",
       "                 RandomForestClassifier(bootstrap=False, criterion='entropy',\n",
       "                                        max_depth=30, random_state=22))])"
      ]
     },
     "execution_count": 49,
     "metadata": {},
     "output_type": "execute_result"
    }
   ],
   "source": [
    "best.best_estimator_"
   ]
  },
  {
   "cell_type": "markdown",
   "id": "e33bcc61",
   "metadata": {},
   "source": [
    "- Top 10 combinations are:"
   ]
  },
  {
   "cell_type": "code",
   "execution_count": 50,
   "id": "f0d0d928",
   "metadata": {},
   "outputs": [
    {
     "data": {
      "text/html": [
       "<div>\n",
       "<style scoped>\n",
       "    .dataframe tbody tr th:only-of-type {\n",
       "        vertical-align: middle;\n",
       "    }\n",
       "\n",
       "    .dataframe tbody tr th {\n",
       "        vertical-align: top;\n",
       "    }\n",
       "\n",
       "    .dataframe thead th {\n",
       "        text-align: right;\n",
       "    }\n",
       "</style>\n",
       "<table border=\"1\" class=\"dataframe\">\n",
       "  <thead>\n",
       "    <tr style=\"text-align: right;\">\n",
       "      <th></th>\n",
       "      <th>classifier__bootstrap</th>\n",
       "      <th>classifier__criterion</th>\n",
       "      <th>classifier__max_depth</th>\n",
       "      <th>classifier__min_samples_leaf</th>\n",
       "      <th>classifier__min_samples_split</th>\n",
       "      <th>classifier__n_estimators</th>\n",
       "      <th>Accuracy</th>\n",
       "    </tr>\n",
       "  </thead>\n",
       "  <tbody>\n",
       "    <tr>\n",
       "      <th>406</th>\n",
       "      <td>False</td>\n",
       "      <td>entropy</td>\n",
       "      <td>30</td>\n",
       "      <td>1</td>\n",
       "      <td>2</td>\n",
       "      <td>100</td>\n",
       "      <td>0.919621</td>\n",
       "    </tr>\n",
       "    <tr>\n",
       "      <th>407</th>\n",
       "      <td>False</td>\n",
       "      <td>entropy</td>\n",
       "      <td>30</td>\n",
       "      <td>1</td>\n",
       "      <td>2</td>\n",
       "      <td>200</td>\n",
       "      <td>0.919621</td>\n",
       "    </tr>\n",
       "    <tr>\n",
       "      <th>386</th>\n",
       "      <td>False</td>\n",
       "      <td>entropy</td>\n",
       "      <td>23</td>\n",
       "      <td>1</td>\n",
       "      <td>6</td>\n",
       "      <td>200</td>\n",
       "      <td>0.919493</td>\n",
       "    </tr>\n",
       "    <tr>\n",
       "      <th>413</th>\n",
       "      <td>False</td>\n",
       "      <td>entropy</td>\n",
       "      <td>30</td>\n",
       "      <td>1</td>\n",
       "      <td>6</td>\n",
       "      <td>200</td>\n",
       "      <td>0.919365</td>\n",
       "    </tr>\n",
       "    <tr>\n",
       "      <th>365</th>\n",
       "      <td>False</td>\n",
       "      <td>entropy</td>\n",
       "      <td>17</td>\n",
       "      <td>2</td>\n",
       "      <td>4</td>\n",
       "      <td>200</td>\n",
       "      <td>0.919237</td>\n",
       "    </tr>\n",
       "    <tr>\n",
       "      <th>362</th>\n",
       "      <td>False</td>\n",
       "      <td>entropy</td>\n",
       "      <td>17</td>\n",
       "      <td>2</td>\n",
       "      <td>2</td>\n",
       "      <td>200</td>\n",
       "      <td>0.919237</td>\n",
       "    </tr>\n",
       "    <tr>\n",
       "      <th>422</th>\n",
       "      <td>False</td>\n",
       "      <td>entropy</td>\n",
       "      <td>30</td>\n",
       "      <td>2</td>\n",
       "      <td>6</td>\n",
       "      <td>200</td>\n",
       "      <td>0.918853</td>\n",
       "    </tr>\n",
       "    <tr>\n",
       "      <th>279</th>\n",
       "      <td>False</td>\n",
       "      <td>gini</td>\n",
       "      <td>23</td>\n",
       "      <td>2</td>\n",
       "      <td>2</td>\n",
       "      <td>50</td>\n",
       "      <td>0.918597</td>\n",
       "    </tr>\n",
       "    <tr>\n",
       "      <th>282</th>\n",
       "      <td>False</td>\n",
       "      <td>gini</td>\n",
       "      <td>23</td>\n",
       "      <td>2</td>\n",
       "      <td>4</td>\n",
       "      <td>50</td>\n",
       "      <td>0.918597</td>\n",
       "    </tr>\n",
       "    <tr>\n",
       "      <th>411</th>\n",
       "      <td>False</td>\n",
       "      <td>entropy</td>\n",
       "      <td>30</td>\n",
       "      <td>1</td>\n",
       "      <td>6</td>\n",
       "      <td>50</td>\n",
       "      <td>0.918597</td>\n",
       "    </tr>\n",
       "  </tbody>\n",
       "</table>\n",
       "</div>"
      ],
      "text/plain": [
       "     classifier__bootstrap classifier__criterion  classifier__max_depth  \\\n",
       "406                  False               entropy                     30   \n",
       "407                  False               entropy                     30   \n",
       "386                  False               entropy                     23   \n",
       "413                  False               entropy                     30   \n",
       "365                  False               entropy                     17   \n",
       "362                  False               entropy                     17   \n",
       "422                  False               entropy                     30   \n",
       "279                  False                  gini                     23   \n",
       "282                  False                  gini                     23   \n",
       "411                  False               entropy                     30   \n",
       "\n",
       "     classifier__min_samples_leaf  classifier__min_samples_split  \\\n",
       "406                             1                              2   \n",
       "407                             1                              2   \n",
       "386                             1                              6   \n",
       "413                             1                              6   \n",
       "365                             2                              4   \n",
       "362                             2                              2   \n",
       "422                             2                              6   \n",
       "279                             2                              2   \n",
       "282                             2                              4   \n",
       "411                             1                              6   \n",
       "\n",
       "     classifier__n_estimators  Accuracy  \n",
       "406                       100  0.919621  \n",
       "407                       200  0.919621  \n",
       "386                       200  0.919493  \n",
       "413                       200  0.919365  \n",
       "365                       200  0.919237  \n",
       "362                       200  0.919237  \n",
       "422                       200  0.918853  \n",
       "279                        50  0.918597  \n",
       "282                        50  0.918597  \n",
       "411                        50  0.918597  "
      ]
     },
     "execution_count": 50,
     "metadata": {},
     "output_type": "execute_result"
    }
   ],
   "source": [
    "best_model_score = best.best_score_\n",
    "grid_df = pd.concat([pd.DataFrame(best.cv_results_[\"params\"]),pd.DataFrame(best.cv_results_[\"mean_test_score\"], columns=[\"Accuracy\"])],axis=1)\n",
    "grid_df.sort_values(by=['Accuracy'], ascending=False).head(n=10)"
   ]
  },
  {
   "cell_type": "markdown",
   "id": "d1d9488d",
   "metadata": {},
   "source": [
    "- And the worst 10 combinations are:"
   ]
  },
  {
   "cell_type": "code",
   "execution_count": 51,
   "id": "0f6b862d",
   "metadata": {
    "scrolled": true
   },
   "outputs": [
    {
     "data": {
      "text/html": [
       "<div>\n",
       "<style scoped>\n",
       "    .dataframe tbody tr th:only-of-type {\n",
       "        vertical-align: middle;\n",
       "    }\n",
       "\n",
       "    .dataframe tbody tr th {\n",
       "        vertical-align: top;\n",
       "    }\n",
       "\n",
       "    .dataframe thead th {\n",
       "        text-align: right;\n",
       "    }\n",
       "</style>\n",
       "<table border=\"1\" class=\"dataframe\">\n",
       "  <thead>\n",
       "    <tr style=\"text-align: right;\">\n",
       "      <th></th>\n",
       "      <th>classifier__bootstrap</th>\n",
       "      <th>classifier__criterion</th>\n",
       "      <th>classifier__max_depth</th>\n",
       "      <th>classifier__min_samples_leaf</th>\n",
       "      <th>classifier__min_samples_split</th>\n",
       "      <th>classifier__n_estimators</th>\n",
       "      <th>Accuracy</th>\n",
       "    </tr>\n",
       "  </thead>\n",
       "  <tbody>\n",
       "    <tr>\n",
       "      <th>4</th>\n",
       "      <td>True</td>\n",
       "      <td>gini</td>\n",
       "      <td>10</td>\n",
       "      <td>1</td>\n",
       "      <td>4</td>\n",
       "      <td>100</td>\n",
       "      <td>0.896582</td>\n",
       "    </tr>\n",
       "    <tr>\n",
       "      <th>132</th>\n",
       "      <td>True</td>\n",
       "      <td>entropy</td>\n",
       "      <td>10</td>\n",
       "      <td>5</td>\n",
       "      <td>6</td>\n",
       "      <td>50</td>\n",
       "      <td>0.896070</td>\n",
       "    </tr>\n",
       "    <tr>\n",
       "      <th>126</th>\n",
       "      <td>True</td>\n",
       "      <td>entropy</td>\n",
       "      <td>10</td>\n",
       "      <td>5</td>\n",
       "      <td>2</td>\n",
       "      <td>50</td>\n",
       "      <td>0.896070</td>\n",
       "    </tr>\n",
       "    <tr>\n",
       "      <th>129</th>\n",
       "      <td>True</td>\n",
       "      <td>entropy</td>\n",
       "      <td>10</td>\n",
       "      <td>5</td>\n",
       "      <td>4</td>\n",
       "      <td>50</td>\n",
       "      <td>0.896070</td>\n",
       "    </tr>\n",
       "    <tr>\n",
       "      <th>25</th>\n",
       "      <td>True</td>\n",
       "      <td>gini</td>\n",
       "      <td>10</td>\n",
       "      <td>5</td>\n",
       "      <td>6</td>\n",
       "      <td>100</td>\n",
       "      <td>0.896070</td>\n",
       "    </tr>\n",
       "    <tr>\n",
       "      <th>22</th>\n",
       "      <td>True</td>\n",
       "      <td>gini</td>\n",
       "      <td>10</td>\n",
       "      <td>5</td>\n",
       "      <td>4</td>\n",
       "      <td>100</td>\n",
       "      <td>0.896070</td>\n",
       "    </tr>\n",
       "    <tr>\n",
       "      <th>19</th>\n",
       "      <td>True</td>\n",
       "      <td>gini</td>\n",
       "      <td>10</td>\n",
       "      <td>5</td>\n",
       "      <td>2</td>\n",
       "      <td>100</td>\n",
       "      <td>0.896070</td>\n",
       "    </tr>\n",
       "    <tr>\n",
       "      <th>9</th>\n",
       "      <td>True</td>\n",
       "      <td>gini</td>\n",
       "      <td>10</td>\n",
       "      <td>2</td>\n",
       "      <td>2</td>\n",
       "      <td>50</td>\n",
       "      <td>0.895814</td>\n",
       "    </tr>\n",
       "    <tr>\n",
       "      <th>12</th>\n",
       "      <td>True</td>\n",
       "      <td>gini</td>\n",
       "      <td>10</td>\n",
       "      <td>2</td>\n",
       "      <td>4</td>\n",
       "      <td>50</td>\n",
       "      <td>0.895814</td>\n",
       "    </tr>\n",
       "    <tr>\n",
       "      <th>3</th>\n",
       "      <td>True</td>\n",
       "      <td>gini</td>\n",
       "      <td>10</td>\n",
       "      <td>1</td>\n",
       "      <td>4</td>\n",
       "      <td>50</td>\n",
       "      <td>0.894918</td>\n",
       "    </tr>\n",
       "  </tbody>\n",
       "</table>\n",
       "</div>"
      ],
      "text/plain": [
       "     classifier__bootstrap classifier__criterion  classifier__max_depth  \\\n",
       "4                     True                  gini                     10   \n",
       "132                   True               entropy                     10   \n",
       "126                   True               entropy                     10   \n",
       "129                   True               entropy                     10   \n",
       "25                    True                  gini                     10   \n",
       "22                    True                  gini                     10   \n",
       "19                    True                  gini                     10   \n",
       "9                     True                  gini                     10   \n",
       "12                    True                  gini                     10   \n",
       "3                     True                  gini                     10   \n",
       "\n",
       "     classifier__min_samples_leaf  classifier__min_samples_split  \\\n",
       "4                               1                              4   \n",
       "132                             5                              6   \n",
       "126                             5                              2   \n",
       "129                             5                              4   \n",
       "25                              5                              6   \n",
       "22                              5                              4   \n",
       "19                              5                              2   \n",
       "9                               2                              2   \n",
       "12                              2                              4   \n",
       "3                               1                              4   \n",
       "\n",
       "     classifier__n_estimators  Accuracy  \n",
       "4                         100  0.896582  \n",
       "132                        50  0.896070  \n",
       "126                        50  0.896070  \n",
       "129                        50  0.896070  \n",
       "25                        100  0.896070  \n",
       "22                        100  0.896070  \n",
       "19                        100  0.896070  \n",
       "9                          50  0.895814  \n",
       "12                         50  0.895814  \n",
       "3                          50  0.894918  "
      ]
     },
     "execution_count": 51,
     "metadata": {},
     "output_type": "execute_result"
    }
   ],
   "source": [
    "grid_df.sort_values(by=['Accuracy'], ascending=False).tail(n=10)"
   ]
  },
  {
   "cell_type": "markdown",
   "id": "2c040f1d",
   "metadata": {},
   "source": [
    "We decided to check it one more time..."
   ]
  },
  {
   "cell_type": "code",
   "execution_count": 52,
   "id": "43e6a837",
   "metadata": {},
   "outputs": [
    {
     "data": {
      "text/markdown": [
       "_Train data accuracy:_ **1.000**"
      ],
      "text/plain": [
       "<IPython.core.display.Markdown object>"
      ]
     },
     "metadata": {},
     "output_type": "display_data"
    },
    {
     "data": {
      "text/markdown": [
       "_Train data cross-val(k=3) accuracy:_ **0.920**"
      ],
      "text/plain": [
       "<IPython.core.display.Markdown object>"
      ]
     },
     "metadata": {},
     "output_type": "display_data"
    },
    {
     "data": {
      "text/markdown": [
       "_Test data accuracy:_ **0.930**"
      ],
      "text/plain": [
       "<IPython.core.display.Markdown object>"
      ]
     },
     "metadata": {},
     "output_type": "display_data"
    },
    {
     "data": {
      "text/markdown": [
       "<span style='color:green'>**6.67%** compared to default DecisionTree (0.872)</span>"
      ],
      "text/plain": [
       "<IPython.core.display.Markdown object>"
      ]
     },
     "metadata": {},
     "output_type": "display_data"
    },
    {
     "data": {
      "text/markdown": [
       "<span style='color:green'>**0.28%** compared to default RandomForest (0.928)</span>"
      ],
      "text/plain": [
       "<IPython.core.display.Markdown object>"
      ]
     },
     "metadata": {},
     "output_type": "display_data"
    },
    {
     "data": {
      "text/markdown": [
       "<span style='color:green'>**0.00%** compared to Best Model Score (0.920)</span>"
      ],
      "text/plain": [
       "<IPython.core.display.Markdown object>"
      ]
     },
     "metadata": {},
     "output_type": "display_data"
    },
    {
     "data": {
      "text/html": [
       "<style>#sk-d99582c0-ef2f-4eea-9768-3c2d09d58083 {color: black;background-color: white;}#sk-d99582c0-ef2f-4eea-9768-3c2d09d58083 pre{padding: 0;}#sk-d99582c0-ef2f-4eea-9768-3c2d09d58083 div.sk-toggleable {background-color: white;}#sk-d99582c0-ef2f-4eea-9768-3c2d09d58083 label.sk-toggleable__label {cursor: pointer;display: block;width: 100%;margin-bottom: 0;padding: 0.2em 0.3em;box-sizing: border-box;text-align: center;}#sk-d99582c0-ef2f-4eea-9768-3c2d09d58083 div.sk-toggleable__content {max-height: 0;max-width: 0;overflow: hidden;text-align: left;background-color: #f0f8ff;}#sk-d99582c0-ef2f-4eea-9768-3c2d09d58083 div.sk-toggleable__content pre {margin: 0.2em;color: black;border-radius: 0.25em;background-color: #f0f8ff;}#sk-d99582c0-ef2f-4eea-9768-3c2d09d58083 input.sk-toggleable__control:checked~div.sk-toggleable__content {max-height: 200px;max-width: 100%;overflow: auto;}#sk-d99582c0-ef2f-4eea-9768-3c2d09d58083 div.sk-estimator input.sk-toggleable__control:checked~label.sk-toggleable__label {background-color: #d4ebff;}#sk-d99582c0-ef2f-4eea-9768-3c2d09d58083 div.sk-label input.sk-toggleable__control:checked~label.sk-toggleable__label {background-color: #d4ebff;}#sk-d99582c0-ef2f-4eea-9768-3c2d09d58083 input.sk-hidden--visually {border: 0;clip: rect(1px 1px 1px 1px);clip: rect(1px, 1px, 1px, 1px);height: 1px;margin: -1px;overflow: hidden;padding: 0;position: absolute;width: 1px;}#sk-d99582c0-ef2f-4eea-9768-3c2d09d58083 div.sk-estimator {font-family: monospace;background-color: #f0f8ff;margin: 0.25em 0.25em;border: 1px dotted black;border-radius: 0.25em;box-sizing: border-box;}#sk-d99582c0-ef2f-4eea-9768-3c2d09d58083 div.sk-estimator:hover {background-color: #d4ebff;}#sk-d99582c0-ef2f-4eea-9768-3c2d09d58083 div.sk-parallel-item::after {content: \"\";width: 100%;border-bottom: 1px solid gray;flex-grow: 1;}#sk-d99582c0-ef2f-4eea-9768-3c2d09d58083 div.sk-label:hover label.sk-toggleable__label {background-color: #d4ebff;}#sk-d99582c0-ef2f-4eea-9768-3c2d09d58083 div.sk-serial::before {content: \"\";position: absolute;border-left: 1px solid gray;box-sizing: border-box;top: 2em;bottom: 0;left: 50%;}#sk-d99582c0-ef2f-4eea-9768-3c2d09d58083 div.sk-serial {display: flex;flex-direction: column;align-items: center;background-color: white;}#sk-d99582c0-ef2f-4eea-9768-3c2d09d58083 div.sk-item {z-index: 1;}#sk-d99582c0-ef2f-4eea-9768-3c2d09d58083 div.sk-parallel {display: flex;align-items: stretch;justify-content: center;background-color: white;}#sk-d99582c0-ef2f-4eea-9768-3c2d09d58083 div.sk-parallel-item {display: flex;flex-direction: column;position: relative;background-color: white;}#sk-d99582c0-ef2f-4eea-9768-3c2d09d58083 div.sk-parallel-item:first-child::after {align-self: flex-end;width: 50%;}#sk-d99582c0-ef2f-4eea-9768-3c2d09d58083 div.sk-parallel-item:last-child::after {align-self: flex-start;width: 50%;}#sk-d99582c0-ef2f-4eea-9768-3c2d09d58083 div.sk-parallel-item:only-child::after {width: 0;}#sk-d99582c0-ef2f-4eea-9768-3c2d09d58083 div.sk-dashed-wrapped {border: 1px dashed gray;margin: 0.2em;box-sizing: border-box;padding-bottom: 0.1em;background-color: white;position: relative;}#sk-d99582c0-ef2f-4eea-9768-3c2d09d58083 div.sk-label label {font-family: monospace;font-weight: bold;background-color: white;display: inline-block;line-height: 1.2em;}#sk-d99582c0-ef2f-4eea-9768-3c2d09d58083 div.sk-label-container {position: relative;z-index: 2;text-align: center;}#sk-d99582c0-ef2f-4eea-9768-3c2d09d58083 div.sk-container {display: inline-block;position: relative;}</style><div id=\"sk-d99582c0-ef2f-4eea-9768-3c2d09d58083\" class\"sk-top-container\"><div class=\"sk-container\"><div class=\"sk-item sk-dashed-wrapped\"><div class=\"sk-label-container\"><div class=\"sk-label sk-toggleable\"><input class=\"sk-toggleable__control sk-hidden--visually\" id=\"7efd9842-6d9a-484c-b093-dd7b829cf92b\" type=\"checkbox\" ><label class=\"sk-toggleable__label\" for=\"7efd9842-6d9a-484c-b093-dd7b829cf92b\">Pipeline</label><div class=\"sk-toggleable__content\"><pre>Pipeline(steps=[('preprocessor',\n",
       "                 ColumnTransformer(transformers=[('numeric',\n",
       "                                                  Pipeline(steps=[('simpleimputer',\n",
       "                                                                   SimpleImputer())]),\n",
       "                                                  <sklearn.compose._column_transformer.make_column_selector object at 0x000001B0316E1DC0>),\n",
       "                                                 ('categoric',\n",
       "                                                  Pipeline(steps=[('ordinalencoder',\n",
       "                                                                   OrdinalEncoder())]),\n",
       "                                                  <sklearn.compose._column_transformer.make_column_selector object at 0x000001B02FA47C40>)])),\n",
       "                ('classifier',\n",
       "                 RandomForestClassifier(bootstrap=False, criterion='entropy',\n",
       "                                        max_depth=30, random_state=22))])</pre></div></div></div><div class=\"sk-serial\"><div class=\"sk-item sk-dashed-wrapped\"><div class=\"sk-label-container\"><div class=\"sk-label sk-toggleable\"><input class=\"sk-toggleable__control sk-hidden--visually\" id=\"74c2d4be-3726-4e0f-874c-608d2aedd10f\" type=\"checkbox\" ><label class=\"sk-toggleable__label\" for=\"74c2d4be-3726-4e0f-874c-608d2aedd10f\">preprocessor: ColumnTransformer</label><div class=\"sk-toggleable__content\"><pre>ColumnTransformer(transformers=[('numeric',\n",
       "                                 Pipeline(steps=[('simpleimputer',\n",
       "                                                  SimpleImputer())]),\n",
       "                                 <sklearn.compose._column_transformer.make_column_selector object at 0x000001B0316E1DC0>),\n",
       "                                ('categoric',\n",
       "                                 Pipeline(steps=[('ordinalencoder',\n",
       "                                                  OrdinalEncoder())]),\n",
       "                                 <sklearn.compose._column_transformer.make_column_selector object at 0x000001B02FA47C40>)])</pre></div></div></div><div class=\"sk-parallel\"><div class=\"sk-parallel-item\"><div class=\"sk-item\"><div class=\"sk-label-container\"><div class=\"sk-label sk-toggleable\"><input class=\"sk-toggleable__control sk-hidden--visually\" id=\"75ecf4b4-317e-4f40-a853-6b4b02a86350\" type=\"checkbox\" ><label class=\"sk-toggleable__label\" for=\"75ecf4b4-317e-4f40-a853-6b4b02a86350\">numeric</label><div class=\"sk-toggleable__content\"><pre><sklearn.compose._column_transformer.make_column_selector object at 0x000001B0316E1DC0></pre></div></div></div><div class=\"sk-serial\"><div class=\"sk-item\"><div class=\"sk-serial\"><div class=\"sk-item\"><div class=\"sk-estimator sk-toggleable\"><input class=\"sk-toggleable__control sk-hidden--visually\" id=\"b475db95-55c8-4326-a14d-dbdd0f17285e\" type=\"checkbox\" ><label class=\"sk-toggleable__label\" for=\"b475db95-55c8-4326-a14d-dbdd0f17285e\">SimpleImputer</label><div class=\"sk-toggleable__content\"><pre>SimpleImputer()</pre></div></div></div></div></div></div></div></div><div class=\"sk-parallel-item\"><div class=\"sk-item\"><div class=\"sk-label-container\"><div class=\"sk-label sk-toggleable\"><input class=\"sk-toggleable__control sk-hidden--visually\" id=\"eff08dcc-14d0-452a-984d-bb822fb1a421\" type=\"checkbox\" ><label class=\"sk-toggleable__label\" for=\"eff08dcc-14d0-452a-984d-bb822fb1a421\">categoric</label><div class=\"sk-toggleable__content\"><pre><sklearn.compose._column_transformer.make_column_selector object at 0x000001B02FA47C40></pre></div></div></div><div class=\"sk-serial\"><div class=\"sk-item\"><div class=\"sk-serial\"><div class=\"sk-item\"><div class=\"sk-estimator sk-toggleable\"><input class=\"sk-toggleable__control sk-hidden--visually\" id=\"437b9909-46c4-4b69-8ad3-b7baf94f6f8c\" type=\"checkbox\" ><label class=\"sk-toggleable__label\" for=\"437b9909-46c4-4b69-8ad3-b7baf94f6f8c\">OrdinalEncoder</label><div class=\"sk-toggleable__content\"><pre>OrdinalEncoder()</pre></div></div></div></div></div></div></div></div></div></div><div class=\"sk-item\"><div class=\"sk-estimator sk-toggleable\"><input class=\"sk-toggleable__control sk-hidden--visually\" id=\"d0a741fb-f17c-442d-b50d-7fb495e46268\" type=\"checkbox\" ><label class=\"sk-toggleable__label\" for=\"d0a741fb-f17c-442d-b50d-7fb495e46268\">RandomForestClassifier</label><div class=\"sk-toggleable__content\"><pre>RandomForestClassifier(bootstrap=False, criterion='entropy', max_depth=30,\n",
       "                       random_state=22)</pre></div></div></div></div></div></div></div>"
      ],
      "text/plain": [
       "Pipeline(steps=[('preprocessor',\n",
       "                 ColumnTransformer(transformers=[('numeric',\n",
       "                                                  Pipeline(steps=[('simpleimputer',\n",
       "                                                                   SimpleImputer())]),\n",
       "                                                  <sklearn.compose._column_transformer.make_column_selector object at 0x000001B0316E1DC0>),\n",
       "                                                 ('categoric',\n",
       "                                                  Pipeline(steps=[('ordinalencoder',\n",
       "                                                                   OrdinalEncoder())]),\n",
       "                                                  <sklearn.compose._column_transformer.make_column_selector object at 0x000001B02FA47C40>)])),\n",
       "                ('classifier',\n",
       "                 RandomForestClassifier(bootstrap=False, criterion='entropy',\n",
       "                                        max_depth=30, random_state=22))])"
      ]
     },
     "execution_count": 52,
     "metadata": {},
     "output_type": "execute_result"
    }
   ],
   "source": [
    "# Best Model Forest Classifier\n",
    "pipe_bm_rf = CustomPipe(classifier=RandomForestClassifier)\n",
    "pipe_bm_rf.pipe.set_params(**best.best_params_)\n",
    "pipe_bm_rf.fit( df_x_train, df_y_train )\n",
    "eval_model_accuracy(pipe_bm_rf, df_x_train, df_x_test, df_y_train, df_y_test)\n",
    "pipe_bm_rf.pipe"
   ]
  },
  {
   "cell_type": "markdown",
   "id": "4502ecd3",
   "metadata": {},
   "source": [
    "- Likewise we checked the best model on data without outliers and missing (NA) values. It shows poorer performance as the fewer data were in use."
   ]
  },
  {
   "cell_type": "code",
   "execution_count": 53,
   "id": "af05659f",
   "metadata": {},
   "outputs": [
    {
     "data": {
      "text/markdown": [
       "_Train data accuracy:_ **1.000**"
      ],
      "text/plain": [
       "<IPython.core.display.Markdown object>"
      ]
     },
     "metadata": {},
     "output_type": "display_data"
    },
    {
     "data": {
      "text/markdown": [
       "_Train data cross-val(k=3) accuracy:_ **0.858**"
      ],
      "text/plain": [
       "<IPython.core.display.Markdown object>"
      ]
     },
     "metadata": {},
     "output_type": "display_data"
    },
    {
     "data": {
      "text/markdown": [
       "_Test data accuracy:_ **0.862**"
      ],
      "text/plain": [
       "<IPython.core.display.Markdown object>"
      ]
     },
     "metadata": {},
     "output_type": "display_data"
    },
    {
     "data": {
      "text/markdown": [
       "<span style='color:red'>**-1.11%** compared to default DecisionTree (0.872)</span>"
      ],
      "text/plain": [
       "<IPython.core.display.Markdown object>"
      ]
     },
     "metadata": {},
     "output_type": "display_data"
    },
    {
     "data": {
      "text/markdown": [
       "<span style='color:red'>**-7.04%** compared to default RandomForest (0.928)</span>"
      ],
      "text/plain": [
       "<IPython.core.display.Markdown object>"
      ]
     },
     "metadata": {},
     "output_type": "display_data"
    },
    {
     "data": {
      "text/markdown": [
       "<span style='color:red'>**-6.68%** compared to Best Model Score (0.920)</span>"
      ],
      "text/plain": [
       "<IPython.core.display.Markdown object>"
      ]
     },
     "metadata": {},
     "output_type": "display_data"
    },
    {
     "data": {
      "text/html": [
       "<style>#sk-308a311e-9c58-4a9d-ba45-65a20d3d9b2b {color: black;background-color: white;}#sk-308a311e-9c58-4a9d-ba45-65a20d3d9b2b pre{padding: 0;}#sk-308a311e-9c58-4a9d-ba45-65a20d3d9b2b div.sk-toggleable {background-color: white;}#sk-308a311e-9c58-4a9d-ba45-65a20d3d9b2b label.sk-toggleable__label {cursor: pointer;display: block;width: 100%;margin-bottom: 0;padding: 0.2em 0.3em;box-sizing: border-box;text-align: center;}#sk-308a311e-9c58-4a9d-ba45-65a20d3d9b2b div.sk-toggleable__content {max-height: 0;max-width: 0;overflow: hidden;text-align: left;background-color: #f0f8ff;}#sk-308a311e-9c58-4a9d-ba45-65a20d3d9b2b div.sk-toggleable__content pre {margin: 0.2em;color: black;border-radius: 0.25em;background-color: #f0f8ff;}#sk-308a311e-9c58-4a9d-ba45-65a20d3d9b2b input.sk-toggleable__control:checked~div.sk-toggleable__content {max-height: 200px;max-width: 100%;overflow: auto;}#sk-308a311e-9c58-4a9d-ba45-65a20d3d9b2b div.sk-estimator input.sk-toggleable__control:checked~label.sk-toggleable__label {background-color: #d4ebff;}#sk-308a311e-9c58-4a9d-ba45-65a20d3d9b2b div.sk-label input.sk-toggleable__control:checked~label.sk-toggleable__label {background-color: #d4ebff;}#sk-308a311e-9c58-4a9d-ba45-65a20d3d9b2b input.sk-hidden--visually {border: 0;clip: rect(1px 1px 1px 1px);clip: rect(1px, 1px, 1px, 1px);height: 1px;margin: -1px;overflow: hidden;padding: 0;position: absolute;width: 1px;}#sk-308a311e-9c58-4a9d-ba45-65a20d3d9b2b div.sk-estimator {font-family: monospace;background-color: #f0f8ff;margin: 0.25em 0.25em;border: 1px dotted black;border-radius: 0.25em;box-sizing: border-box;}#sk-308a311e-9c58-4a9d-ba45-65a20d3d9b2b div.sk-estimator:hover {background-color: #d4ebff;}#sk-308a311e-9c58-4a9d-ba45-65a20d3d9b2b div.sk-parallel-item::after {content: \"\";width: 100%;border-bottom: 1px solid gray;flex-grow: 1;}#sk-308a311e-9c58-4a9d-ba45-65a20d3d9b2b div.sk-label:hover label.sk-toggleable__label {background-color: #d4ebff;}#sk-308a311e-9c58-4a9d-ba45-65a20d3d9b2b div.sk-serial::before {content: \"\";position: absolute;border-left: 1px solid gray;box-sizing: border-box;top: 2em;bottom: 0;left: 50%;}#sk-308a311e-9c58-4a9d-ba45-65a20d3d9b2b div.sk-serial {display: flex;flex-direction: column;align-items: center;background-color: white;}#sk-308a311e-9c58-4a9d-ba45-65a20d3d9b2b div.sk-item {z-index: 1;}#sk-308a311e-9c58-4a9d-ba45-65a20d3d9b2b div.sk-parallel {display: flex;align-items: stretch;justify-content: center;background-color: white;}#sk-308a311e-9c58-4a9d-ba45-65a20d3d9b2b div.sk-parallel-item {display: flex;flex-direction: column;position: relative;background-color: white;}#sk-308a311e-9c58-4a9d-ba45-65a20d3d9b2b div.sk-parallel-item:first-child::after {align-self: flex-end;width: 50%;}#sk-308a311e-9c58-4a9d-ba45-65a20d3d9b2b div.sk-parallel-item:last-child::after {align-self: flex-start;width: 50%;}#sk-308a311e-9c58-4a9d-ba45-65a20d3d9b2b div.sk-parallel-item:only-child::after {width: 0;}#sk-308a311e-9c58-4a9d-ba45-65a20d3d9b2b div.sk-dashed-wrapped {border: 1px dashed gray;margin: 0.2em;box-sizing: border-box;padding-bottom: 0.1em;background-color: white;position: relative;}#sk-308a311e-9c58-4a9d-ba45-65a20d3d9b2b div.sk-label label {font-family: monospace;font-weight: bold;background-color: white;display: inline-block;line-height: 1.2em;}#sk-308a311e-9c58-4a9d-ba45-65a20d3d9b2b div.sk-label-container {position: relative;z-index: 2;text-align: center;}#sk-308a311e-9c58-4a9d-ba45-65a20d3d9b2b div.sk-container {display: inline-block;position: relative;}</style><div id=\"sk-308a311e-9c58-4a9d-ba45-65a20d3d9b2b\" class\"sk-top-container\"><div class=\"sk-container\"><div class=\"sk-item sk-dashed-wrapped\"><div class=\"sk-label-container\"><div class=\"sk-label sk-toggleable\"><input class=\"sk-toggleable__control sk-hidden--visually\" id=\"f4319286-b0ad-4084-af11-9dd38416a33a\" type=\"checkbox\" ><label class=\"sk-toggleable__label\" for=\"f4319286-b0ad-4084-af11-9dd38416a33a\">Pipeline</label><div class=\"sk-toggleable__content\"><pre>Pipeline(steps=[('preprocessor',\n",
       "                 ColumnTransformer(transformers=[('numeric',\n",
       "                                                  Pipeline(steps=[('passthrough',\n",
       "                                                                   'passthrough')]),\n",
       "                                                  <sklearn.compose._column_transformer.make_column_selector object at 0x000001B02FA73490>),\n",
       "                                                 ('categoric',\n",
       "                                                  Pipeline(steps=[('ordinalencoder',\n",
       "                                                                   OrdinalEncoder())]),\n",
       "                                                  <sklearn.compose._column_transformer.make_column_selector object at 0x000001B02FA73700>)])),\n",
       "                ('classifier',\n",
       "                 RandomForestClassifier(bootstrap=False, criterion='entropy',\n",
       "                                        max_depth=30, random_state=22))])</pre></div></div></div><div class=\"sk-serial\"><div class=\"sk-item sk-dashed-wrapped\"><div class=\"sk-label-container\"><div class=\"sk-label sk-toggleable\"><input class=\"sk-toggleable__control sk-hidden--visually\" id=\"4805b55b-473b-413a-9964-f085133de340\" type=\"checkbox\" ><label class=\"sk-toggleable__label\" for=\"4805b55b-473b-413a-9964-f085133de340\">preprocessor: ColumnTransformer</label><div class=\"sk-toggleable__content\"><pre>ColumnTransformer(transformers=[('numeric',\n",
       "                                 Pipeline(steps=[('passthrough',\n",
       "                                                  'passthrough')]),\n",
       "                                 <sklearn.compose._column_transformer.make_column_selector object at 0x000001B02FA73490>),\n",
       "                                ('categoric',\n",
       "                                 Pipeline(steps=[('ordinalencoder',\n",
       "                                                  OrdinalEncoder())]),\n",
       "                                 <sklearn.compose._column_transformer.make_column_selector object at 0x000001B02FA73700>)])</pre></div></div></div><div class=\"sk-parallel\"><div class=\"sk-parallel-item\"><div class=\"sk-item\"><div class=\"sk-label-container\"><div class=\"sk-label sk-toggleable\"><input class=\"sk-toggleable__control sk-hidden--visually\" id=\"f94d7457-76b3-44aa-b790-0263d7a771a5\" type=\"checkbox\" ><label class=\"sk-toggleable__label\" for=\"f94d7457-76b3-44aa-b790-0263d7a771a5\">numeric</label><div class=\"sk-toggleable__content\"><pre><sklearn.compose._column_transformer.make_column_selector object at 0x000001B02FA73490></pre></div></div></div><div class=\"sk-serial\"><div class=\"sk-item\"><div class=\"sk-serial\"><div class=\"sk-item\"><div class=\"sk-estimator sk-toggleable\"><input class=\"sk-toggleable__control sk-hidden--visually\" id=\"da5c2182-d94f-4d9f-a816-ad548677658f\" type=\"checkbox\" ><label class=\"sk-toggleable__label\" for=\"da5c2182-d94f-4d9f-a816-ad548677658f\">passthrough</label><div class=\"sk-toggleable__content\"><pre>passthrough</pre></div></div></div></div></div></div></div></div><div class=\"sk-parallel-item\"><div class=\"sk-item\"><div class=\"sk-label-container\"><div class=\"sk-label sk-toggleable\"><input class=\"sk-toggleable__control sk-hidden--visually\" id=\"941e8cbe-092e-469e-b970-121f782f6f0b\" type=\"checkbox\" ><label class=\"sk-toggleable__label\" for=\"941e8cbe-092e-469e-b970-121f782f6f0b\">categoric</label><div class=\"sk-toggleable__content\"><pre><sklearn.compose._column_transformer.make_column_selector object at 0x000001B02FA73700></pre></div></div></div><div class=\"sk-serial\"><div class=\"sk-item\"><div class=\"sk-serial\"><div class=\"sk-item\"><div class=\"sk-estimator sk-toggleable\"><input class=\"sk-toggleable__control sk-hidden--visually\" id=\"de0f2080-5cc4-41b4-a2b2-5528742015c2\" type=\"checkbox\" ><label class=\"sk-toggleable__label\" for=\"de0f2080-5cc4-41b4-a2b2-5528742015c2\">OrdinalEncoder</label><div class=\"sk-toggleable__content\"><pre>OrdinalEncoder()</pre></div></div></div></div></div></div></div></div></div></div><div class=\"sk-item\"><div class=\"sk-estimator sk-toggleable\"><input class=\"sk-toggleable__control sk-hidden--visually\" id=\"7e01c65d-3525-49d5-a88c-ee96a4dc2fe6\" type=\"checkbox\" ><label class=\"sk-toggleable__label\" for=\"7e01c65d-3525-49d5-a88c-ee96a4dc2fe6\">RandomForestClassifier</label><div class=\"sk-toggleable__content\"><pre>RandomForestClassifier(bootstrap=False, criterion='entropy', max_depth=30,\n",
       "                       random_state=22)</pre></div></div></div></div></div></div></div>"
      ],
      "text/plain": [
       "Pipeline(steps=[('preprocessor',\n",
       "                 ColumnTransformer(transformers=[('numeric',\n",
       "                                                  Pipeline(steps=[('passthrough',\n",
       "                                                                   'passthrough')]),\n",
       "                                                  <sklearn.compose._column_transformer.make_column_selector object at 0x000001B02FA73490>),\n",
       "                                                 ('categoric',\n",
       "                                                  Pipeline(steps=[('ordinalencoder',\n",
       "                                                                   OrdinalEncoder())]),\n",
       "                                                  <sklearn.compose._column_transformer.make_column_selector object at 0x000001B02FA73700>)])),\n",
       "                ('classifier',\n",
       "                 RandomForestClassifier(bootstrap=False, criterion='entropy',\n",
       "                                        max_depth=30, random_state=22))])"
      ]
     },
     "execution_count": 53,
     "metadata": {},
     "output_type": "execute_result"
    }
   ],
   "source": [
    "pipe_bm_rf = CustomPipe(classifier=RandomForestClassifier, na='drop')\n",
    "pipe_bm_rf.pipe.set_params(**best.best_params_)\n",
    "pipe_bm_rf.fit( df_x_train, df_y_train )\n",
    "eval_model_accuracy(pipe_bm_rf, df_x_train, df_x_test, df_y_train, df_y_test)\n",
    "pipe_bm_rf.pipe"
   ]
  },
  {
   "cell_type": "markdown",
   "id": "72d053fd",
   "metadata": {},
   "source": [
    "- At this step we checked the best model on data with the outliers & dropped missing (NA) values. It shows quite better performance in comparison with the previous model meaning the outliers are important to make better decision rules. However, the best model without outliers & imputed NA values is still more accurate."
   ]
  },
  {
   "cell_type": "code",
   "execution_count": 72,
   "id": "b1d9be30",
   "metadata": {},
   "outputs": [
    {
     "data": {
      "text/markdown": [
       "_Train data accuracy:_ **1.000**"
      ],
      "text/plain": [
       "<IPython.core.display.Markdown object>"
      ]
     },
     "metadata": {},
     "output_type": "display_data"
    },
    {
     "data": {
      "text/markdown": [
       "_Train data cross-val(k=3) accuracy:_ **0.919**"
      ],
      "text/plain": [
       "<IPython.core.display.Markdown object>"
      ]
     },
     "metadata": {},
     "output_type": "display_data"
    },
    {
     "data": {
      "text/markdown": [
       "_Test data accuracy:_ **0.932**"
      ],
      "text/plain": [
       "<IPython.core.display.Markdown object>"
      ]
     },
     "metadata": {},
     "output_type": "display_data"
    },
    {
     "data": {
      "text/markdown": [
       "<span style='color:green'>**6.84%** compared to default DecisionTree (0.872)</span>"
      ],
      "text/plain": [
       "<IPython.core.display.Markdown object>"
      ]
     },
     "metadata": {},
     "output_type": "display_data"
    },
    {
     "data": {
      "text/markdown": [
       "<span style='color:green'>**0.43%** compared to default RandomForest (0.928)</span>"
      ],
      "text/plain": [
       "<IPython.core.display.Markdown object>"
      ]
     },
     "metadata": {},
     "output_type": "display_data"
    },
    {
     "data": {
      "text/markdown": [
       "<span style='color:red'>**-0.01%** compared to Best Model Score (0.920)</span>"
      ],
      "text/plain": [
       "<IPython.core.display.Markdown object>"
      ]
     },
     "metadata": {},
     "output_type": "display_data"
    },
    {
     "data": {
      "text/html": [
       "<style>#sk-ea0cddde-7a61-4f79-85b6-a1cca291748b {color: black;background-color: white;}#sk-ea0cddde-7a61-4f79-85b6-a1cca291748b pre{padding: 0;}#sk-ea0cddde-7a61-4f79-85b6-a1cca291748b div.sk-toggleable {background-color: white;}#sk-ea0cddde-7a61-4f79-85b6-a1cca291748b label.sk-toggleable__label {cursor: pointer;display: block;width: 100%;margin-bottom: 0;padding: 0.2em 0.3em;box-sizing: border-box;text-align: center;}#sk-ea0cddde-7a61-4f79-85b6-a1cca291748b div.sk-toggleable__content {max-height: 0;max-width: 0;overflow: hidden;text-align: left;background-color: #f0f8ff;}#sk-ea0cddde-7a61-4f79-85b6-a1cca291748b div.sk-toggleable__content pre {margin: 0.2em;color: black;border-radius: 0.25em;background-color: #f0f8ff;}#sk-ea0cddde-7a61-4f79-85b6-a1cca291748b input.sk-toggleable__control:checked~div.sk-toggleable__content {max-height: 200px;max-width: 100%;overflow: auto;}#sk-ea0cddde-7a61-4f79-85b6-a1cca291748b div.sk-estimator input.sk-toggleable__control:checked~label.sk-toggleable__label {background-color: #d4ebff;}#sk-ea0cddde-7a61-4f79-85b6-a1cca291748b div.sk-label input.sk-toggleable__control:checked~label.sk-toggleable__label {background-color: #d4ebff;}#sk-ea0cddde-7a61-4f79-85b6-a1cca291748b input.sk-hidden--visually {border: 0;clip: rect(1px 1px 1px 1px);clip: rect(1px, 1px, 1px, 1px);height: 1px;margin: -1px;overflow: hidden;padding: 0;position: absolute;width: 1px;}#sk-ea0cddde-7a61-4f79-85b6-a1cca291748b div.sk-estimator {font-family: monospace;background-color: #f0f8ff;margin: 0.25em 0.25em;border: 1px dotted black;border-radius: 0.25em;box-sizing: border-box;}#sk-ea0cddde-7a61-4f79-85b6-a1cca291748b div.sk-estimator:hover {background-color: #d4ebff;}#sk-ea0cddde-7a61-4f79-85b6-a1cca291748b div.sk-parallel-item::after {content: \"\";width: 100%;border-bottom: 1px solid gray;flex-grow: 1;}#sk-ea0cddde-7a61-4f79-85b6-a1cca291748b div.sk-label:hover label.sk-toggleable__label {background-color: #d4ebff;}#sk-ea0cddde-7a61-4f79-85b6-a1cca291748b div.sk-serial::before {content: \"\";position: absolute;border-left: 1px solid gray;box-sizing: border-box;top: 2em;bottom: 0;left: 50%;}#sk-ea0cddde-7a61-4f79-85b6-a1cca291748b div.sk-serial {display: flex;flex-direction: column;align-items: center;background-color: white;}#sk-ea0cddde-7a61-4f79-85b6-a1cca291748b div.sk-item {z-index: 1;}#sk-ea0cddde-7a61-4f79-85b6-a1cca291748b div.sk-parallel {display: flex;align-items: stretch;justify-content: center;background-color: white;}#sk-ea0cddde-7a61-4f79-85b6-a1cca291748b div.sk-parallel-item {display: flex;flex-direction: column;position: relative;background-color: white;}#sk-ea0cddde-7a61-4f79-85b6-a1cca291748b div.sk-parallel-item:first-child::after {align-self: flex-end;width: 50%;}#sk-ea0cddde-7a61-4f79-85b6-a1cca291748b div.sk-parallel-item:last-child::after {align-self: flex-start;width: 50%;}#sk-ea0cddde-7a61-4f79-85b6-a1cca291748b div.sk-parallel-item:only-child::after {width: 0;}#sk-ea0cddde-7a61-4f79-85b6-a1cca291748b div.sk-dashed-wrapped {border: 1px dashed gray;margin: 0.2em;box-sizing: border-box;padding-bottom: 0.1em;background-color: white;position: relative;}#sk-ea0cddde-7a61-4f79-85b6-a1cca291748b div.sk-label label {font-family: monospace;font-weight: bold;background-color: white;display: inline-block;line-height: 1.2em;}#sk-ea0cddde-7a61-4f79-85b6-a1cca291748b div.sk-label-container {position: relative;z-index: 2;text-align: center;}#sk-ea0cddde-7a61-4f79-85b6-a1cca291748b div.sk-container {display: inline-block;position: relative;}</style><div id=\"sk-ea0cddde-7a61-4f79-85b6-a1cca291748b\" class\"sk-top-container\"><div class=\"sk-container\"><div class=\"sk-item sk-dashed-wrapped\"><div class=\"sk-label-container\"><div class=\"sk-label sk-toggleable\"><input class=\"sk-toggleable__control sk-hidden--visually\" id=\"67f895a0-e793-4956-abc9-3d2d273ab46f\" type=\"checkbox\" ><label class=\"sk-toggleable__label\" for=\"67f895a0-e793-4956-abc9-3d2d273ab46f\">Pipeline</label><div class=\"sk-toggleable__content\"><pre>Pipeline(steps=[('preprocessor',\n",
       "                 ColumnTransformer(transformers=[('numeric',\n",
       "                                                  Pipeline(steps=[('passthrough',\n",
       "                                                                   'passthrough')]),\n",
       "                                                  <sklearn.compose._column_transformer.make_column_selector object at 0x000001B02FB9D790>),\n",
       "                                                 ('categoric',\n",
       "                                                  Pipeline(steps=[('ordinalencoder',\n",
       "                                                                   OrdinalEncoder())]),\n",
       "                                                  <sklearn.compose._column_transformer.make_column_selector object at 0x000001B03152EAF0>)])),\n",
       "                ('classifier',\n",
       "                 RandomForestClassifier(bootstrap=False, criterion='entropy',\n",
       "                                        max_depth=30, random_state=22))])</pre></div></div></div><div class=\"sk-serial\"><div class=\"sk-item sk-dashed-wrapped\"><div class=\"sk-label-container\"><div class=\"sk-label sk-toggleable\"><input class=\"sk-toggleable__control sk-hidden--visually\" id=\"a0465046-4238-4e4b-9ece-87a67cb1cdd6\" type=\"checkbox\" ><label class=\"sk-toggleable__label\" for=\"a0465046-4238-4e4b-9ece-87a67cb1cdd6\">preprocessor: ColumnTransformer</label><div class=\"sk-toggleable__content\"><pre>ColumnTransformer(transformers=[('numeric',\n",
       "                                 Pipeline(steps=[('passthrough',\n",
       "                                                  'passthrough')]),\n",
       "                                 <sklearn.compose._column_transformer.make_column_selector object at 0x000001B02FB9D790>),\n",
       "                                ('categoric',\n",
       "                                 Pipeline(steps=[('ordinalencoder',\n",
       "                                                  OrdinalEncoder())]),\n",
       "                                 <sklearn.compose._column_transformer.make_column_selector object at 0x000001B03152EAF0>)])</pre></div></div></div><div class=\"sk-parallel\"><div class=\"sk-parallel-item\"><div class=\"sk-item\"><div class=\"sk-label-container\"><div class=\"sk-label sk-toggleable\"><input class=\"sk-toggleable__control sk-hidden--visually\" id=\"4768d186-3fde-47ff-ab8b-ad390d89d59a\" type=\"checkbox\" ><label class=\"sk-toggleable__label\" for=\"4768d186-3fde-47ff-ab8b-ad390d89d59a\">numeric</label><div class=\"sk-toggleable__content\"><pre><sklearn.compose._column_transformer.make_column_selector object at 0x000001B02FB9D790></pre></div></div></div><div class=\"sk-serial\"><div class=\"sk-item\"><div class=\"sk-serial\"><div class=\"sk-item\"><div class=\"sk-estimator sk-toggleable\"><input class=\"sk-toggleable__control sk-hidden--visually\" id=\"a61054e5-76c3-4f28-8a94-7bcda7a0c505\" type=\"checkbox\" ><label class=\"sk-toggleable__label\" for=\"a61054e5-76c3-4f28-8a94-7bcda7a0c505\">passthrough</label><div class=\"sk-toggleable__content\"><pre>passthrough</pre></div></div></div></div></div></div></div></div><div class=\"sk-parallel-item\"><div class=\"sk-item\"><div class=\"sk-label-container\"><div class=\"sk-label sk-toggleable\"><input class=\"sk-toggleable__control sk-hidden--visually\" id=\"f7d7d418-d58d-4b7b-8056-cb799df71ad2\" type=\"checkbox\" ><label class=\"sk-toggleable__label\" for=\"f7d7d418-d58d-4b7b-8056-cb799df71ad2\">categoric</label><div class=\"sk-toggleable__content\"><pre><sklearn.compose._column_transformer.make_column_selector object at 0x000001B03152EAF0></pre></div></div></div><div class=\"sk-serial\"><div class=\"sk-item\"><div class=\"sk-serial\"><div class=\"sk-item\"><div class=\"sk-estimator sk-toggleable\"><input class=\"sk-toggleable__control sk-hidden--visually\" id=\"ade4f679-7736-409a-9e22-0d868ec373da\" type=\"checkbox\" ><label class=\"sk-toggleable__label\" for=\"ade4f679-7736-409a-9e22-0d868ec373da\">OrdinalEncoder</label><div class=\"sk-toggleable__content\"><pre>OrdinalEncoder()</pre></div></div></div></div></div></div></div></div></div></div><div class=\"sk-item\"><div class=\"sk-estimator sk-toggleable\"><input class=\"sk-toggleable__control sk-hidden--visually\" id=\"5b303064-bc37-4609-b1d8-e2903d4010b7\" type=\"checkbox\" ><label class=\"sk-toggleable__label\" for=\"5b303064-bc37-4609-b1d8-e2903d4010b7\">RandomForestClassifier</label><div class=\"sk-toggleable__content\"><pre>RandomForestClassifier(bootstrap=False, criterion='entropy', max_depth=30,\n",
       "                       random_state=22)</pre></div></div></div></div></div></div></div>"
      ],
      "text/plain": [
       "Pipeline(steps=[('preprocessor',\n",
       "                 ColumnTransformer(transformers=[('numeric',\n",
       "                                                  Pipeline(steps=[('passthrough',\n",
       "                                                                   'passthrough')]),\n",
       "                                                  <sklearn.compose._column_transformer.make_column_selector object at 0x000001B02FB9D790>),\n",
       "                                                 ('categoric',\n",
       "                                                  Pipeline(steps=[('ordinalencoder',\n",
       "                                                                   OrdinalEncoder())]),\n",
       "                                                  <sklearn.compose._column_transformer.make_column_selector object at 0x000001B03152EAF0>)])),\n",
       "                ('classifier',\n",
       "                 RandomForestClassifier(bootstrap=False, criterion='entropy',\n",
       "                                        max_depth=30, random_state=22))])"
      ]
     },
     "execution_count": 72,
     "metadata": {},
     "output_type": "execute_result"
    }
   ],
   "source": [
    "pipe_bm_rf = CustomPipe(classifier=RandomForestClassifier, remove_outliers=False, na='drop')\n",
    "pipe_bm_rf.pipe.set_params(**best.best_params_)\n",
    "pipe_bm_rf.fit( df_x_train, df_y_train )\n",
    "eval_model_accuracy(pipe_bm_rf, df_x_train, df_x_test, df_y_train, df_y_test)\n",
    "pipe_bm_rf.pipe"
   ]
  },
  {
   "cell_type": "markdown",
   "id": "cdf6c91f",
   "metadata": {},
   "source": [
    "- Data with outliers & with N/A imputed with median show similar results as with N/A dropped."
   ]
  },
  {
   "cell_type": "code",
   "execution_count": 74,
   "id": "75eedfa5",
   "metadata": {},
   "outputs": [
    {
     "data": {
      "text/markdown": [
       "_Train data accuracy:_ **1.000**"
      ],
      "text/plain": [
       "<IPython.core.display.Markdown object>"
      ]
     },
     "metadata": {},
     "output_type": "display_data"
    },
    {
     "data": {
      "text/markdown": [
       "_Train data cross-val(k=3) accuracy:_ **0.919**"
      ],
      "text/plain": [
       "<IPython.core.display.Markdown object>"
      ]
     },
     "metadata": {},
     "output_type": "display_data"
    },
    {
     "data": {
      "text/markdown": [
       "_Test data accuracy:_ **0.930**"
      ],
      "text/plain": [
       "<IPython.core.display.Markdown object>"
      ]
     },
     "metadata": {},
     "output_type": "display_data"
    },
    {
     "data": {
      "text/markdown": [
       "<span style='color:green'>**6.69%** compared to default DecisionTree (0.872)</span>"
      ],
      "text/plain": [
       "<IPython.core.display.Markdown object>"
      ]
     },
     "metadata": {},
     "output_type": "display_data"
    },
    {
     "data": {
      "text/markdown": [
       "<span style='color:green'>**0.29%** compared to default RandomForest (0.928)</span>"
      ],
      "text/plain": [
       "<IPython.core.display.Markdown object>"
      ]
     },
     "metadata": {},
     "output_type": "display_data"
    },
    {
     "data": {
      "text/markdown": [
       "<span style='color:red'>**-0.08%** compared to Best Model Score (0.920)</span>"
      ],
      "text/plain": [
       "<IPython.core.display.Markdown object>"
      ]
     },
     "metadata": {},
     "output_type": "display_data"
    },
    {
     "data": {
      "text/html": [
       "<style>#sk-969355aa-cd07-4724-97fc-c92912ab8d6b {color: black;background-color: white;}#sk-969355aa-cd07-4724-97fc-c92912ab8d6b pre{padding: 0;}#sk-969355aa-cd07-4724-97fc-c92912ab8d6b div.sk-toggleable {background-color: white;}#sk-969355aa-cd07-4724-97fc-c92912ab8d6b label.sk-toggleable__label {cursor: pointer;display: block;width: 100%;margin-bottom: 0;padding: 0.2em 0.3em;box-sizing: border-box;text-align: center;}#sk-969355aa-cd07-4724-97fc-c92912ab8d6b div.sk-toggleable__content {max-height: 0;max-width: 0;overflow: hidden;text-align: left;background-color: #f0f8ff;}#sk-969355aa-cd07-4724-97fc-c92912ab8d6b div.sk-toggleable__content pre {margin: 0.2em;color: black;border-radius: 0.25em;background-color: #f0f8ff;}#sk-969355aa-cd07-4724-97fc-c92912ab8d6b input.sk-toggleable__control:checked~div.sk-toggleable__content {max-height: 200px;max-width: 100%;overflow: auto;}#sk-969355aa-cd07-4724-97fc-c92912ab8d6b div.sk-estimator input.sk-toggleable__control:checked~label.sk-toggleable__label {background-color: #d4ebff;}#sk-969355aa-cd07-4724-97fc-c92912ab8d6b div.sk-label input.sk-toggleable__control:checked~label.sk-toggleable__label {background-color: #d4ebff;}#sk-969355aa-cd07-4724-97fc-c92912ab8d6b input.sk-hidden--visually {border: 0;clip: rect(1px 1px 1px 1px);clip: rect(1px, 1px, 1px, 1px);height: 1px;margin: -1px;overflow: hidden;padding: 0;position: absolute;width: 1px;}#sk-969355aa-cd07-4724-97fc-c92912ab8d6b div.sk-estimator {font-family: monospace;background-color: #f0f8ff;margin: 0.25em 0.25em;border: 1px dotted black;border-radius: 0.25em;box-sizing: border-box;}#sk-969355aa-cd07-4724-97fc-c92912ab8d6b div.sk-estimator:hover {background-color: #d4ebff;}#sk-969355aa-cd07-4724-97fc-c92912ab8d6b div.sk-parallel-item::after {content: \"\";width: 100%;border-bottom: 1px solid gray;flex-grow: 1;}#sk-969355aa-cd07-4724-97fc-c92912ab8d6b div.sk-label:hover label.sk-toggleable__label {background-color: #d4ebff;}#sk-969355aa-cd07-4724-97fc-c92912ab8d6b div.sk-serial::before {content: \"\";position: absolute;border-left: 1px solid gray;box-sizing: border-box;top: 2em;bottom: 0;left: 50%;}#sk-969355aa-cd07-4724-97fc-c92912ab8d6b div.sk-serial {display: flex;flex-direction: column;align-items: center;background-color: white;}#sk-969355aa-cd07-4724-97fc-c92912ab8d6b div.sk-item {z-index: 1;}#sk-969355aa-cd07-4724-97fc-c92912ab8d6b div.sk-parallel {display: flex;align-items: stretch;justify-content: center;background-color: white;}#sk-969355aa-cd07-4724-97fc-c92912ab8d6b div.sk-parallel-item {display: flex;flex-direction: column;position: relative;background-color: white;}#sk-969355aa-cd07-4724-97fc-c92912ab8d6b div.sk-parallel-item:first-child::after {align-self: flex-end;width: 50%;}#sk-969355aa-cd07-4724-97fc-c92912ab8d6b div.sk-parallel-item:last-child::after {align-self: flex-start;width: 50%;}#sk-969355aa-cd07-4724-97fc-c92912ab8d6b div.sk-parallel-item:only-child::after {width: 0;}#sk-969355aa-cd07-4724-97fc-c92912ab8d6b div.sk-dashed-wrapped {border: 1px dashed gray;margin: 0.2em;box-sizing: border-box;padding-bottom: 0.1em;background-color: white;position: relative;}#sk-969355aa-cd07-4724-97fc-c92912ab8d6b div.sk-label label {font-family: monospace;font-weight: bold;background-color: white;display: inline-block;line-height: 1.2em;}#sk-969355aa-cd07-4724-97fc-c92912ab8d6b div.sk-label-container {position: relative;z-index: 2;text-align: center;}#sk-969355aa-cd07-4724-97fc-c92912ab8d6b div.sk-container {display: inline-block;position: relative;}</style><div id=\"sk-969355aa-cd07-4724-97fc-c92912ab8d6b\" class\"sk-top-container\"><div class=\"sk-container\"><div class=\"sk-item sk-dashed-wrapped\"><div class=\"sk-label-container\"><div class=\"sk-label sk-toggleable\"><input class=\"sk-toggleable__control sk-hidden--visually\" id=\"e2edf746-288d-4f30-bd9c-0bcad48f899c\" type=\"checkbox\" ><label class=\"sk-toggleable__label\" for=\"e2edf746-288d-4f30-bd9c-0bcad48f899c\">Pipeline</label><div class=\"sk-toggleable__content\"><pre>Pipeline(steps=[('preprocessor',\n",
       "                 ColumnTransformer(transformers=[('numeric',\n",
       "                                                  Pipeline(steps=[('simpleimputer',\n",
       "                                                                   SimpleImputer(strategy='median'))]),\n",
       "                                                  <sklearn.compose._column_transformer.make_column_selector object at 0x000001B0314BA580>),\n",
       "                                                 ('categoric',\n",
       "                                                  Pipeline(steps=[('ordinalencoder',\n",
       "                                                                   OrdinalEncoder())]),\n",
       "                                                  <sklearn.compose._column_transformer.make_column_selector object at 0x000001B0314BAA60>)])),\n",
       "                ('classifier',\n",
       "                 RandomForestClassifier(bootstrap=False, criterion='entropy',\n",
       "                                        max_depth=30, random_state=22))])</pre></div></div></div><div class=\"sk-serial\"><div class=\"sk-item sk-dashed-wrapped\"><div class=\"sk-label-container\"><div class=\"sk-label sk-toggleable\"><input class=\"sk-toggleable__control sk-hidden--visually\" id=\"91b62e53-477c-4ea3-95d8-c67033b36861\" type=\"checkbox\" ><label class=\"sk-toggleable__label\" for=\"91b62e53-477c-4ea3-95d8-c67033b36861\">preprocessor: ColumnTransformer</label><div class=\"sk-toggleable__content\"><pre>ColumnTransformer(transformers=[('numeric',\n",
       "                                 Pipeline(steps=[('simpleimputer',\n",
       "                                                  SimpleImputer(strategy='median'))]),\n",
       "                                 <sklearn.compose._column_transformer.make_column_selector object at 0x000001B0314BA580>),\n",
       "                                ('categoric',\n",
       "                                 Pipeline(steps=[('ordinalencoder',\n",
       "                                                  OrdinalEncoder())]),\n",
       "                                 <sklearn.compose._column_transformer.make_column_selector object at 0x000001B0314BAA60>)])</pre></div></div></div><div class=\"sk-parallel\"><div class=\"sk-parallel-item\"><div class=\"sk-item\"><div class=\"sk-label-container\"><div class=\"sk-label sk-toggleable\"><input class=\"sk-toggleable__control sk-hidden--visually\" id=\"e60b5313-0edb-406c-aeb4-f2ba00d12a10\" type=\"checkbox\" ><label class=\"sk-toggleable__label\" for=\"e60b5313-0edb-406c-aeb4-f2ba00d12a10\">numeric</label><div class=\"sk-toggleable__content\"><pre><sklearn.compose._column_transformer.make_column_selector object at 0x000001B0314BA580></pre></div></div></div><div class=\"sk-serial\"><div class=\"sk-item\"><div class=\"sk-serial\"><div class=\"sk-item\"><div class=\"sk-estimator sk-toggleable\"><input class=\"sk-toggleable__control sk-hidden--visually\" id=\"bf7b214f-fd49-4bf8-96cc-81f68424aa7c\" type=\"checkbox\" ><label class=\"sk-toggleable__label\" for=\"bf7b214f-fd49-4bf8-96cc-81f68424aa7c\">SimpleImputer</label><div class=\"sk-toggleable__content\"><pre>SimpleImputer(strategy='median')</pre></div></div></div></div></div></div></div></div><div class=\"sk-parallel-item\"><div class=\"sk-item\"><div class=\"sk-label-container\"><div class=\"sk-label sk-toggleable\"><input class=\"sk-toggleable__control sk-hidden--visually\" id=\"9b584ce8-2733-4f14-a295-4297c5c14eb2\" type=\"checkbox\" ><label class=\"sk-toggleable__label\" for=\"9b584ce8-2733-4f14-a295-4297c5c14eb2\">categoric</label><div class=\"sk-toggleable__content\"><pre><sklearn.compose._column_transformer.make_column_selector object at 0x000001B0314BAA60></pre></div></div></div><div class=\"sk-serial\"><div class=\"sk-item\"><div class=\"sk-serial\"><div class=\"sk-item\"><div class=\"sk-estimator sk-toggleable\"><input class=\"sk-toggleable__control sk-hidden--visually\" id=\"bb8d33db-5ef2-4629-abb5-8fb5751d6fdc\" type=\"checkbox\" ><label class=\"sk-toggleable__label\" for=\"bb8d33db-5ef2-4629-abb5-8fb5751d6fdc\">OrdinalEncoder</label><div class=\"sk-toggleable__content\"><pre>OrdinalEncoder()</pre></div></div></div></div></div></div></div></div></div></div><div class=\"sk-item\"><div class=\"sk-estimator sk-toggleable\"><input class=\"sk-toggleable__control sk-hidden--visually\" id=\"56ec8c7c-4403-446c-a422-2a271c89954d\" type=\"checkbox\" ><label class=\"sk-toggleable__label\" for=\"56ec8c7c-4403-446c-a422-2a271c89954d\">RandomForestClassifier</label><div class=\"sk-toggleable__content\"><pre>RandomForestClassifier(bootstrap=False, criterion='entropy', max_depth=30,\n",
       "                       random_state=22)</pre></div></div></div></div></div></div></div>"
      ],
      "text/plain": [
       "Pipeline(steps=[('preprocessor',\n",
       "                 ColumnTransformer(transformers=[('numeric',\n",
       "                                                  Pipeline(steps=[('simpleimputer',\n",
       "                                                                   SimpleImputer(strategy='median'))]),\n",
       "                                                  <sklearn.compose._column_transformer.make_column_selector object at 0x000001B0314BA580>),\n",
       "                                                 ('categoric',\n",
       "                                                  Pipeline(steps=[('ordinalencoder',\n",
       "                                                                   OrdinalEncoder())]),\n",
       "                                                  <sklearn.compose._column_transformer.make_column_selector object at 0x000001B0314BAA60>)])),\n",
       "                ('classifier',\n",
       "                 RandomForestClassifier(bootstrap=False, criterion='entropy',\n",
       "                                        max_depth=30, random_state=22))])"
      ]
     },
     "execution_count": 74,
     "metadata": {},
     "output_type": "execute_result"
    }
   ],
   "source": [
    "pipe_bm_rf = CustomPipe(classifier=RandomForestClassifier, remove_outliers=False, na='median')\n",
    "pipe_bm_rf.pipe.set_params(**best.best_params_)\n",
    "pipe_bm_rf.fit( df_x_train, df_y_train )\n",
    "eval_model_accuracy(pipe_bm_rf, df_x_train, df_x_test, df_y_train, df_y_test)\n",
    "pipe_bm_rf.pipe"
   ]
  },
  {
   "cell_type": "markdown",
   "id": "7e2e3450",
   "metadata": {},
   "source": [
    "- We tested our best model on different transformations as well. The best results (but without significant difference) were obtained from the raw data (didn't scaled or normalized in some way) or when the data was only scaled. The normalization is effective only when the data has lot of outliers (does not follow Gaussian distribution)."
   ]
  },
  {
   "cell_type": "code",
   "execution_count": 75,
   "id": "1298dea1",
   "metadata": {
    "scrolled": false
   },
   "outputs": [
    {
     "data": {
      "text/markdown": [
       "**Scale = True, Normalize = True**"
      ],
      "text/plain": [
       "<IPython.core.display.Markdown object>"
      ]
     },
     "metadata": {},
     "output_type": "display_data"
    },
    {
     "data": {
      "text/markdown": [
       "_Train data accuracy:_ **1.000**"
      ],
      "text/plain": [
       "<IPython.core.display.Markdown object>"
      ]
     },
     "metadata": {},
     "output_type": "display_data"
    },
    {
     "data": {
      "text/markdown": [
       "_Train data cross-val(k=3) accuracy:_ **0.918**"
      ],
      "text/plain": [
       "<IPython.core.display.Markdown object>"
      ]
     },
     "metadata": {},
     "output_type": "display_data"
    },
    {
     "data": {
      "text/markdown": [
       "_Test data accuracy:_ **0.928**"
      ],
      "text/plain": [
       "<IPython.core.display.Markdown object>"
      ]
     },
     "metadata": {},
     "output_type": "display_data"
    },
    {
     "data": {
      "text/markdown": [
       "<span style='color:green'>**6.38%** compared to default DecisionTree (0.872)</span>"
      ],
      "text/plain": [
       "<IPython.core.display.Markdown object>"
      ]
     },
     "metadata": {},
     "output_type": "display_data"
    },
    {
     "data": {
      "text/markdown": [
       "<span style='color:green'>**0.00%** compared to default RandomForest (0.928)</span>"
      ],
      "text/plain": [
       "<IPython.core.display.Markdown object>"
      ]
     },
     "metadata": {},
     "output_type": "display_data"
    },
    {
     "data": {
      "text/markdown": [
       "<span style='color:red'>**-0.15%** compared to Best Model Score (0.920)</span>"
      ],
      "text/plain": [
       "<IPython.core.display.Markdown object>"
      ]
     },
     "metadata": {},
     "output_type": "display_data"
    },
    {
     "data": {
      "text/markdown": [
       "**Scale = True, Normalize = False**"
      ],
      "text/plain": [
       "<IPython.core.display.Markdown object>"
      ]
     },
     "metadata": {},
     "output_type": "display_data"
    },
    {
     "data": {
      "text/markdown": [
       "_Train data accuracy:_ **1.000**"
      ],
      "text/plain": [
       "<IPython.core.display.Markdown object>"
      ]
     },
     "metadata": {},
     "output_type": "display_data"
    },
    {
     "data": {
      "text/markdown": [
       "_Train data cross-val(k=3) accuracy:_ **0.920**"
      ],
      "text/plain": [
       "<IPython.core.display.Markdown object>"
      ]
     },
     "metadata": {},
     "output_type": "display_data"
    },
    {
     "data": {
      "text/markdown": [
       "_Test data accuracy:_ **0.930**"
      ],
      "text/plain": [
       "<IPython.core.display.Markdown object>"
      ]
     },
     "metadata": {},
     "output_type": "display_data"
    },
    {
     "data": {
      "text/markdown": [
       "<span style='color:green'>**6.67%** compared to default DecisionTree (0.872)</span>"
      ],
      "text/plain": [
       "<IPython.core.display.Markdown object>"
      ]
     },
     "metadata": {},
     "output_type": "display_data"
    },
    {
     "data": {
      "text/markdown": [
       "<span style='color:green'>**0.28%** compared to default RandomForest (0.928)</span>"
      ],
      "text/plain": [
       "<IPython.core.display.Markdown object>"
      ]
     },
     "metadata": {},
     "output_type": "display_data"
    },
    {
     "data": {
      "text/markdown": [
       "<span style='color:green'>**0.00%** compared to Best Model Score (0.920)</span>"
      ],
      "text/plain": [
       "<IPython.core.display.Markdown object>"
      ]
     },
     "metadata": {},
     "output_type": "display_data"
    },
    {
     "data": {
      "text/markdown": [
       "**Scale = False, Normalize = True**"
      ],
      "text/plain": [
       "<IPython.core.display.Markdown object>"
      ]
     },
     "metadata": {},
     "output_type": "display_data"
    },
    {
     "data": {
      "text/markdown": [
       "_Train data accuracy:_ **1.000**"
      ],
      "text/plain": [
       "<IPython.core.display.Markdown object>"
      ]
     },
     "metadata": {},
     "output_type": "display_data"
    },
    {
     "data": {
      "text/markdown": [
       "_Train data cross-val(k=3) accuracy:_ **0.891**"
      ],
      "text/plain": [
       "<IPython.core.display.Markdown object>"
      ]
     },
     "metadata": {},
     "output_type": "display_data"
    },
    {
     "data": {
      "text/markdown": [
       "_Test data accuracy:_ **0.892**"
      ],
      "text/plain": [
       "<IPython.core.display.Markdown object>"
      ]
     },
     "metadata": {},
     "output_type": "display_data"
    },
    {
     "data": {
      "text/markdown": [
       "<span style='color:green'>**2.34%** compared to default DecisionTree (0.872)</span>"
      ],
      "text/plain": [
       "<IPython.core.display.Markdown object>"
      ]
     },
     "metadata": {},
     "output_type": "display_data"
    },
    {
     "data": {
      "text/markdown": [
       "<span style='color:red'>**-3.80%** compared to default RandomForest (0.928)</span>"
      ],
      "text/plain": [
       "<IPython.core.display.Markdown object>"
      ]
     },
     "metadata": {},
     "output_type": "display_data"
    },
    {
     "data": {
      "text/markdown": [
       "<span style='color:red'>**-3.16%** compared to Best Model Score (0.920)</span>"
      ],
      "text/plain": [
       "<IPython.core.display.Markdown object>"
      ]
     },
     "metadata": {},
     "output_type": "display_data"
    },
    {
     "data": {
      "text/markdown": [
       "**Scale = False, Normalize = False**"
      ],
      "text/plain": [
       "<IPython.core.display.Markdown object>"
      ]
     },
     "metadata": {},
     "output_type": "display_data"
    },
    {
     "data": {
      "text/markdown": [
       "_Train data accuracy:_ **1.000**"
      ],
      "text/plain": [
       "<IPython.core.display.Markdown object>"
      ]
     },
     "metadata": {},
     "output_type": "display_data"
    },
    {
     "data": {
      "text/markdown": [
       "_Train data cross-val(k=3) accuracy:_ **0.920**"
      ],
      "text/plain": [
       "<IPython.core.display.Markdown object>"
      ]
     },
     "metadata": {},
     "output_type": "display_data"
    },
    {
     "data": {
      "text/markdown": [
       "_Test data accuracy:_ **0.930**"
      ],
      "text/plain": [
       "<IPython.core.display.Markdown object>"
      ]
     },
     "metadata": {},
     "output_type": "display_data"
    },
    {
     "data": {
      "text/markdown": [
       "<span style='color:green'>**6.67%** compared to default DecisionTree (0.872)</span>"
      ],
      "text/plain": [
       "<IPython.core.display.Markdown object>"
      ]
     },
     "metadata": {},
     "output_type": "display_data"
    },
    {
     "data": {
      "text/markdown": [
       "<span style='color:green'>**0.28%** compared to default RandomForest (0.928)</span>"
      ],
      "text/plain": [
       "<IPython.core.display.Markdown object>"
      ]
     },
     "metadata": {},
     "output_type": "display_data"
    },
    {
     "data": {
      "text/markdown": [
       "<span style='color:green'>**0.00%** compared to Best Model Score (0.920)</span>"
      ],
      "text/plain": [
       "<IPython.core.display.Markdown object>"
      ]
     },
     "metadata": {},
     "output_type": "display_data"
    }
   ],
   "source": [
    "_params = {\n",
    "    'scale': [True, False],\n",
    "    'normalize': [True, False]\n",
    "}\n",
    "_params_comb = []\n",
    "for c in itertools.product(*_params.values()):\n",
    "    _params_comb.append(dict(zip(_params.keys(),list(c))))\n",
    "\n",
    "for _p in _params_comb:\n",
    "    printmd(f\"**Scale = {_p['scale']}, Normalize = {_p['normalize']}**\")\n",
    "    pipe_ = CustomPipe(classifier=RandomForestClassifier,**_p)\n",
    "    pipe_.pipe.set_params(**best.best_params_)\n",
    "    pipe_.fit( df_x_train, df_y_train )\n",
    "    eval_model_accuracy(pipe_, df_x_train, df_x_test, df_y_train, df_y_test)"
   ]
  },
  {
   "cell_type": "markdown",
   "id": "30cc410e",
   "metadata": {},
   "source": [
    "- Furthermore, we tested our model on different features sets and found out that neither of them are better that the default set in the model (which is obvious, as our model was trained with all attributes). The more attributes we will use, the better accuracy we get."
   ]
  },
  {
   "cell_type": "code",
   "execution_count": 56,
   "id": "4c726302",
   "metadata": {},
   "outputs": [
    {
     "data": {
      "text/markdown": [
       "**Best 1 feature(s)**"
      ],
      "text/plain": [
       "<IPython.core.display.Markdown object>"
      ]
     },
     "metadata": {},
     "output_type": "display_data"
    },
    {
     "data": {
      "text/markdown": [
       "_Train data accuracy:_ **0.781**"
      ],
      "text/plain": [
       "<IPython.core.display.Markdown object>"
      ]
     },
     "metadata": {},
     "output_type": "display_data"
    },
    {
     "data": {
      "text/markdown": [
       "_Train data cross-val(k=3) accuracy:_ **0.605**"
      ],
      "text/plain": [
       "<IPython.core.display.Markdown object>"
      ]
     },
     "metadata": {},
     "output_type": "display_data"
    },
    {
     "data": {
      "text/markdown": [
       "_Test data accuracy:_ **0.619**"
      ],
      "text/plain": [
       "<IPython.core.display.Markdown object>"
      ]
     },
     "metadata": {},
     "output_type": "display_data"
    },
    {
     "data": {
      "text/markdown": [
       "<span style='color:red'>**-29.02%** compared to default DecisionTree (0.872)</span>"
      ],
      "text/plain": [
       "<IPython.core.display.Markdown object>"
      ]
     },
     "metadata": {},
     "output_type": "display_data"
    },
    {
     "data": {
      "text/markdown": [
       "<span style='color:red'>**-33.28%** compared to default RandomForest (0.928)</span>"
      ],
      "text/plain": [
       "<IPython.core.display.Markdown object>"
      ]
     },
     "metadata": {},
     "output_type": "display_data"
    },
    {
     "data": {
      "text/markdown": [
       "<span style='color:red'>**-34.24%** compared to Best Model Score (0.920)</span>"
      ],
      "text/plain": [
       "<IPython.core.display.Markdown object>"
      ]
     },
     "metadata": {},
     "output_type": "display_data"
    },
    {
     "data": {
      "text/markdown": [
       "**Best 3 feature(s)**"
      ],
      "text/plain": [
       "<IPython.core.display.Markdown object>"
      ]
     },
     "metadata": {},
     "output_type": "display_data"
    },
    {
     "data": {
      "text/markdown": [
       "_Train data accuracy:_ **1.000**"
      ],
      "text/plain": [
       "<IPython.core.display.Markdown object>"
      ]
     },
     "metadata": {},
     "output_type": "display_data"
    },
    {
     "data": {
      "text/markdown": [
       "_Train data cross-val(k=3) accuracy:_ **0.825**"
      ],
      "text/plain": [
       "<IPython.core.display.Markdown object>"
      ]
     },
     "metadata": {},
     "output_type": "display_data"
    },
    {
     "data": {
      "text/markdown": [
       "_Test data accuracy:_ **0.836**"
      ],
      "text/plain": [
       "<IPython.core.display.Markdown object>"
      ]
     },
     "metadata": {},
     "output_type": "display_data"
    },
    {
     "data": {
      "text/markdown": [
       "<span style='color:red'>**-4.15%** compared to default DecisionTree (0.872)</span>"
      ],
      "text/plain": [
       "<IPython.core.display.Markdown object>"
      ]
     },
     "metadata": {},
     "output_type": "display_data"
    },
    {
     "data": {
      "text/markdown": [
       "<span style='color:red'>**-9.90%** compared to default RandomForest (0.928)</span>"
      ],
      "text/plain": [
       "<IPython.core.display.Markdown object>"
      ]
     },
     "metadata": {},
     "output_type": "display_data"
    },
    {
     "data": {
      "text/markdown": [
       "<span style='color:red'>**-10.26%** compared to Best Model Score (0.920)</span>"
      ],
      "text/plain": [
       "<IPython.core.display.Markdown object>"
      ]
     },
     "metadata": {},
     "output_type": "display_data"
    },
    {
     "data": {
      "text/markdown": [
       "**Best 5 feature(s)**"
      ],
      "text/plain": [
       "<IPython.core.display.Markdown object>"
      ]
     },
     "metadata": {},
     "output_type": "display_data"
    },
    {
     "data": {
      "text/markdown": [
       "_Train data accuracy:_ **1.000**"
      ],
      "text/plain": [
       "<IPython.core.display.Markdown object>"
      ]
     },
     "metadata": {},
     "output_type": "display_data"
    },
    {
     "data": {
      "text/markdown": [
       "_Train data cross-val(k=3) accuracy:_ **0.878**"
      ],
      "text/plain": [
       "<IPython.core.display.Markdown object>"
      ]
     },
     "metadata": {},
     "output_type": "display_data"
    },
    {
     "data": {
      "text/markdown": [
       "_Test data accuracy:_ **0.874**"
      ],
      "text/plain": [
       "<IPython.core.display.Markdown object>"
      ]
     },
     "metadata": {},
     "output_type": "display_data"
    },
    {
     "data": {
      "text/markdown": [
       "<span style='color:green'>**0.29%** compared to default DecisionTree (0.872)</span>"
      ],
      "text/plain": [
       "<IPython.core.display.Markdown object>"
      ]
     },
     "metadata": {},
     "output_type": "display_data"
    },
    {
     "data": {
      "text/markdown": [
       "<span style='color:red'>**-5.72%** compared to default RandomForest (0.928)</span>"
      ],
      "text/plain": [
       "<IPython.core.display.Markdown object>"
      ]
     },
     "metadata": {},
     "output_type": "display_data"
    },
    {
     "data": {
      "text/markdown": [
       "<span style='color:red'>**-4.52%** compared to Best Model Score (0.920)</span>"
      ],
      "text/plain": [
       "<IPython.core.display.Markdown object>"
      ]
     },
     "metadata": {},
     "output_type": "display_data"
    },
    {
     "data": {
      "text/markdown": [
       "**Best 10 feature(s)**"
      ],
      "text/plain": [
       "<IPython.core.display.Markdown object>"
      ]
     },
     "metadata": {},
     "output_type": "display_data"
    },
    {
     "data": {
      "text/markdown": [
       "_Train data accuracy:_ **1.000**"
      ],
      "text/plain": [
       "<IPython.core.display.Markdown object>"
      ]
     },
     "metadata": {},
     "output_type": "display_data"
    },
    {
     "data": {
      "text/markdown": [
       "_Train data cross-val(k=3) accuracy:_ **0.893**"
      ],
      "text/plain": [
       "<IPython.core.display.Markdown object>"
      ]
     },
     "metadata": {},
     "output_type": "display_data"
    },
    {
     "data": {
      "text/markdown": [
       "_Test data accuracy:_ **0.910**"
      ],
      "text/plain": [
       "<IPython.core.display.Markdown object>"
      ]
     },
     "metadata": {},
     "output_type": "display_data"
    },
    {
     "data": {
      "text/markdown": [
       "<span style='color:green'>**4.33%** compared to default DecisionTree (0.872)</span>"
      ],
      "text/plain": [
       "<IPython.core.display.Markdown object>"
      ]
     },
     "metadata": {},
     "output_type": "display_data"
    },
    {
     "data": {
      "text/markdown": [
       "<span style='color:red'>**-1.93%** compared to default RandomForest (0.928)</span>"
      ],
      "text/plain": [
       "<IPython.core.display.Markdown object>"
      ]
     },
     "metadata": {},
     "output_type": "display_data"
    },
    {
     "data": {
      "text/markdown": [
       "<span style='color:red'>**-2.85%** compared to Best Model Score (0.920)</span>"
      ],
      "text/plain": [
       "<IPython.core.display.Markdown object>"
      ]
     },
     "metadata": {},
     "output_type": "display_data"
    }
   ],
   "source": [
    "_features_best = [1, 3, 5, 10]\n",
    "\n",
    "for _bf in _features_best:\n",
    "    printmd(f\"**Best {_bf} feature(s)**\")\n",
    "    pipe_ = CustomPipe(classifier=RandomForestClassifier, features=_bf)\n",
    "    pipe_.pipe.set_params(**best.best_params_)\n",
    "    pipe_.fit( df_x_train, df_y_train )\n",
    "    eval_model_accuracy(pipe_, df_x_train, df_x_test, df_y_train, df_y_test)"
   ]
  },
  {
   "cell_type": "markdown",
   "id": "04e47c29",
   "metadata": {},
   "source": [
    "- Later we checked our model on different tree splitting algorithms. Nevertheless, the results are similar, entropy algorithm shows better outcome because it is more complex since it makes use of logarithms. However, the results are so close that in real world application we'd consider using gini due to its lower computational requirements."
   ]
  },
  {
   "cell_type": "code",
   "execution_count": 57,
   "id": "d28944a8",
   "metadata": {},
   "outputs": [
    {
     "data": {
      "text/markdown": [
       "**Algorithm: gini**"
      ],
      "text/plain": [
       "<IPython.core.display.Markdown object>"
      ]
     },
     "metadata": {},
     "output_type": "display_data"
    },
    {
     "data": {
      "text/markdown": [
       "_Train data accuracy:_ **1.000**"
      ],
      "text/plain": [
       "<IPython.core.display.Markdown object>"
      ]
     },
     "metadata": {},
     "output_type": "display_data"
    },
    {
     "data": {
      "text/markdown": [
       "_Train data cross-val(k=3) accuracy:_ **0.916**"
      ],
      "text/plain": [
       "<IPython.core.display.Markdown object>"
      ]
     },
     "metadata": {},
     "output_type": "display_data"
    },
    {
     "data": {
      "text/markdown": [
       "_Test data accuracy:_ **0.933**"
      ],
      "text/plain": [
       "<IPython.core.display.Markdown object>"
      ]
     },
     "metadata": {},
     "output_type": "display_data"
    },
    {
     "data": {
      "text/markdown": [
       "<span style='color:green'>**6.96%** compared to default DecisionTree (0.872)</span>"
      ],
      "text/plain": [
       "<IPython.core.display.Markdown object>"
      ]
     },
     "metadata": {},
     "output_type": "display_data"
    },
    {
     "data": {
      "text/markdown": [
       "<span style='color:green'>**0.55%** compared to default RandomForest (0.928)</span>"
      ],
      "text/plain": [
       "<IPython.core.display.Markdown object>"
      ]
     },
     "metadata": {},
     "output_type": "display_data"
    },
    {
     "data": {
      "text/markdown": [
       "<span style='color:red'>**-0.36%** compared to Best Model Score (0.920)</span>"
      ],
      "text/plain": [
       "<IPython.core.display.Markdown object>"
      ]
     },
     "metadata": {},
     "output_type": "display_data"
    },
    {
     "data": {
      "text/markdown": [
       "**Algorithm: entropy**"
      ],
      "text/plain": [
       "<IPython.core.display.Markdown object>"
      ]
     },
     "metadata": {},
     "output_type": "display_data"
    },
    {
     "data": {
      "text/markdown": [
       "_Train data accuracy:_ **1.000**"
      ],
      "text/plain": [
       "<IPython.core.display.Markdown object>"
      ]
     },
     "metadata": {},
     "output_type": "display_data"
    },
    {
     "data": {
      "text/markdown": [
       "_Train data cross-val(k=3) accuracy:_ **0.920**"
      ],
      "text/plain": [
       "<IPython.core.display.Markdown object>"
      ]
     },
     "metadata": {},
     "output_type": "display_data"
    },
    {
     "data": {
      "text/markdown": [
       "_Test data accuracy:_ **0.930**"
      ],
      "text/plain": [
       "<IPython.core.display.Markdown object>"
      ]
     },
     "metadata": {},
     "output_type": "display_data"
    },
    {
     "data": {
      "text/markdown": [
       "<span style='color:green'>**6.67%** compared to default DecisionTree (0.872)</span>"
      ],
      "text/plain": [
       "<IPython.core.display.Markdown object>"
      ]
     },
     "metadata": {},
     "output_type": "display_data"
    },
    {
     "data": {
      "text/markdown": [
       "<span style='color:green'>**0.28%** compared to default RandomForest (0.928)</span>"
      ],
      "text/plain": [
       "<IPython.core.display.Markdown object>"
      ]
     },
     "metadata": {},
     "output_type": "display_data"
    },
    {
     "data": {
      "text/markdown": [
       "<span style='color:green'>**0.00%** compared to Best Model Score (0.920)</span>"
      ],
      "text/plain": [
       "<IPython.core.display.Markdown object>"
      ]
     },
     "metadata": {},
     "output_type": "display_data"
    }
   ],
   "source": [
    "_algorithms = ['gini', 'entropy']\n",
    "for algo in _algorithms:\n",
    "    printmd(f\"**Algorithm: {algo}**\")\n",
    "    pipe_ = CustomPipe(classifier=RandomForestClassifier)\n",
    "    pipe_.pipe.set_params(**{**best.best_params_,**{'classifier__criterion':algo}})\n",
    "    pipe_.fit( df_x_train, df_y_train )\n",
    "    eval_model_accuracy(pipe_, df_x_train, df_x_test, df_y_train, df_y_test)"
   ]
  },
  {
   "cell_type": "markdown",
   "id": "eec90bc3",
   "metadata": {},
   "source": [
    "- And at the end we checked our model on different split ratios and discovered that the bigger difference between them is, the better accuracy of the outcome we might get. So, the best options are to divide the dataset into 90/10, 85/15 or 80/20 ratio."
   ]
  },
  {
   "cell_type": "code",
   "execution_count": 58,
   "id": "5de155eb",
   "metadata": {
    "scrolled": false
   },
   "outputs": [
    {
     "data": {
      "text/markdown": [
       "#### Train size 90.00%,  Test size 10.00%"
      ],
      "text/plain": [
       "<IPython.core.display.Markdown object>"
      ]
     },
     "metadata": {},
     "output_type": "display_data"
    },
    {
     "data": {
      "text/markdown": [
       "_Train data accuracy:_ **1.000**"
      ],
      "text/plain": [
       "<IPython.core.display.Markdown object>"
      ]
     },
     "metadata": {},
     "output_type": "display_data"
    },
    {
     "data": {
      "text/markdown": [
       "_Train data cross-val(k=3) accuracy:_ **0.921**"
      ],
      "text/plain": [
       "<IPython.core.display.Markdown object>"
      ]
     },
     "metadata": {},
     "output_type": "display_data"
    },
    {
     "data": {
      "text/markdown": [
       "_Test data accuracy:_ **0.929**"
      ],
      "text/plain": [
       "<IPython.core.display.Markdown object>"
      ]
     },
     "metadata": {},
     "output_type": "display_data"
    },
    {
     "data": {
      "text/markdown": [
       "<span style='color:green'>**6.51%** compared to default DecisionTree (0.872)</span>"
      ],
      "text/plain": [
       "<IPython.core.display.Markdown object>"
      ]
     },
     "metadata": {},
     "output_type": "display_data"
    },
    {
     "data": {
      "text/markdown": [
       "<span style='color:green'>**0.13%** compared to default RandomForest (0.928)</span>"
      ],
      "text/plain": [
       "<IPython.core.display.Markdown object>"
      ]
     },
     "metadata": {},
     "output_type": "display_data"
    },
    {
     "data": {
      "text/markdown": [
       "<span style='color:green'>**0.16%** compared to Best Model Score (0.920)</span>"
      ],
      "text/plain": [
       "<IPython.core.display.Markdown object>"
      ]
     },
     "metadata": {},
     "output_type": "display_data"
    },
    {
     "data": {
      "text/markdown": [
       "#### Train size 85.00%,  Test size 15.00%"
      ],
      "text/plain": [
       "<IPython.core.display.Markdown object>"
      ]
     },
     "metadata": {},
     "output_type": "display_data"
    },
    {
     "data": {
      "text/markdown": [
       "_Train data accuracy:_ **1.000**"
      ],
      "text/plain": [
       "<IPython.core.display.Markdown object>"
      ]
     },
     "metadata": {},
     "output_type": "display_data"
    },
    {
     "data": {
      "text/markdown": [
       "_Train data cross-val(k=3) accuracy:_ **0.923**"
      ],
      "text/plain": [
       "<IPython.core.display.Markdown object>"
      ]
     },
     "metadata": {},
     "output_type": "display_data"
    },
    {
     "data": {
      "text/markdown": [
       "_Test data accuracy:_ **0.927**"
      ],
      "text/plain": [
       "<IPython.core.display.Markdown object>"
      ]
     },
     "metadata": {},
     "output_type": "display_data"
    },
    {
     "data": {
      "text/markdown": [
       "<span style='color:green'>**6.34%** compared to default DecisionTree (0.872)</span>"
      ],
      "text/plain": [
       "<IPython.core.display.Markdown object>"
      ]
     },
     "metadata": {},
     "output_type": "display_data"
    },
    {
     "data": {
      "text/markdown": [
       "<span style='color:red'>**-0.04%** compared to default RandomForest (0.928)</span>"
      ],
      "text/plain": [
       "<IPython.core.display.Markdown object>"
      ]
     },
     "metadata": {},
     "output_type": "display_data"
    },
    {
     "data": {
      "text/markdown": [
       "<span style='color:green'>**0.33%** compared to Best Model Score (0.920)</span>"
      ],
      "text/plain": [
       "<IPython.core.display.Markdown object>"
      ]
     },
     "metadata": {},
     "output_type": "display_data"
    },
    {
     "data": {
      "text/markdown": [
       "#### Train size 80.00%,  Test size 20.00%"
      ],
      "text/plain": [
       "<IPython.core.display.Markdown object>"
      ]
     },
     "metadata": {},
     "output_type": "display_data"
    },
    {
     "data": {
      "text/markdown": [
       "_Train data accuracy:_ **1.000**"
      ],
      "text/plain": [
       "<IPython.core.display.Markdown object>"
      ]
     },
     "metadata": {},
     "output_type": "display_data"
    },
    {
     "data": {
      "text/markdown": [
       "_Train data cross-val(k=3) accuracy:_ **0.920**"
      ],
      "text/plain": [
       "<IPython.core.display.Markdown object>"
      ]
     },
     "metadata": {},
     "output_type": "display_data"
    },
    {
     "data": {
      "text/markdown": [
       "_Test data accuracy:_ **0.930**"
      ],
      "text/plain": [
       "<IPython.core.display.Markdown object>"
      ]
     },
     "metadata": {},
     "output_type": "display_data"
    },
    {
     "data": {
      "text/markdown": [
       "<span style='color:green'>**6.67%** compared to default DecisionTree (0.872)</span>"
      ],
      "text/plain": [
       "<IPython.core.display.Markdown object>"
      ]
     },
     "metadata": {},
     "output_type": "display_data"
    },
    {
     "data": {
      "text/markdown": [
       "<span style='color:green'>**0.28%** compared to default RandomForest (0.928)</span>"
      ],
      "text/plain": [
       "<IPython.core.display.Markdown object>"
      ]
     },
     "metadata": {},
     "output_type": "display_data"
    },
    {
     "data": {
      "text/markdown": [
       "<span style='color:green'>**0.00%** compared to Best Model Score (0.920)</span>"
      ],
      "text/plain": [
       "<IPython.core.display.Markdown object>"
      ]
     },
     "metadata": {},
     "output_type": "display_data"
    },
    {
     "data": {
      "text/markdown": [
       "#### Train size 75.00%,  Test size 25.00%"
      ],
      "text/plain": [
       "<IPython.core.display.Markdown object>"
      ]
     },
     "metadata": {},
     "output_type": "display_data"
    },
    {
     "data": {
      "text/markdown": [
       "_Train data accuracy:_ **1.000**"
      ],
      "text/plain": [
       "<IPython.core.display.Markdown object>"
      ]
     },
     "metadata": {},
     "output_type": "display_data"
    },
    {
     "data": {
      "text/markdown": [
       "_Train data cross-val(k=3) accuracy:_ **0.919**"
      ],
      "text/plain": [
       "<IPython.core.display.Markdown object>"
      ]
     },
     "metadata": {},
     "output_type": "display_data"
    },
    {
     "data": {
      "text/markdown": [
       "_Test data accuracy:_ **0.932**"
      ],
      "text/plain": [
       "<IPython.core.display.Markdown object>"
      ]
     },
     "metadata": {},
     "output_type": "display_data"
    },
    {
     "data": {
      "text/markdown": [
       "<span style='color:green'>**6.91%** compared to default DecisionTree (0.872)</span>"
      ],
      "text/plain": [
       "<IPython.core.display.Markdown object>"
      ]
     },
     "metadata": {},
     "output_type": "display_data"
    },
    {
     "data": {
      "text/markdown": [
       "<span style='color:green'>**0.50%** compared to default RandomForest (0.928)</span>"
      ],
      "text/plain": [
       "<IPython.core.display.Markdown object>"
      ]
     },
     "metadata": {},
     "output_type": "display_data"
    },
    {
     "data": {
      "text/markdown": [
       "<span style='color:red'>**-0.11%** compared to Best Model Score (0.920)</span>"
      ],
      "text/plain": [
       "<IPython.core.display.Markdown object>"
      ]
     },
     "metadata": {},
     "output_type": "display_data"
    },
    {
     "data": {
      "text/markdown": [
       "#### Train size 70.00%,  Test size 30.00%"
      ],
      "text/plain": [
       "<IPython.core.display.Markdown object>"
      ]
     },
     "metadata": {},
     "output_type": "display_data"
    },
    {
     "data": {
      "text/markdown": [
       "_Train data accuracy:_ **1.000**"
      ],
      "text/plain": [
       "<IPython.core.display.Markdown object>"
      ]
     },
     "metadata": {},
     "output_type": "display_data"
    },
    {
     "data": {
      "text/markdown": [
       "_Train data cross-val(k=3) accuracy:_ **0.917**"
      ],
      "text/plain": [
       "<IPython.core.display.Markdown object>"
      ]
     },
     "metadata": {},
     "output_type": "display_data"
    },
    {
     "data": {
      "text/markdown": [
       "_Test data accuracy:_ **0.931**"
      ],
      "text/plain": [
       "<IPython.core.display.Markdown object>"
      ]
     },
     "metadata": {},
     "output_type": "display_data"
    },
    {
     "data": {
      "text/markdown": [
       "<span style='color:green'>**6.79%** compared to default DecisionTree (0.872)</span>"
      ],
      "text/plain": [
       "<IPython.core.display.Markdown object>"
      ]
     },
     "metadata": {},
     "output_type": "display_data"
    },
    {
     "data": {
      "text/markdown": [
       "<span style='color:green'>**0.39%** compared to default RandomForest (0.928)</span>"
      ],
      "text/plain": [
       "<IPython.core.display.Markdown object>"
      ]
     },
     "metadata": {},
     "output_type": "display_data"
    },
    {
     "data": {
      "text/markdown": [
       "<span style='color:red'>**-0.26%** compared to Best Model Score (0.920)</span>"
      ],
      "text/plain": [
       "<IPython.core.display.Markdown object>"
      ]
     },
     "metadata": {},
     "output_type": "display_data"
    }
   ],
   "source": [
    "_split_ratios = np.linspace(0.1, 0.3, num=5)\n",
    "for _split in _split_ratios:\n",
    "    printmd(f\"#### Train size {(100-_split*100):.2f}%,  Test size {_split*100:.2f}%\")\n",
    "    _df_x_train, _df_x_test, _df_y_train, _df_y_test = train_test_split(df_x, df_y, test_size = _split, random_state=RAND_STATE)\n",
    "    pipe_ = CustomPipe(classifier=RandomForestClassifier)\n",
    "    pipe_.pipe.set_params(**best.best_params_)\n",
    "    pipe_.fit( _df_x_train, _df_y_train )\n",
    "    eval_model_accuracy(pipe_, _df_x_train, _df_x_test, _df_y_train, _df_y_test)"
   ]
  },
  {
   "cell_type": "markdown",
   "id": "073307ff",
   "metadata": {},
   "source": [
    "## Conclusion\n",
    "\n",
    "*All of the accuracies below are results of fitting the train data and predicting target value on **test** data.*\n",
    "\n",
    "\n",
    "- Our own **OneR** had accuracy ~ **67%** using rules on single feature (in our case *etytr*). Such low accuracy is not acceptable in real-world application.\n",
    "\n",
    "- **Decision Tree** with default settings (no tuning) had accuracy of **87.19%** as it used all features and more sophisticated rules.\n",
    "\n",
    "- By **ensemble learning** (executing 100x Decision Tree and selecting the best result) we reached accuracy of **92.76%**\n",
    "\n",
    "- By tuning the **hyperparameters** of the RandomForestClassifier and finding the best combination using GridSearchCV we managed to achieve accuracy of **93.00%**. The settings are:\n",
    "    - bootstrap: False\n",
    "    - criterion : entropy\n",
    "    - max_depth : 30\n",
    "    - min_samples_leaf : 1\n",
    "    - min_samples_split : 2\n",
    "    - n_estimators : 100\n",
    "\n",
    "- **Dropping outliers & NA** values lowered the accuracy of the model to **86.20%** as they make high percentage of the data, **dropping only NA** or other scenarios (keep outliers & impute NA) didn't significantly effect the results at all.\n",
    "\n",
    "- **Normalization** didn't produce great results - the accuracy was **89.20%**, **Scaler** didn't make effect at all - the max accuracy was **93.00%** in both cases - when the scaler was applied and when it wasn't used.\n",
    "\n",
    "- Default model used all of the features. When fitting only the subset of features, the accuracy fell as expected due to the lower amount of rules applied in the decision tree. However, when there are large amounts of features, the size of the tree grows and so does the computation complexity.\n",
    "    - **1 Best Feature 61.90%**\n",
    "    - **3 Best Features 83.60%**\n",
    "    - **5 Best Features 87.40%**\n",
    "    - **10 Best Features 91.00%**\n",
    "    \n",
    "- We tried different train and test size split ratios and max accuracy was **93.20%** with 75:25 ratio, min was **92.70%** using 85:15 ratio.\n",
    "\n",
    "**We managed to improve the overfit default tree model from 87% accuracy to over 93%.** "
   ]
  },
  {
   "cell_type": "markdown",
   "id": "2abbea69",
   "metadata": {},
   "source": [
    "## Bonus: The Old OneR Classifier\n",
    "\n",
    "In addition, we decided to leave here our first try of creation OneR Classifier. It isn't the right way to implement this algorithm (as we have defined the rules by ourselves), but we still do think it has been a great idea and may be used as an inspiration for somebody else to create something interesting too :)"
   ]
  },
  {
   "cell_type": "markdown",
   "id": "9c2948c6",
   "metadata": {},
   "source": [
    "The graphs below also show that indicator_1 is the dominant group (in comparison with the indicator_0)."
   ]
  },
  {
   "cell_type": "code",
   "execution_count": 59,
   "id": "561e3460",
   "metadata": {},
   "outputs": [
    {
     "data": {
      "image/png": "[encoded data removed]",
      "text/plain": [
       "<Figure size 288x288 with 3 Axes>"
      ]
     },
     "metadata": {
      "needs_background": "light"
     },
     "output_type": "display_data"
    },
    {
     "data": {
      "image/png": "[encoded data removed]",
      "text/plain": [
       "<Figure size 288x288 with 3 Axes>"
      ]
     },
     "metadata": {
      "needs_background": "light"
     },
     "output_type": "display_data"
    },
    {
     "data": {
      "image/png": "[encoded data removed]",
      "text/plain": [
       "<Figure size 288x288 with 3 Axes>"
      ]
     },
     "metadata": {
      "needs_background": "light"
     },
     "output_type": "display_data"
    },
    {
     "data": {
      "image/png": "[encoded data removed]",
      "text/plain": [
       "<Figure size 288x288 with 3 Axes>"
      ]
     },
     "metadata": {
      "needs_background": "light"
     },
     "output_type": "display_data"
    }
   ],
   "source": [
    "cols = [('alt','alp'),('etytr','alp'),('leukocyty','erytrocyty'),('hemoglobin','erytrocyty')]\n",
    "for row,col in cols:\n",
    "    sns.jointplot(data=df_x_train.join(df_y_train), x=row, y=col, kind='kde', height=4, fill = True, hue='indicator',palette='Set1', joint_kws={'alpha': 0.7})"
   ]
  },
  {
   "cell_type": "code",
   "execution_count": 60,
   "id": "189aaf5a",
   "metadata": {
    "scrolled": false
   },
   "outputs": [
    {
     "data": {
      "text/markdown": [
       "**_Values inside of both red rectangles will be classified as indicator=0 and other values as indicator=1._**"
      ],
      "text/plain": [
       "<IPython.core.display.Markdown object>"
      ]
     },
     "metadata": {},
     "output_type": "display_data"
    },
    {
     "data": {
      "text/markdown": [
       "- Thresholds for splits are calculated from quantile values (gray dashed lines)."
      ],
      "text/plain": [
       "<IPython.core.display.Markdown object>"
      ]
     },
     "metadata": {},
     "output_type": "display_data"
    },
    {
     "data": {
      "text/plain": [
       "[<matplotlib.patches.Polygon at 0x1b0406881c0>]"
      ]
     },
     "execution_count": 60,
     "metadata": {},
     "output_type": "execute_result"
    },
    {
     "data": {
      "image/png": "[encoded data removed]",
      "text/plain": [
       "<Figure size 432x432 with 3 Axes>"
      ]
     },
     "metadata": {
      "needs_background": "light"
     },
     "output_type": "display_data"
    }
   ],
   "source": [
    "printmd(\"**_Values inside of both red rectangles will be classified as indicator=0 and other values as indicator=1._**\")\n",
    "printmd(\"- Thresholds for splits are calculated from quantile values (gray dashed lines).\")\n",
    "\n",
    "l_q_l = df_x_train['leukocyty'].quantile(0.55)\n",
    "e_q_l = df_x_train['erytrocyty'].quantile(0.50)\n",
    "l_q_u = df_x_train['leukocyty'].quantile(0.65)\n",
    "e_q_u = df_x_train['erytrocyty'].quantile(0.65)\n",
    "\n",
    "plot = sns.jointplot(data=df_x_train.join(df_y_train), x='leukocyty', y='erytrocyty', kind='kde', height=6, fill = True, hue='indicator', palette='Set1', joint_kws={'alpha': 0.7})\n",
    "plot.ax_joint.axvline(x=l_q_l, c='gray', lw=1.5, ls='--')\n",
    "plot.ax_joint.axhline(y=e_q_l, c='gray', lw=1.5, ls='--')\n",
    "plot.ax_joint.axvline(x=l_q_u, c='gray', lw=1.5, ls='--')\n",
    "plot.ax_joint.axhline(y=e_q_u, c='gray', lw=1.5, ls='--')\n",
    "\n",
    "max_val_y = plot.ax_joint.get_ylim()[1]\n",
    "max_val_x = plot.ax_joint.get_xlim()[1]\n",
    "\n",
    "plot.ax_joint.fill([0,l_q_l,l_q_l,0], [0,0,e_q_l,e_q_l], alpha=0.2, facecolor='red')\n",
    "plot.ax_joint.fill([max_val_x,l_q_u,l_q_u,max_val_x], [max_val_y,max_val_y,e_q_u, e_q_u], alpha=0.2, facecolor='red')\n",
    "plot.ax_joint.fill([l_q_u,l_q_u,l_q_l,l_q_l], [e_q_u, e_q_l, e_q_l, e_q_u], alpha=0.2, facecolor='red')"
   ]
  },
  {
   "cell_type": "code",
   "execution_count": 61,
   "id": "e12279fa",
   "metadata": {},
   "outputs": [
    {
     "data": {
      "text/markdown": [
       "**One Rule (Erytrocyty & Leukocyty Quantile Rules) Classifier**"
      ],
      "text/plain": [
       "<IPython.core.display.Markdown object>"
      ]
     },
     "metadata": {},
     "output_type": "display_data"
    },
    {
     "data": {
      "text/markdown": [
       "_Train data accuracy:_ **0.823**"
      ],
      "text/plain": [
       "<IPython.core.display.Markdown object>"
      ]
     },
     "metadata": {},
     "output_type": "display_data"
    },
    {
     "data": {
      "text/markdown": [
       "_Test data accuracy:_ **0.824**"
      ],
      "text/plain": [
       "<IPython.core.display.Markdown object>"
      ]
     },
     "metadata": {},
     "output_type": "display_data"
    }
   ],
   "source": [
    "class OneRuleMultipleClassifier(BaseEstimator, ClassifierMixin):\n",
    "    def __init__(self):\n",
    "        self.tresholds = {}  \n",
    "    \n",
    "    def fit(self, X):\n",
    "        self.tresholds['erytrocyty'] = [X['erytrocyty'].quantile(0.50),X['erytrocyty'].quantile(0.65)]\n",
    "        self.tresholds['leukocyty'] = [X['leukocyty'].quantile(0.55),X['leukocyty'].quantile(0.65)]\n",
    "    \n",
    "    def predict(self, X):\n",
    "        y_res = pd.Series(index=X.index, dtype='int')\n",
    "        for idx, row in X[['erytrocyty','leukocyty']].iterrows():\n",
    "            if ((row[0] <= self.tresholds['erytrocyty'][0] and row[1] <= self.tresholds['leukocyty'][0])\n",
    "               or (row[0] >= self.tresholds['erytrocyty'][1] and row[1] >= self.tresholds['leukocyty'][1])\n",
    "               or ((row[0] >= self.tresholds['erytrocyty'][0] and row[1] >= self.tresholds['leukocyty'][0])\n",
    "                   and (row[0] <= self.tresholds['erytrocyty'][1] and row[1] <= self.tresholds['leukocyty'][1]))\n",
    "               ):\n",
    "                y_res.loc[idx] = 0\n",
    "            else:\n",
    "                y_res.loc[idx] = 1\n",
    "        return y_res\n",
    "    \n",
    "OneRuleMultiple = OneRuleMultipleClassifier()\n",
    "OneRuleMultiple.fit(df_x_train)\n",
    "printmd(\"**One Rule (Erytrocyty & Leukocyty Quantile Rules) Classifier**\")\n",
    "printmd(f\"_Train data accuracy:_ **{OneRuleMultiple.score(df_x_train, df_y_train):.3f}**\")\n",
    "printmd(f\"_Test data accuracy:_ **{OneRuleMultiple.score(df_x_test, df_y_test):.3f}**\")"
   ]
  }
 ],
 "metadata": {
  "kernelspec": {
   "display_name": "Python 3 (ipykernel)",
   "language": "python",
   "name": "python3"
  },
  "language_info": {
   "codemirror_mode": {
    "name": "ipython",
    "version": 3
   },
   "file_extension": ".py",
   "mimetype": "text/x-python",
   "name": "python",
   "nbconvert_exporter": "python",
   "pygments_lexer": "ipython3",
   "version": "3.9.2"
  }
 },
 "nbformat": 4,
 "nbformat_minor": 5
}
