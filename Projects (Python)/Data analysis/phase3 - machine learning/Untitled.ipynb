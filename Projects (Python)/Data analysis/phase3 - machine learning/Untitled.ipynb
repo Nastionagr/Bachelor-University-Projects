{
 "cells": [
  {
   "cell_type": "code",
   "execution_count": null,
   "id": "63950369",
   "metadata": {},
   "outputs": [],
   "source": [
    "# Furthermore we implemented the method for the outlier's detection\n",
    "def outliers_iqr(df):\n",
    "    Q1 = df.quantile(0.25)\n",
    "    Q3 = df.quantile(0.75)\n",
    "    IQR = Q3 - Q1\n",
    "    return df[(df < (Q1 - 1.5 * IQR)) | (df > (Q3 + 1.5 * IQR))]"
   ]
  },
  {
   "cell_type": "code",
   "execution_count": null,
   "id": "efb7168d",
   "metadata": {},
   "outputs": [],
   "source": [
    "def replace_outliers_10_90(df, cols):\n",
    "    for col in cols: \n",
    "        Q1 = df[col].quantile(0.25)\n",
    "        Q3 = df[col].quantile(0.75)\n",
    "        IQR = Q3 - Q1\n",
    "        lower, upper = Q1 - 1.5 * IQR, Q3 + 1.5 * IQR\n",
    "        outliers_lower = df[col][ df[col]<lower ]\n",
    "        outliers_upper = df[col][ df[col]>upper ]\n",
    "        \n",
    "        p95 = df[col].quantile(0.90)\n",
    "        p5 = df[col].quantile(0.10)\n",
    "        for idx in outliers_lower.index:\n",
    "            df[col][idx] = p5\n",
    "        for idx in outliers_upper.index:\n",
    "            df[col][idx] = p95       \n",
    "    return df"
   ]
  },
  {
   "cell_type": "code",
   "execution_count": null,
   "id": "122ba917",
   "metadata": {},
   "outputs": [],
   "source": [
    "def replace_outliers_average(df, cols):\n",
    "    for col in cols: \n",
    "        Q1 = df[col].quantile(0.25)\n",
    "        Q3 = df[col].quantile(0.75)\n",
    "        IQR = Q3 - Q1\n",
    "        lower, upper = Q1 - 1.5 * IQR, Q3 + 1.5 * IQR\n",
    "        outliers_lower = df[col][ df[col]<lower ]\n",
    "        outliers_upper = df[col][ df[col]>upper ]\n",
    "        \n",
    "        p50 = df[col].quantile(0.50)\n",
    "        for idx in outliers_lower.index:\n",
    "            df[col][idx] = p50\n",
    "        for idx in outliers_upper.index:\n",
    "            df[col][idx] = p50        \n",
    "    return df"
   ]
  },
  {
   "cell_type": "code",
   "execution_count": null,
   "id": "3e54c7e7",
   "metadata": {},
   "outputs": [],
   "source": [
    "def transform_data1(df_):\n",
    "    # Data encoding\n",
    "    df = df_.copy(deep=True)\n",
    "    ordinal_cols = ['blood_group','race','relationship','sex']\n",
    "    ce_ordinal = ce.OrdinalEncoder(cols=ordinal_cols)\n",
    "    df = ce_ordinal.fit_transform(df)\n",
    "    # In our project we choose to replace NA values with the mean value of each column\n",
    "    df = df.fillna(df.mean(numeric_only=True))\n",
    "    \n",
    "#     Remove outliers in those attributes with less than 100 outliers\n",
    "    out_iqr = outliers_iqr(df)\n",
    "    outliers_iqr_count = out_iqr.count()\n",
    "    out_iqr_0_100 = outliers_iqr_count[(outliers_iqr_count > 0) & (outliers_iqr_count < 100)]\n",
    "    df = df.drop(out_iqr[out_iqr_0_100.index.tolist()].dropna(how='all').index)\n",
    "\n",
    "# #     In such columns, which are not categorical and contains many outliers (alt & etytr for example), \n",
    "# #     we have replaced them with an average values, 10% or 90% quantiles (to get more significant modification of them)\n",
    "    df = replace_outliers_average(df, ['alt'])\n",
    "    df = replace_outliers_10_90(df, ['etytr'])\n",
    "    return df"
   ]
  },
  {
   "cell_type": "code",
   "execution_count": null,
   "id": "a8adb536",
   "metadata": {},
   "outputs": [],
   "source": [
    "# Scaling and normalizing train data\n",
    "def transform_data(df):\n",
    "    transformer_step = ColumnTransformer(remainder='passthrough', transformers=[('alt', PowerTransformer(), ['alt'])])\n",
    "    pipe = Pipeline([\n",
    "        ('alt', transformer_step),\n",
    "        ('scaler',StandardScaler()),\n",
    "        ('normalizer',Normalizer())])\n",
    "    cols = list(dict.fromkeys(['alt']+df.columns.tolist()))\n",
    "    return pd.DataFrame(pipe.fit_transform(df), columns=cols)"
   ]
  },
  {
   "cell_type": "code",
   "execution_count": null,
   "id": "88373bd3",
   "metadata": {},
   "outputs": [],
   "source": [
    "class OneRuleClassifier(BaseEstimator, ClassifierMixin):\n",
    "    def __init__(self):\n",
    "        self.freq = None\n",
    "    \n",
    "    def fit(self, X, y, bins=10):\n",
    "        X_ = pd.qcut(X, bins, labels=False, duplicates='drop')\n",
    "        df_freq = pd.crosstab(X_, y)\n",
    "        self.freq = df_freq\n",
    "    \n",
    "    def predict(self):\n",
    "        df_max = self.freq.idxmax(axis=1)\n",
    "        result = {'Indicator_0': [0, 0], 'Indicator_1': [0, 0]}\n",
    "        for idx, row in self.freq.iterrows():\n",
    "            if (df_max[idx] == 0):\n",
    "                result['Indicator_0'][0]+=row[0]\n",
    "                result['Indicator_1'][0]+=row[1]\n",
    "            else:\n",
    "                result['Indicator_0'][1]+=row[0]\n",
    "                result['Indicator_1'][1]+=row[1]\n",
    "        TN, TP, FN, FP = result['Indicator_0'][0], result['Indicator_1'][1], result['Indicator_1'][0], result['Indicator_0'][1] \n",
    "        \n",
    "        accuracy = (TP+TN) / (TP+FP+FN+TN)\n",
    "        precision = TP / (TP+FP)\n",
    "        recall = TP / (TP+FN)\n",
    "        return accuracy, precision, recall\n",
    "\n",
    "X = df_x_train[features]\n",
    "y = df_y_train\n",
    "bins = range(1, 1000, 50)\n",
    "oneRData = {'Bins': bins}\n",
    "for col in X.columns.tolist():\n",
    "    oneRData[col] = []\n",
    "    for bin_cnt in bins:\n",
    "        OneRule = OneRuleClassifier()\n",
    "        OneRule.fit(X[col], y, bin_cnt)\n",
    "        accuracy, precision, recall = OneRule.predict()\n",
    "        oneRData[col].append(accuracy)\n",
    "\n",
    "pd.DataFrame(oneRData).plot(x='Bins',subplots=True, figsize=(14,20), layout=(9,2))\n",
    "printmd(\"**One Rule (Frequency Table) Classifier**\")\n",
    "print(\"Max accuracy for each feature on train data:\")\n",
    "print(pd.DataFrame(oneRData).drop(columns=['Bins']).max())"
   ]
  },
  {
   "cell_type": "code",
   "execution_count": 1,
   "id": "9eb81e04",
   "metadata": {},
   "outputs": [
    {
     "data": {
      "text/plain": [
       "range(0, 5)"
      ]
     },
     "execution_count": 1,
     "metadata": {},
     "output_type": "execute_result"
    }
   ],
   "source": [
    "range(5)"
   ]
  },
  {
   "cell_type": "code",
   "execution_count": 2,
   "id": "f1d55317",
   "metadata": {},
   "outputs": [
    {
     "data": {
      "text/plain": [
       "[0, 1, 2, 3, 4]"
      ]
     },
     "execution_count": 2,
     "metadata": {},
     "output_type": "execute_result"
    }
   ],
   "source": [
    "[x for x in range(5)]"
   ]
  },
  {
   "cell_type": "code",
   "execution_count": 9,
   "id": "7309df06",
   "metadata": {},
   "outputs": [],
   "source": [
    "import pandas as pd\n",
    "pd.Interval(0,1,'right')\n",
    "b = 4"
   ]
  },
  {
   "cell_type": "code",
   "execution_count": 10,
   "id": "db372a83",
   "metadata": {},
   "outputs": [
    {
     "name": "stdout",
     "output_type": "stream",
     "text": [
      "5\n"
     ]
    }
   ],
   "source": [
    "a = 5\n",
    "\n",
    "if 'b' in globals():\n",
    "    print(a)"
   ]
  },
  {
   "cell_type": "code",
   "execution_count": null,
   "id": "288cd0e8",
   "metadata": {},
   "outputs": [],
   "source": []
  }
 ],
 "metadata": {
  "kernelspec": {
   "display_name": "Python 3 (ipykernel)",
   "language": "python",
   "name": "python3"
  },
  "language_info": {
   "codemirror_mode": {
    "name": "ipython",
    "version": 3
   },
   "file_extension": ".py",
   "mimetype": "text/x-python",
   "name": "python",
   "nbconvert_exporter": "python",
   "pygments_lexer": "ipython3",
   "version": "3.9.2"
  }
 },
 "nbformat": 4,
 "nbformat_minor": 5
}
